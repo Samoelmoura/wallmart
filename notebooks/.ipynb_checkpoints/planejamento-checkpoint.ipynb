{
 "cells": [
  {
   "cell_type": "markdown",
   "id": "d9330f26",
   "metadata": {},
   "source": [
    "# Inputs"
   ]
  },
  {
   "cell_type": "markdown",
   "id": "3e29e676",
   "metadata": {},
   "source": [
    "* Dados\n",
    "* Problema de Negócio: criar um modelo de predoções de vendas"
   ]
  },
  {
   "cell_type": "markdown",
   "id": "18b7daa4",
   "metadata": {},
   "source": [
    "# Planejamento de Solução"
   ]
  },
  {
   "cell_type": "markdown",
   "id": "4fe0495f",
   "metadata": {},
   "source": [
    "* Api que captura condições climáticas\n",
    "* Api que captura condições sobre taxa de desemprego\n",
    "* Api que captura condições sobre taxa de Índice de Preço ao Consumidor\n",
    "* Api que captura condições sobre taxa de Preço médio do combustível (regional ou país todo?)\n",
    "\n",
    "* Dag que faz a captura do relatório de venda das lojas e envia para o banco de dados\n",
    "* Dag que faz envio do dataset completo com todos os requisitos satisfeitos para criar predições\n",
    "* Dag que faz a atualização dos dados na página web\n",
    "* Dag que faz o envio de mensagens para o celular do gesto"
   ]
  },
  {
   "cell_type": "markdown",
   "id": "88398454",
   "metadata": {},
   "source": [
    "# Outputs"
   ]
  },
  {
   "cell_type": "markdown",
   "id": "016aa916",
   "metadata": {},
   "source": [
    "* Predições\n",
    "* Algorítmo treinado para fazer predições\n",
    "* Página web com detalhes relevantes\n",
    "* API de envio de mensagem por telegram\n",
    "* Insights (pdf ou via web)"
   ]
  }
 ],
 "metadata": {
  "kernelspec": {
   "display_name": "Python 3 (ipykernel)",
   "language": "python",
   "name": "python3"
  },
  "language_info": {
   "codemirror_mode": {
    "name": "ipython",
    "version": 3
   },
   "file_extension": ".py",
   "mimetype": "text/x-python",
   "name": "python",
   "nbconvert_exporter": "python",
   "pygments_lexer": "ipython3",
   "version": "3.10.12"
  }
 },
 "nbformat": 4,
 "nbformat_minor": 5
}
