{
 "cells": [
  {
   "cell_type": "markdown",
   "id": "1d92f128",
   "metadata": {},
   "source": [
    "# 1.0 Inputs"
   ]
  },
  {
   "cell_type": "markdown",
   "id": "75ce5c20",
   "metadata": {},
   "source": [
    "#### 1.1 Dados: dados de vendas semanais das lojas do Wallmart separado entre lojas e setores:\n",
    "* Dados históricos de vendas\n",
    "* Características das lojas\n",
    "* Dados macroeconômicos\n",
    "* Dados climáticos\n",
    "#### 1.2 Problema de Negócio: Necessidade da crição de um processo de predição de vendas dos próximos períodos das lojas do Wallmart"
   ]
  },
  {
   "cell_type": "markdown",
   "id": "fd396954",
   "metadata": {},
   "source": [
    "# 2.0 Outputs"
   ]
  },
  {
   "cell_type": "markdown",
   "id": "435552fb",
   "metadata": {},
   "source": [
    "#### 2.1 Modelo de Machine Learning treinado que faz as predições\n",
    "#### 2.2 Métricas\n",
    "#### 2.3 API com o modelo de Machine Learning disponível para processamento\n",
    "#### 2.4 Mensagens periódicas para o celular do gestor contendo informações sobre as vendas e as predições\n",
    "#### 2.5 Página web com informações detalhadas e atualizadas sobre as vendas e as predições"
   ]
  },
  {
   "cell_type": "markdown",
   "id": "d1bdb5ff",
   "metadata": {},
   "source": [
    "# 3.0 Passos"
   ]
  },
  {
   "cell_type": "markdown",
   "id": "1b61284a",
   "metadata": {},
   "source": [
    "#### 3.1 **Treinamento de algorítimo de Machine Learning**\n",
    "#### 3.2 Estudo de métricas e melhores algorítimos\n",
    "#### 3.3 Workflow de coleta de dados contínuos\n",
    "#### 3.4 Criação de uma API criar uma comunicação entre o modelo preditivo e o gestor\n",
    "#### 3.5 Criação de uma página web com um workflow de atualização periódica com dados sobre as vendas e as predições\n",
    "#### 3.6 Criação de um workflow que faz envios periódicos para o celular do gestor contendo informações sobre as vendas, predições, e url da página web com maiores detalhes"
   ]
  }
 ],
 "metadata": {
  "kernelspec": {
   "display_name": "Python 3 (ipykernel)",
   "language": "python",
   "name": "python3"
  },
  "language_info": {
   "codemirror_mode": {
    "name": "ipython",
    "version": 3
   },
   "file_extension": ".py",
   "mimetype": "text/x-python",
   "name": "python",
   "nbconvert_exporter": "python",
   "pygments_lexer": "ipython3",
   "version": "3.10.12"
  }
 },
 "nbformat": 4,
 "nbformat_minor": 5
}
