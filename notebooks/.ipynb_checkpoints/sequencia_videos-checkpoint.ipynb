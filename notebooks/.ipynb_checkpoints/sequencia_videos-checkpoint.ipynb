{
 "cells": [
  {
   "cell_type": "markdown",
   "id": "3dc9f95a",
   "metadata": {},
   "source": [
    "## <font color='white'> Video 1\n",
    "##### <font color='white'> Demonstração do produto"
   ]
  },
  {
   "cell_type": "markdown",
   "id": "dccff583",
   "metadata": {
    "ExecuteTime": {
     "end_time": "2023-09-10T18:14:53.307595Z",
     "start_time": "2023-09-10T18:14:53.153507Z"
    }
   },
   "source": [
    "## <font color='white'> Video 2\n",
    "##### <font color='white'> Planejamento da solução"
   ]
  },
  {
   "cell_type": "markdown",
   "id": "7eb14b07",
   "metadata": {},
   "source": [
    "## <font color='white'> Video 3\n",
    "##### <font color='white'> Entendimento/descrição dos dados, merging das tabelas, transformações dos tipos de variáveis, mudança de granularidade, reescalas, encodings, modelagem de Machine Learning e métricas"
   ]
  },
  {
   "cell_type": "markdown",
   "id": "b2392994",
   "metadata": {},
   "source": [
    "# Video 4\n",
    "### Construção da API para fazer a comunicação do algorítimo de Machine Learning com os outros serviços."
   ]
  }
 ],
 "metadata": {
  "kernelspec": {
   "display_name": "Python 3 (ipykernel)",
   "language": "python",
   "name": "python3"
  },
  "language_info": {
   "codemirror_mode": {
    "name": "ipython",
    "version": 3
   },
   "file_extension": ".py",
   "mimetype": "text/x-python",
   "name": "python",
   "nbconvert_exporter": "python",
   "pygments_lexer": "ipython3",
   "version": "3.10.12"
  }
 },
 "nbformat": 4,
 "nbformat_minor": 5
}
