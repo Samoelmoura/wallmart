{
 "cells": [
  {
   "cell_type": "markdown",
   "id": "ad613fb7",
   "metadata": {
    "heading_collapsed": true
   },
   "source": [
    "# 0.0 Imports"
   ]
  },
  {
   "cell_type": "code",
   "execution_count": 30,
   "id": "ce3f3615",
   "metadata": {
    "ExecuteTime": {
     "end_time": "2023-09-09T15:56:20.794425Z",
     "start_time": "2023-09-09T15:56:20.790601Z"
    },
    "hidden": true
   },
   "outputs": [],
   "source": [
    "import pandas as pd\n",
    "import seaborn as sns\n",
    "import numpy as np\n",
    "import matplotlib.pyplot as plt\n",
    "import sklearn.preprocessing as pp\n",
    "from sklearn.linear_model import LinearRegression\n",
    "from sklearn.ensemble import RandomForestRegressor\n",
    "from xgboost import XGBRegressor\n",
    "import pickle as pkl"
   ]
  },
  {
   "cell_type": "markdown",
   "id": "7636dedd",
   "metadata": {
    "heading_collapsed": true,
    "hidden": true
   },
   "source": [
    "## 0.1 Datasets"
   ]
  },
  {
   "cell_type": "code",
   "execution_count": 2,
   "id": "cd936846",
   "metadata": {
    "ExecuteTime": {
     "end_time": "2023-09-09T15:55:50.268454Z",
     "start_time": "2023-09-09T15:55:50.113637Z"
    },
    "hidden": true
   },
   "outputs": [],
   "source": [
    "features = pd.read_csv('../data/raw/features.csv')\n",
    "stores = pd.read_csv('../data/raw/stores.csv')\n",
    "train = pd.read_csv('../data/raw/train.csv')"
   ]
  },
  {
   "cell_type": "markdown",
   "id": "4812e5a5",
   "metadata": {
    "heading_collapsed": true
   },
   "source": [
    "# 1.0 Data Description"
   ]
  },
  {
   "cell_type": "markdown",
   "id": "812f6391",
   "metadata": {
    "heading_collapsed": true,
    "hidden": true
   },
   "source": [
    "## 1.1 Looking Datasets"
   ]
  },
  {
   "cell_type": "code",
   "execution_count": 3,
   "id": "f24b12db",
   "metadata": {
    "ExecuteTime": {
     "end_time": "2023-09-09T15:55:50.293245Z",
     "start_time": "2023-09-09T15:55:50.271627Z"
    },
    "hidden": true
   },
   "outputs": [
    {
     "data": {
      "text/html": [
       "<div>\n",
       "<style scoped>\n",
       "    .dataframe tbody tr th:only-of-type {\n",
       "        vertical-align: middle;\n",
       "    }\n",
       "\n",
       "    .dataframe tbody tr th {\n",
       "        vertical-align: top;\n",
       "    }\n",
       "\n",
       "    .dataframe thead th {\n",
       "        text-align: right;\n",
       "    }\n",
       "</style>\n",
       "<table border=\"1\" class=\"dataframe\">\n",
       "  <thead>\n",
       "    <tr style=\"text-align: right;\">\n",
       "      <th></th>\n",
       "      <th>Store</th>\n",
       "      <th>Date</th>\n",
       "      <th>Temperature</th>\n",
       "      <th>Fuel_Price</th>\n",
       "      <th>MarkDown1</th>\n",
       "      <th>MarkDown2</th>\n",
       "      <th>MarkDown3</th>\n",
       "      <th>MarkDown4</th>\n",
       "      <th>MarkDown5</th>\n",
       "      <th>CPI</th>\n",
       "      <th>Unemployment</th>\n",
       "      <th>IsHoliday</th>\n",
       "    </tr>\n",
       "  </thead>\n",
       "  <tbody>\n",
       "    <tr>\n",
       "      <th>0</th>\n",
       "      <td>1</td>\n",
       "      <td>2010-02-05</td>\n",
       "      <td>42.31</td>\n",
       "      <td>2.572</td>\n",
       "      <td>NaN</td>\n",
       "      <td>NaN</td>\n",
       "      <td>NaN</td>\n",
       "      <td>NaN</td>\n",
       "      <td>NaN</td>\n",
       "      <td>211.096358</td>\n",
       "      <td>8.106</td>\n",
       "      <td>False</td>\n",
       "    </tr>\n",
       "    <tr>\n",
       "      <th>1</th>\n",
       "      <td>1</td>\n",
       "      <td>2010-02-12</td>\n",
       "      <td>38.51</td>\n",
       "      <td>2.548</td>\n",
       "      <td>NaN</td>\n",
       "      <td>NaN</td>\n",
       "      <td>NaN</td>\n",
       "      <td>NaN</td>\n",
       "      <td>NaN</td>\n",
       "      <td>211.242170</td>\n",
       "      <td>8.106</td>\n",
       "      <td>True</td>\n",
       "    </tr>\n",
       "    <tr>\n",
       "      <th>2</th>\n",
       "      <td>1</td>\n",
       "      <td>2010-02-19</td>\n",
       "      <td>39.93</td>\n",
       "      <td>2.514</td>\n",
       "      <td>NaN</td>\n",
       "      <td>NaN</td>\n",
       "      <td>NaN</td>\n",
       "      <td>NaN</td>\n",
       "      <td>NaN</td>\n",
       "      <td>211.289143</td>\n",
       "      <td>8.106</td>\n",
       "      <td>False</td>\n",
       "    </tr>\n",
       "    <tr>\n",
       "      <th>3</th>\n",
       "      <td>1</td>\n",
       "      <td>2010-02-26</td>\n",
       "      <td>46.63</td>\n",
       "      <td>2.561</td>\n",
       "      <td>NaN</td>\n",
       "      <td>NaN</td>\n",
       "      <td>NaN</td>\n",
       "      <td>NaN</td>\n",
       "      <td>NaN</td>\n",
       "      <td>211.319643</td>\n",
       "      <td>8.106</td>\n",
       "      <td>False</td>\n",
       "    </tr>\n",
       "    <tr>\n",
       "      <th>4</th>\n",
       "      <td>1</td>\n",
       "      <td>2010-03-05</td>\n",
       "      <td>46.50</td>\n",
       "      <td>2.625</td>\n",
       "      <td>NaN</td>\n",
       "      <td>NaN</td>\n",
       "      <td>NaN</td>\n",
       "      <td>NaN</td>\n",
       "      <td>NaN</td>\n",
       "      <td>211.350143</td>\n",
       "      <td>8.106</td>\n",
       "      <td>False</td>\n",
       "    </tr>\n",
       "  </tbody>\n",
       "</table>\n",
       "</div>"
      ],
      "text/plain": [
       "   Store        Date  Temperature  Fuel_Price  MarkDown1  MarkDown2  \\\n",
       "0      1  2010-02-05        42.31       2.572        NaN        NaN   \n",
       "1      1  2010-02-12        38.51       2.548        NaN        NaN   \n",
       "2      1  2010-02-19        39.93       2.514        NaN        NaN   \n",
       "3      1  2010-02-26        46.63       2.561        NaN        NaN   \n",
       "4      1  2010-03-05        46.50       2.625        NaN        NaN   \n",
       "\n",
       "   MarkDown3  MarkDown4  MarkDown5         CPI  Unemployment  IsHoliday  \n",
       "0        NaN        NaN        NaN  211.096358         8.106      False  \n",
       "1        NaN        NaN        NaN  211.242170         8.106       True  \n",
       "2        NaN        NaN        NaN  211.289143         8.106      False  \n",
       "3        NaN        NaN        NaN  211.319643         8.106      False  \n",
       "4        NaN        NaN        NaN  211.350143         8.106      False  "
      ]
     },
     "execution_count": 3,
     "metadata": {},
     "output_type": "execute_result"
    }
   ],
   "source": [
    "features.head()"
   ]
  },
  {
   "cell_type": "code",
   "execution_count": 4,
   "id": "1c82d152",
   "metadata": {
    "ExecuteTime": {
     "end_time": "2023-09-09T15:55:50.309966Z",
     "start_time": "2023-09-09T15:55:50.295966Z"
    },
    "hidden": true
   },
   "outputs": [
    {
     "data": {
      "text/html": [
       "<div>\n",
       "<style scoped>\n",
       "    .dataframe tbody tr th:only-of-type {\n",
       "        vertical-align: middle;\n",
       "    }\n",
       "\n",
       "    .dataframe tbody tr th {\n",
       "        vertical-align: top;\n",
       "    }\n",
       "\n",
       "    .dataframe thead th {\n",
       "        text-align: right;\n",
       "    }\n",
       "</style>\n",
       "<table border=\"1\" class=\"dataframe\">\n",
       "  <thead>\n",
       "    <tr style=\"text-align: right;\">\n",
       "      <th></th>\n",
       "      <th>Store</th>\n",
       "      <th>Type</th>\n",
       "      <th>Size</th>\n",
       "    </tr>\n",
       "  </thead>\n",
       "  <tbody>\n",
       "    <tr>\n",
       "      <th>0</th>\n",
       "      <td>1</td>\n",
       "      <td>A</td>\n",
       "      <td>151315</td>\n",
       "    </tr>\n",
       "    <tr>\n",
       "      <th>1</th>\n",
       "      <td>2</td>\n",
       "      <td>A</td>\n",
       "      <td>202307</td>\n",
       "    </tr>\n",
       "    <tr>\n",
       "      <th>2</th>\n",
       "      <td>3</td>\n",
       "      <td>B</td>\n",
       "      <td>37392</td>\n",
       "    </tr>\n",
       "    <tr>\n",
       "      <th>3</th>\n",
       "      <td>4</td>\n",
       "      <td>A</td>\n",
       "      <td>205863</td>\n",
       "    </tr>\n",
       "    <tr>\n",
       "      <th>4</th>\n",
       "      <td>5</td>\n",
       "      <td>B</td>\n",
       "      <td>34875</td>\n",
       "    </tr>\n",
       "  </tbody>\n",
       "</table>\n",
       "</div>"
      ],
      "text/plain": [
       "   Store Type    Size\n",
       "0      1    A  151315\n",
       "1      2    A  202307\n",
       "2      3    B   37392\n",
       "3      4    A  205863\n",
       "4      5    B   34875"
      ]
     },
     "execution_count": 4,
     "metadata": {},
     "output_type": "execute_result"
    }
   ],
   "source": [
    "stores.head()"
   ]
  },
  {
   "cell_type": "code",
   "execution_count": 5,
   "id": "49e0b588",
   "metadata": {
    "ExecuteTime": {
     "end_time": "2023-09-09T15:55:50.326579Z",
     "start_time": "2023-09-09T15:55:50.314959Z"
    },
    "hidden": true
   },
   "outputs": [
    {
     "data": {
      "text/html": [
       "<div>\n",
       "<style scoped>\n",
       "    .dataframe tbody tr th:only-of-type {\n",
       "        vertical-align: middle;\n",
       "    }\n",
       "\n",
       "    .dataframe tbody tr th {\n",
       "        vertical-align: top;\n",
       "    }\n",
       "\n",
       "    .dataframe thead th {\n",
       "        text-align: right;\n",
       "    }\n",
       "</style>\n",
       "<table border=\"1\" class=\"dataframe\">\n",
       "  <thead>\n",
       "    <tr style=\"text-align: right;\">\n",
       "      <th></th>\n",
       "      <th>Store</th>\n",
       "      <th>Dept</th>\n",
       "      <th>Date</th>\n",
       "      <th>Weekly_Sales</th>\n",
       "      <th>IsHoliday</th>\n",
       "    </tr>\n",
       "  </thead>\n",
       "  <tbody>\n",
       "    <tr>\n",
       "      <th>0</th>\n",
       "      <td>1</td>\n",
       "      <td>1</td>\n",
       "      <td>2010-02-05</td>\n",
       "      <td>24924.50</td>\n",
       "      <td>False</td>\n",
       "    </tr>\n",
       "    <tr>\n",
       "      <th>1</th>\n",
       "      <td>1</td>\n",
       "      <td>1</td>\n",
       "      <td>2010-02-12</td>\n",
       "      <td>46039.49</td>\n",
       "      <td>True</td>\n",
       "    </tr>\n",
       "    <tr>\n",
       "      <th>2</th>\n",
       "      <td>1</td>\n",
       "      <td>1</td>\n",
       "      <td>2010-02-19</td>\n",
       "      <td>41595.55</td>\n",
       "      <td>False</td>\n",
       "    </tr>\n",
       "    <tr>\n",
       "      <th>3</th>\n",
       "      <td>1</td>\n",
       "      <td>1</td>\n",
       "      <td>2010-02-26</td>\n",
       "      <td>19403.54</td>\n",
       "      <td>False</td>\n",
       "    </tr>\n",
       "    <tr>\n",
       "      <th>4</th>\n",
       "      <td>1</td>\n",
       "      <td>1</td>\n",
       "      <td>2010-03-05</td>\n",
       "      <td>21827.90</td>\n",
       "      <td>False</td>\n",
       "    </tr>\n",
       "  </tbody>\n",
       "</table>\n",
       "</div>"
      ],
      "text/plain": [
       "   Store  Dept        Date  Weekly_Sales  IsHoliday\n",
       "0      1     1  2010-02-05      24924.50      False\n",
       "1      1     1  2010-02-12      46039.49       True\n",
       "2      1     1  2010-02-19      41595.55      False\n",
       "3      1     1  2010-02-26      19403.54      False\n",
       "4      1     1  2010-03-05      21827.90      False"
      ]
     },
     "execution_count": 5,
     "metadata": {},
     "output_type": "execute_result"
    }
   ],
   "source": [
    "train.head()"
   ]
  },
  {
   "cell_type": "markdown",
   "id": "efa08006",
   "metadata": {
    "heading_collapsed": true,
    "hidden": true
   },
   "source": [
    "## 1.2 Data Dimension"
   ]
  },
  {
   "cell_type": "code",
   "execution_count": 6,
   "id": "8cd4abda",
   "metadata": {
    "ExecuteTime": {
     "end_time": "2023-09-09T15:55:50.340366Z",
     "start_time": "2023-09-09T15:55:50.331481Z"
    },
    "hidden": true
   },
   "outputs": [
    {
     "data": {
      "text/plain": [
       "(421570, 5)"
      ]
     },
     "execution_count": 6,
     "metadata": {},
     "output_type": "execute_result"
    }
   ],
   "source": [
    "train.shape"
   ]
  },
  {
   "cell_type": "code",
   "execution_count": 7,
   "id": "56af5b41",
   "metadata": {
    "ExecuteTime": {
     "end_time": "2023-09-09T15:55:50.349265Z",
     "start_time": "2023-09-09T15:55:50.343169Z"
    },
    "hidden": true
   },
   "outputs": [
    {
     "data": {
      "text/plain": [
       "(45, 3)"
      ]
     },
     "execution_count": 7,
     "metadata": {},
     "output_type": "execute_result"
    }
   ],
   "source": [
    "stores.shape"
   ]
  },
  {
   "cell_type": "code",
   "execution_count": 8,
   "id": "77c72dc7",
   "metadata": {
    "ExecuteTime": {
     "end_time": "2023-09-09T15:55:50.357347Z",
     "start_time": "2023-09-09T15:55:50.351641Z"
    },
    "hidden": true
   },
   "outputs": [
    {
     "data": {
      "text/plain": [
       "(8190, 12)"
      ]
     },
     "execution_count": 8,
     "metadata": {},
     "output_type": "execute_result"
    }
   ],
   "source": [
    "features.shape"
   ]
  },
  {
   "cell_type": "markdown",
   "id": "73b6baba",
   "metadata": {
    "heading_collapsed": true,
    "hidden": true
   },
   "source": [
    "## 1.3 Change Column Names"
   ]
  },
  {
   "cell_type": "code",
   "execution_count": null,
   "id": "a3f8a7ca",
   "metadata": {
    "hidden": true
   },
   "outputs": [],
   "source": [
    "temp = []\n",
    "for i in features.columns:\n",
    "    temp.append(i.lower())\n",
    "features.columns = temp"
   ]
  },
  {
   "cell_type": "code",
   "execution_count": null,
   "id": "93335f8f",
   "metadata": {
    "hidden": true
   },
   "outputs": [],
   "source": [
    "temp = []\n",
    "for i in stores.columns:\n",
    "    temp.append(i.lower())\n",
    "stores.columns = temp"
   ]
  },
  {
   "cell_type": "code",
   "execution_count": null,
   "id": "9af8a976",
   "metadata": {
    "hidden": true
   },
   "outputs": [],
   "source": [
    "temp = []\n",
    "for i in train.columns:\n",
    "    temp.append(i.lower())\n",
    "train.columns = temp"
   ]
  },
  {
   "cell_type": "markdown",
   "id": "9f1f4814",
   "metadata": {
    "heading_collapsed": true,
    "hidden": true
   },
   "source": [
    "## 1.4 Merging Data"
   ]
  },
  {
   "cell_type": "code",
   "execution_count": 10,
   "id": "df22afd4",
   "metadata": {
    "ExecuteTime": {
     "end_time": "2023-09-09T15:55:50.535230Z",
     "start_time": "2023-09-09T15:55:50.367393Z"
    },
    "hidden": true
   },
   "outputs": [],
   "source": [
    "df = train.merge(features.drop('isholiday', axis=1), on=['store', 'date'], how='left')\n",
    "\n",
    "df = df.merge(stores, on='store', how='left')"
   ]
  },
  {
   "cell_type": "code",
   "execution_count": 11,
   "id": "ef346dbf",
   "metadata": {
    "ExecuteTime": {
     "end_time": "2023-09-09T15:55:50.550063Z",
     "start_time": "2023-09-09T15:55:50.537399Z"
    },
    "hidden": true
   },
   "outputs": [
    {
     "data": {
      "text/html": [
       "<div>\n",
       "<style scoped>\n",
       "    .dataframe tbody tr th:only-of-type {\n",
       "        vertical-align: middle;\n",
       "    }\n",
       "\n",
       "    .dataframe tbody tr th {\n",
       "        vertical-align: top;\n",
       "    }\n",
       "\n",
       "    .dataframe thead th {\n",
       "        text-align: right;\n",
       "    }\n",
       "</style>\n",
       "<table border=\"1\" class=\"dataframe\">\n",
       "  <thead>\n",
       "    <tr style=\"text-align: right;\">\n",
       "      <th></th>\n",
       "      <th>store</th>\n",
       "      <th>dept</th>\n",
       "      <th>date</th>\n",
       "      <th>weekly_sales</th>\n",
       "      <th>isholiday</th>\n",
       "      <th>temperature</th>\n",
       "      <th>fuel_price</th>\n",
       "      <th>markdown1</th>\n",
       "      <th>markdown2</th>\n",
       "      <th>markdown3</th>\n",
       "      <th>markdown4</th>\n",
       "      <th>markdown5</th>\n",
       "      <th>cpi</th>\n",
       "      <th>unemployment</th>\n",
       "      <th>type</th>\n",
       "      <th>size</th>\n",
       "    </tr>\n",
       "  </thead>\n",
       "  <tbody>\n",
       "    <tr>\n",
       "      <th>0</th>\n",
       "      <td>1</td>\n",
       "      <td>1</td>\n",
       "      <td>2010-02-05</td>\n",
       "      <td>24924.50</td>\n",
       "      <td>False</td>\n",
       "      <td>42.31</td>\n",
       "      <td>2.572</td>\n",
       "      <td>NaN</td>\n",
       "      <td>NaN</td>\n",
       "      <td>NaN</td>\n",
       "      <td>NaN</td>\n",
       "      <td>NaN</td>\n",
       "      <td>211.096358</td>\n",
       "      <td>8.106</td>\n",
       "      <td>A</td>\n",
       "      <td>151315</td>\n",
       "    </tr>\n",
       "    <tr>\n",
       "      <th>1</th>\n",
       "      <td>1</td>\n",
       "      <td>1</td>\n",
       "      <td>2010-02-12</td>\n",
       "      <td>46039.49</td>\n",
       "      <td>True</td>\n",
       "      <td>38.51</td>\n",
       "      <td>2.548</td>\n",
       "      <td>NaN</td>\n",
       "      <td>NaN</td>\n",
       "      <td>NaN</td>\n",
       "      <td>NaN</td>\n",
       "      <td>NaN</td>\n",
       "      <td>211.242170</td>\n",
       "      <td>8.106</td>\n",
       "      <td>A</td>\n",
       "      <td>151315</td>\n",
       "    </tr>\n",
       "    <tr>\n",
       "      <th>2</th>\n",
       "      <td>1</td>\n",
       "      <td>1</td>\n",
       "      <td>2010-02-19</td>\n",
       "      <td>41595.55</td>\n",
       "      <td>False</td>\n",
       "      <td>39.93</td>\n",
       "      <td>2.514</td>\n",
       "      <td>NaN</td>\n",
       "      <td>NaN</td>\n",
       "      <td>NaN</td>\n",
       "      <td>NaN</td>\n",
       "      <td>NaN</td>\n",
       "      <td>211.289143</td>\n",
       "      <td>8.106</td>\n",
       "      <td>A</td>\n",
       "      <td>151315</td>\n",
       "    </tr>\n",
       "    <tr>\n",
       "      <th>3</th>\n",
       "      <td>1</td>\n",
       "      <td>1</td>\n",
       "      <td>2010-02-26</td>\n",
       "      <td>19403.54</td>\n",
       "      <td>False</td>\n",
       "      <td>46.63</td>\n",
       "      <td>2.561</td>\n",
       "      <td>NaN</td>\n",
       "      <td>NaN</td>\n",
       "      <td>NaN</td>\n",
       "      <td>NaN</td>\n",
       "      <td>NaN</td>\n",
       "      <td>211.319643</td>\n",
       "      <td>8.106</td>\n",
       "      <td>A</td>\n",
       "      <td>151315</td>\n",
       "    </tr>\n",
       "    <tr>\n",
       "      <th>4</th>\n",
       "      <td>1</td>\n",
       "      <td>1</td>\n",
       "      <td>2010-03-05</td>\n",
       "      <td>21827.90</td>\n",
       "      <td>False</td>\n",
       "      <td>46.50</td>\n",
       "      <td>2.625</td>\n",
       "      <td>NaN</td>\n",
       "      <td>NaN</td>\n",
       "      <td>NaN</td>\n",
       "      <td>NaN</td>\n",
       "      <td>NaN</td>\n",
       "      <td>211.350143</td>\n",
       "      <td>8.106</td>\n",
       "      <td>A</td>\n",
       "      <td>151315</td>\n",
       "    </tr>\n",
       "  </tbody>\n",
       "</table>\n",
       "</div>"
      ],
      "text/plain": [
       "   store  dept        date  weekly_sales  isholiday  temperature  fuel_price  \\\n",
       "0      1     1  2010-02-05      24924.50      False        42.31       2.572   \n",
       "1      1     1  2010-02-12      46039.49       True        38.51       2.548   \n",
       "2      1     1  2010-02-19      41595.55      False        39.93       2.514   \n",
       "3      1     1  2010-02-26      19403.54      False        46.63       2.561   \n",
       "4      1     1  2010-03-05      21827.90      False        46.50       2.625   \n",
       "\n",
       "   markdown1  markdown2  markdown3  markdown4  markdown5         cpi  \\\n",
       "0        NaN        NaN        NaN        NaN        NaN  211.096358   \n",
       "1        NaN        NaN        NaN        NaN        NaN  211.242170   \n",
       "2        NaN        NaN        NaN        NaN        NaN  211.289143   \n",
       "3        NaN        NaN        NaN        NaN        NaN  211.319643   \n",
       "4        NaN        NaN        NaN        NaN        NaN  211.350143   \n",
       "\n",
       "   unemployment type    size  \n",
       "0         8.106    A  151315  \n",
       "1         8.106    A  151315  \n",
       "2         8.106    A  151315  \n",
       "3         8.106    A  151315  \n",
       "4         8.106    A  151315  "
      ]
     },
     "execution_count": 11,
     "metadata": {},
     "output_type": "execute_result"
    }
   ],
   "source": [
    "df.head()"
   ]
  },
  {
   "cell_type": "markdown",
   "id": "91a8ed55",
   "metadata": {
    "heading_collapsed": true,
    "hidden": true
   },
   "source": [
    "## 1.5 Check Na"
   ]
  },
  {
   "cell_type": "code",
   "execution_count": 12,
   "id": "aa1bd243",
   "metadata": {
    "ExecuteTime": {
     "end_time": "2023-09-09T15:55:50.594938Z",
     "start_time": "2023-09-09T15:55:50.551432Z"
    },
    "hidden": true
   },
   "outputs": [
    {
     "data": {
      "text/plain": [
       "store           0.000000\n",
       "dept            0.000000\n",
       "date            0.000000\n",
       "weekly_sales    0.000000\n",
       "isholiday       0.000000\n",
       "temperature     0.000000\n",
       "fuel_price      0.000000\n",
       "markdown1       0.642572\n",
       "markdown2       0.736110\n",
       "markdown3       0.674808\n",
       "markdown4       0.679847\n",
       "markdown5       0.640790\n",
       "cpi             0.000000\n",
       "unemployment    0.000000\n",
       "type            0.000000\n",
       "size            0.000000\n",
       "dtype: float64"
      ]
     },
     "execution_count": 12,
     "metadata": {},
     "output_type": "execute_result"
    }
   ],
   "source": [
    "df.isna().sum() / df.shape[0] "
   ]
  },
  {
   "cell_type": "markdown",
   "id": "a99b8129",
   "metadata": {
    "heading_collapsed": true,
    "hidden": true
   },
   "source": [
    "## 1.6 Removing Nas"
   ]
  },
  {
   "cell_type": "code",
   "execution_count": 13,
   "id": "ea11961b",
   "metadata": {
    "ExecuteTime": {
     "end_time": "2023-09-09T15:55:50.620960Z",
     "start_time": "2023-09-09T15:55:50.596762Z"
    },
    "hidden": true
   },
   "outputs": [],
   "source": [
    "df.drop('markdown1 markdown2 markdown3 markdown4 markdown5'.split(), axis=1, inplace=True)"
   ]
  },
  {
   "cell_type": "markdown",
   "id": "ceb20cb5",
   "metadata": {
    "heading_collapsed": true,
    "hidden": true
   },
   "source": [
    "## 1.7 Datatypes"
   ]
  },
  {
   "cell_type": "code",
   "execution_count": 14,
   "id": "60b56ad2",
   "metadata": {
    "ExecuteTime": {
     "end_time": "2023-09-09T15:55:50.630931Z",
     "start_time": "2023-09-09T15:55:50.624196Z"
    },
    "hidden": true
   },
   "outputs": [
    {
     "data": {
      "text/plain": [
       "store             int64\n",
       "dept              int64\n",
       "date             object\n",
       "weekly_sales    float64\n",
       "isholiday          bool\n",
       "temperature     float64\n",
       "fuel_price      float64\n",
       "cpi             float64\n",
       "unemployment    float64\n",
       "type             object\n",
       "size              int64\n",
       "dtype: object"
      ]
     },
     "execution_count": 14,
     "metadata": {},
     "output_type": "execute_result"
    }
   ],
   "source": [
    "df.dtypes"
   ]
  },
  {
   "cell_type": "markdown",
   "id": "91cc98ee",
   "metadata": {
    "heading_collapsed": true,
    "hidden": true
   },
   "source": [
    "## 1.8 Changing Datatypes"
   ]
  },
  {
   "cell_type": "code",
   "execution_count": 15,
   "id": "b123786d",
   "metadata": {
    "ExecuteTime": {
     "end_time": "2023-09-09T15:55:50.695907Z",
     "start_time": "2023-09-09T15:55:50.634621Z"
    },
    "hidden": true
   },
   "outputs": [],
   "source": [
    "df['date'] = pd.to_datetime(df['date'])\n",
    "\n",
    "df['isholiday'] = df['isholiday'].astype(int)"
   ]
  },
  {
   "cell_type": "code",
   "execution_count": 16,
   "id": "9220dfb0",
   "metadata": {
    "ExecuteTime": {
     "end_time": "2023-09-09T15:55:50.713486Z",
     "start_time": "2023-09-09T15:55:50.697228Z"
    },
    "hidden": true
   },
   "outputs": [
    {
     "data": {
      "text/plain": [
       "type\n",
       "A    215478\n",
       "B    163495\n",
       "C     42597\n",
       "Name: count, dtype: int64"
      ]
     },
     "execution_count": 16,
     "metadata": {},
     "output_type": "execute_result"
    }
   ],
   "source": [
    "df['type'].value_counts()"
   ]
  },
  {
   "cell_type": "code",
   "execution_count": 17,
   "id": "b8e645bf",
   "metadata": {
    "ExecuteTime": {
     "end_time": "2023-09-09T15:55:50.821299Z",
     "start_time": "2023-09-09T15:55:50.715714Z"
    },
    "hidden": true
   },
   "outputs": [],
   "source": [
    "df['type'] = df['type'].apply(lambda x: 0 if x == 'A' else (1 if x == 'B' else 2))"
   ]
  },
  {
   "cell_type": "markdown",
   "id": "12564449",
   "metadata": {
    "heading_collapsed": true,
    "hidden": true
   },
   "source": [
    "## 1.9 Descriptive Statistical"
   ]
  },
  {
   "cell_type": "code",
   "execution_count": null,
   "id": "4d6e0798",
   "metadata": {
    "hidden": true
   },
   "outputs": [],
   "source": []
  },
  {
   "cell_type": "markdown",
   "id": "42987c70",
   "metadata": {
    "heading_collapsed": true
   },
   "source": [
    "# .0 Feature Engineering"
   ]
  },
  {
   "cell_type": "code",
   "execution_count": 18,
   "id": "51ebff63",
   "metadata": {
    "ExecuteTime": {
     "end_time": "2023-09-09T15:55:50.861816Z",
     "start_time": "2023-09-09T15:55:50.822938Z"
    },
    "hidden": true
   },
   "outputs": [],
   "source": [
    "df = df.groupby(['store', 'date']).agg({'weekly_sales':'sum', 'isholiday':'first', 'temperature':'first', 'fuel_price':'first', 'cpi':'first', 'unemployment':'first', 'type':'first', 'size':'first'}).reset_index()"
   ]
  },
  {
   "cell_type": "markdown",
   "id": "fd912af9",
   "metadata": {
    "heading_collapsed": true
   },
   "source": [
    "# .0 Data Preparation"
   ]
  },
  {
   "cell_type": "markdown",
   "id": "636fdd09",
   "metadata": {
    "heading_collapsed": true,
    "hidden": true
   },
   "source": [
    "## Target"
   ]
  },
  {
   "cell_type": "code",
   "execution_count": 19,
   "id": "363eb428",
   "metadata": {
    "ExecuteTime": {
     "end_time": "2023-09-09T15:55:50.872301Z",
     "start_time": "2023-09-09T15:55:50.863033Z"
    },
    "hidden": true
   },
   "outputs": [],
   "source": [
    "pp_weekly_sales = pp.MinMaxScaler()\n",
    "pp_weekly_sales = pp_weekly_sales.fit(df[['weekly_sales']].values)\n",
    "df['weekly_sales'] = pp_weekly_sales.transform(df[['weekly_sales']].values)"
   ]
  },
  {
   "cell_type": "markdown",
   "id": "87d33ae2",
   "metadata": {
    "hidden": true
   },
   "source": [
    "## Features"
   ]
  },
  {
   "cell_type": "markdown",
   "id": "16fcc763",
   "metadata": {
    "heading_collapsed": true,
    "hidden": true
   },
   "source": [
    "### Categorical Attributes"
   ]
  },
  {
   "cell_type": "code",
   "execution_count": 20,
   "id": "ece8db57",
   "metadata": {
    "ExecuteTime": {
     "end_time": "2023-09-09T15:55:50.886106Z",
     "start_time": "2023-09-09T15:55:50.876752Z"
    },
    "hidden": true
   },
   "outputs": [],
   "source": [
    "# 'isholiday',\n",
    "map_isholiday = df.groupby('isholiday').agg({'weekly_sales':'mean'})['weekly_sales'] # target encoding\n",
    "df['isholiday'] = df['isholiday'].map(map_isholiday)\n",
    "\n",
    "# 'type',\n",
    "map_type = df.groupby('type').agg({'weekly_sales':'mean'})['weekly_sales'] # target encoding\n",
    "df['type'] = df['type'].map(map_type)"
   ]
  },
  {
   "cell_type": "markdown",
   "id": "2e33a2f9",
   "metadata": {
    "heading_collapsed": true,
    "hidden": true
   },
   "source": [
    "### Numerical Attributes"
   ]
  },
  {
   "cell_type": "code",
   "execution_count": 21,
   "id": "aac6f6f0",
   "metadata": {
    "ExecuteTime": {
     "end_time": "2023-09-09T15:55:50.904077Z",
     "start_time": "2023-09-09T15:55:50.887768Z"
    },
    "hidden": true,
    "scrolled": true
   },
   "outputs": [],
   "source": [
    "# 'temperature',\n",
    "pp_temperature = pp.MinMaxScaler()\n",
    "pp_temperature = pp_temperature.fit(df[['temperature']].values)\n",
    "df['temperature'] = pp_temperature.transform(df[['temperature']].values)\n",
    "\n",
    "# 'fuel_price',\n",
    "pp_fuel_price = pp.MinMaxScaler()\n",
    "pp_fuel_price = pp_fuel_price.fit(df[['fuel_price']].values)\n",
    "df['fuel_price'] = pp_fuel_price.transform(df[['fuel_price']].values)\n",
    "\n",
    "# 'cpi',\n",
    "pp_cpi = pp.MinMaxScaler()\n",
    "pp_cpi = pp_cpi.fit(df[['cpi']].values)\n",
    "df['cpi'] = pp_cpi.transform(df[['cpi']].values)\n",
    "\n",
    "# 'unemployment',\n",
    "pp_unemployment = pp.MinMaxScaler()\n",
    "pp_unemployment = pp_unemployment.fit(df[['unemployment']].values)\n",
    "df['unemployment'] = pp_unemployment.transform(df[['unemployment']].values)\n",
    "\n",
    "# 'size']\n",
    "pp_size = pp.MinMaxScaler()\n",
    "pp_size = pp_size.fit(df[['size']].values)\n",
    "df['size'] = pp_size.transform(df[['size']].values)"
   ]
  },
  {
   "cell_type": "markdown",
   "id": "da10ec01",
   "metadata": {
    "heading_collapsed": true,
    "hidden": true
   },
   "source": [
    "## Splits"
   ]
  },
  {
   "cell_type": "code",
   "execution_count": 22,
   "id": "8516ce2c",
   "metadata": {
    "ExecuteTime": {
     "end_time": "2023-09-09T15:55:50.914627Z",
     "start_time": "2023-09-09T15:55:50.906547Z"
    },
    "hidden": true
   },
   "outputs": [],
   "source": [
    "train = df[df['date'] < df['date'].max() - pd.Timedelta(6, 'w')]\n",
    "test = df[df['date'] >= df['date'].max() - pd.Timedelta(6, 'w')]"
   ]
  },
  {
   "cell_type": "code",
   "execution_count": 23,
   "id": "6f86a1d9",
   "metadata": {
    "ExecuteTime": {
     "end_time": "2023-09-09T15:55:50.922600Z",
     "start_time": "2023-09-09T15:55:50.916513Z"
    },
    "hidden": true
   },
   "outputs": [],
   "source": [
    "X_train = train.drop(['date', 'weekly_sales', 'store'], axis=1)\n",
    "y_train = train['weekly_sales']\n",
    "\n",
    "X_train_array = X_train.values\n",
    "y_train_array = np.array(y_train).reshape(-1, 1)"
   ]
  },
  {
   "cell_type": "code",
   "execution_count": 24,
   "id": "10a65b12",
   "metadata": {
    "ExecuteTime": {
     "end_time": "2023-09-09T15:55:50.930574Z",
     "start_time": "2023-09-09T15:55:50.924720Z"
    },
    "hidden": true
   },
   "outputs": [],
   "source": [
    "X_test = test.drop(['date', 'weekly_sales', 'store'], axis=1)\n",
    "y_test = test['weekly_sales']\n",
    "\n",
    "X_test_array = X_test.values\n",
    "y_test_array = np.array(y_test).reshape(-1, 1)"
   ]
  },
  {
   "cell_type": "markdown",
   "id": "25127fd2",
   "metadata": {
    "heading_collapsed": true
   },
   "source": [
    "# .0 ML Modeling"
   ]
  },
  {
   "cell_type": "markdown",
   "id": "fe5bfcef",
   "metadata": {
    "heading_collapsed": true,
    "hidden": true
   },
   "source": [
    "## Linear Regression"
   ]
  },
  {
   "cell_type": "code",
   "execution_count": 25,
   "id": "55b243f5",
   "metadata": {
    "ExecuteTime": {
     "end_time": "2023-09-09T15:55:50.953562Z",
     "start_time": "2023-09-09T15:55:50.934601Z"
    },
    "hidden": true,
    "scrolled": false
   },
   "outputs": [
    {
     "name": "stderr",
     "output_type": "stream",
     "text": [
      "/tmp/ipykernel_32686/478003382.py:5: SettingWithCopyWarning: \n",
      "A value is trying to be set on a copy of a slice from a DataFrame.\n",
      "Try using .loc[row_indexer,col_indexer] = value instead\n",
      "\n",
      "See the caveats in the documentation: https://pandas.pydata.org/pandas-docs/stable/user_guide/indexing.html#returning-a-view-versus-a-copy\n",
      "  test['predicts'] = predicts\n",
      "/tmp/ipykernel_32686/478003382.py:6: SettingWithCopyWarning: \n",
      "A value is trying to be set on a copy of a slice from a DataFrame.\n",
      "Try using .loc[row_indexer,col_indexer] = value instead\n",
      "\n",
      "See the caveats in the documentation: https://pandas.pydata.org/pandas-docs/stable/user_guide/indexing.html#returning-a-view-versus-a-copy\n",
      "  test['absolute_error'] = np.abs(test['predicts'] - test['weekly_sales'])\n",
      "/tmp/ipykernel_32686/478003382.py:8: SettingWithCopyWarning: \n",
      "A value is trying to be set on a copy of a slice from a DataFrame.\n",
      "Try using .loc[row_indexer,col_indexer] = value instead\n",
      "\n",
      "See the caveats in the documentation: https://pandas.pydata.org/pandas-docs/stable/user_guide/indexing.html#returning-a-view-versus-a-copy\n",
      "  test['proportional_absolute_error'] = test['absolute_error'] / test['weekly_sales']\n"
     ]
    },
    {
     "data": {
      "text/plain": [
       "0.3951442206249105"
      ]
     },
     "execution_count": 25,
     "metadata": {},
     "output_type": "execute_result"
    }
   ],
   "source": [
    "lr_model = LinearRegression()\n",
    "lr_model = lr_model.fit(X_train, y_train)\n",
    "predicts = lr_model.predict(X_test)\n",
    "\n",
    "test['predicts'] = predicts\n",
    "test['absolute_error'] = np.abs(test['predicts'] - test['weekly_sales'])\n",
    "mae = test['absolute_error'].mean()\n",
    "test['proportional_absolute_error'] = test['absolute_error'] / test['weekly_sales']\n",
    "mape = test['proportional_absolute_error'].mean()\n",
    "\n",
    "mape"
   ]
  },
  {
   "cell_type": "markdown",
   "id": "c3278f8e",
   "metadata": {
    "heading_collapsed": true,
    "hidden": true
   },
   "source": [
    "## Random Forest"
   ]
  },
  {
   "cell_type": "code",
   "execution_count": 26,
   "id": "6c0d460e",
   "metadata": {
    "ExecuteTime": {
     "end_time": "2023-09-09T15:55:52.052699Z",
     "start_time": "2023-09-09T15:55:50.954762Z"
    },
    "hidden": true,
    "scrolled": false
   },
   "outputs": [
    {
     "name": "stderr",
     "output_type": "stream",
     "text": [
      "/tmp/ipykernel_32686/1417689200.py:5: SettingWithCopyWarning: \n",
      "A value is trying to be set on a copy of a slice from a DataFrame.\n",
      "Try using .loc[row_indexer,col_indexer] = value instead\n",
      "\n",
      "See the caveats in the documentation: https://pandas.pydata.org/pandas-docs/stable/user_guide/indexing.html#returning-a-view-versus-a-copy\n",
      "  test['predicts'] = predicts\n",
      "/tmp/ipykernel_32686/1417689200.py:6: SettingWithCopyWarning: \n",
      "A value is trying to be set on a copy of a slice from a DataFrame.\n",
      "Try using .loc[row_indexer,col_indexer] = value instead\n",
      "\n",
      "See the caveats in the documentation: https://pandas.pydata.org/pandas-docs/stable/user_guide/indexing.html#returning-a-view-versus-a-copy\n",
      "  test['absolute_error'] = np.abs(test['predicts'] - test['weekly_sales'])\n",
      "/tmp/ipykernel_32686/1417689200.py:8: SettingWithCopyWarning: \n",
      "A value is trying to be set on a copy of a slice from a DataFrame.\n",
      "Try using .loc[row_indexer,col_indexer] = value instead\n",
      "\n",
      "See the caveats in the documentation: https://pandas.pydata.org/pandas-docs/stable/user_guide/indexing.html#returning-a-view-versus-a-copy\n",
      "  test['proportional_absolute_error'] = test['absolute_error'] / test['weekly_sales']\n"
     ]
    },
    {
     "data": {
      "text/plain": [
       "0.1513102134818894"
      ]
     },
     "execution_count": 26,
     "metadata": {},
     "output_type": "execute_result"
    }
   ],
   "source": [
    "rf_model = RandomForestRegressor(max_depth=7)\n",
    "rf_model = rf_model.fit(X_train, y_train)\n",
    "predicts = rf_model.predict(X_test)\n",
    "\n",
    "test['predicts'] = predicts\n",
    "test['absolute_error'] = np.abs(test['predicts'] - test['weekly_sales'])\n",
    "mae = test['absolute_error'].mean()\n",
    "test['proportional_absolute_error'] = test['absolute_error'] / test['weekly_sales']\n",
    "mape = test['proportional_absolute_error'].mean()\n",
    "\n",
    "mape"
   ]
  },
  {
   "cell_type": "markdown",
   "id": "09608bb0",
   "metadata": {
    "heading_collapsed": true,
    "hidden": true
   },
   "source": [
    "## XGBoost Regressor"
   ]
  },
  {
   "cell_type": "code",
   "execution_count": 27,
   "id": "f96f4900",
   "metadata": {
    "ExecuteTime": {
     "end_time": "2023-09-09T15:55:52.526955Z",
     "start_time": "2023-09-09T15:55:52.054558Z"
    },
    "hidden": true,
    "scrolled": false
   },
   "outputs": [
    {
     "name": "stderr",
     "output_type": "stream",
     "text": [
      "/tmp/ipykernel_32686/56048586.py:5: SettingWithCopyWarning: \n",
      "A value is trying to be set on a copy of a slice from a DataFrame.\n",
      "Try using .loc[row_indexer,col_indexer] = value instead\n",
      "\n",
      "See the caveats in the documentation: https://pandas.pydata.org/pandas-docs/stable/user_guide/indexing.html#returning-a-view-versus-a-copy\n",
      "  test['predicts'] = predicts\n",
      "/tmp/ipykernel_32686/56048586.py:6: SettingWithCopyWarning: \n",
      "A value is trying to be set on a copy of a slice from a DataFrame.\n",
      "Try using .loc[row_indexer,col_indexer] = value instead\n",
      "\n",
      "See the caveats in the documentation: https://pandas.pydata.org/pandas-docs/stable/user_guide/indexing.html#returning-a-view-versus-a-copy\n",
      "  test['absolute_error'] = np.abs(test['predicts'] - test['weekly_sales'])\n",
      "/tmp/ipykernel_32686/56048586.py:8: SettingWithCopyWarning: \n",
      "A value is trying to be set on a copy of a slice from a DataFrame.\n",
      "Try using .loc[row_indexer,col_indexer] = value instead\n",
      "\n",
      "See the caveats in the documentation: https://pandas.pydata.org/pandas-docs/stable/user_guide/indexing.html#returning-a-view-versus-a-copy\n",
      "  test['proportional_absolute_error'] = test['absolute_error'] / test['weekly_sales']\n"
     ]
    },
    {
     "data": {
      "text/plain": [
       "0.13032780535369384"
      ]
     },
     "execution_count": 27,
     "metadata": {},
     "output_type": "execute_result"
    }
   ],
   "source": [
    "xgb_model = XGBRegressor(max_depth=7)\n",
    "xgb_model = xgb_model.fit(X_train, y_train)\n",
    "predicts = xgb_model.predict(X_test)\n",
    "\n",
    "test['predicts'] = predicts\n",
    "test['absolute_error'] = np.abs(test['predicts'] - test['weekly_sales'])\n",
    "mae = test['absolute_error'].mean()\n",
    "test['proportional_absolute_error'] = test['absolute_error'] / test['weekly_sales']\n",
    "mape = test['proportional_absolute_error'].mean()\n",
    "\n",
    "mape"
   ]
  },
  {
   "cell_type": "markdown",
   "id": "04d83845",
   "metadata": {
    "heading_collapsed": true
   },
   "source": [
    "# .0 API"
   ]
  },
  {
   "cell_type": "code",
   "execution_count": null,
   "id": "7aa9fcb7",
   "metadata": {
    "hidden": true
   },
   "outputs": [],
   "source": []
  }
 ],
 "metadata": {
  "kernelspec": {
   "display_name": "Python 3 (ipykernel)",
   "language": "python",
   "name": "python3"
  },
  "language_info": {
   "codemirror_mode": {
    "name": "ipython",
    "version": 3
   },
   "file_extension": ".py",
   "mimetype": "text/x-python",
   "name": "python",
   "nbconvert_exporter": "python",
   "pygments_lexer": "ipython3",
   "version": "3.10.12"
  }
 },
 "nbformat": 4,
 "nbformat_minor": 5
}
