{
 "cells": [
  {
   "cell_type": "markdown",
   "id": "ad613fb7",
   "metadata": {
    "heading_collapsed": true
   },
   "source": [
    "# 0.0 Imports"
   ]
  },
  {
   "cell_type": "code",
   "execution_count": 54,
   "id": "ce3f3615",
   "metadata": {
    "ExecuteTime": {
     "end_time": "2023-10-24T18:28:18.690938Z",
     "start_time": "2023-10-24T18:28:18.685258Z"
    },
    "hidden": true
   },
   "outputs": [],
   "source": [
    "import pandas as pd\n",
    "import seaborn as sns\n",
    "import numpy as np\n",
    "import matplotlib.pyplot as plt\n",
    "import sklearn.preprocessing as pp\n",
    "from sklearn.linear_model import LinearRegression\n",
    "from sklearn.ensemble import RandomForestRegressor\n",
    "from xgboost import XGBRegressor\n",
    "import pickle as pkl\n",
    "import requests\n",
    "from random import randint\n",
    "\n",
    "import warnings\n",
    "warnings.filterwarnings(\"ignore\")"
   ]
  },
  {
   "cell_type": "markdown",
   "id": "7636dedd",
   "metadata": {
    "heading_collapsed": true,
    "hidden": true
   },
   "source": [
    "## 0.1 Datasets"
   ]
  },
  {
   "cell_type": "code",
   "execution_count": 3,
   "id": "cd936846",
   "metadata": {
    "ExecuteTime": {
     "end_time": "2023-10-24T18:22:32.413974Z",
     "start_time": "2023-10-24T18:22:32.241409Z"
    },
    "hidden": true
   },
   "outputs": [],
   "source": [
    "features = pd.read_csv('../data/raw/features.csv')\n",
    "stores = pd.read_csv('../data/raw/stores.csv')\n",
    "train = pd.read_csv('../data/raw/train.csv')"
   ]
  },
  {
   "cell_type": "markdown",
   "id": "4812e5a5",
   "metadata": {},
   "source": [
    "# 1.0 Data Description"
   ]
  },
  {
   "cell_type": "markdown",
   "id": "812f6391",
   "metadata": {
    "heading_collapsed": true
   },
   "source": [
    "## 1.1 Looking Datasets"
   ]
  },
  {
   "cell_type": "code",
   "execution_count": 4,
   "id": "f24b12db",
   "metadata": {
    "ExecuteTime": {
     "end_time": "2023-10-24T18:22:32.438557Z",
     "start_time": "2023-10-24T18:22:32.415417Z"
    },
    "hidden": true
   },
   "outputs": [
    {
     "data": {
      "text/html": [
       "<div>\n",
       "<style scoped>\n",
       "    .dataframe tbody tr th:only-of-type {\n",
       "        vertical-align: middle;\n",
       "    }\n",
       "\n",
       "    .dataframe tbody tr th {\n",
       "        vertical-align: top;\n",
       "    }\n",
       "\n",
       "    .dataframe thead th {\n",
       "        text-align: right;\n",
       "    }\n",
       "</style>\n",
       "<table border=\"1\" class=\"dataframe\">\n",
       "  <thead>\n",
       "    <tr style=\"text-align: right;\">\n",
       "      <th></th>\n",
       "      <th>Store</th>\n",
       "      <th>Date</th>\n",
       "      <th>Temperature</th>\n",
       "      <th>Fuel_Price</th>\n",
       "      <th>MarkDown1</th>\n",
       "      <th>MarkDown2</th>\n",
       "      <th>MarkDown3</th>\n",
       "      <th>MarkDown4</th>\n",
       "      <th>MarkDown5</th>\n",
       "      <th>CPI</th>\n",
       "      <th>Unemployment</th>\n",
       "      <th>IsHoliday</th>\n",
       "    </tr>\n",
       "  </thead>\n",
       "  <tbody>\n",
       "    <tr>\n",
       "      <th>0</th>\n",
       "      <td>1</td>\n",
       "      <td>2010-02-05</td>\n",
       "      <td>42.31</td>\n",
       "      <td>2.572</td>\n",
       "      <td>NaN</td>\n",
       "      <td>NaN</td>\n",
       "      <td>NaN</td>\n",
       "      <td>NaN</td>\n",
       "      <td>NaN</td>\n",
       "      <td>211.096358</td>\n",
       "      <td>8.106</td>\n",
       "      <td>False</td>\n",
       "    </tr>\n",
       "    <tr>\n",
       "      <th>1</th>\n",
       "      <td>1</td>\n",
       "      <td>2010-02-12</td>\n",
       "      <td>38.51</td>\n",
       "      <td>2.548</td>\n",
       "      <td>NaN</td>\n",
       "      <td>NaN</td>\n",
       "      <td>NaN</td>\n",
       "      <td>NaN</td>\n",
       "      <td>NaN</td>\n",
       "      <td>211.242170</td>\n",
       "      <td>8.106</td>\n",
       "      <td>True</td>\n",
       "    </tr>\n",
       "    <tr>\n",
       "      <th>2</th>\n",
       "      <td>1</td>\n",
       "      <td>2010-02-19</td>\n",
       "      <td>39.93</td>\n",
       "      <td>2.514</td>\n",
       "      <td>NaN</td>\n",
       "      <td>NaN</td>\n",
       "      <td>NaN</td>\n",
       "      <td>NaN</td>\n",
       "      <td>NaN</td>\n",
       "      <td>211.289143</td>\n",
       "      <td>8.106</td>\n",
       "      <td>False</td>\n",
       "    </tr>\n",
       "    <tr>\n",
       "      <th>3</th>\n",
       "      <td>1</td>\n",
       "      <td>2010-02-26</td>\n",
       "      <td>46.63</td>\n",
       "      <td>2.561</td>\n",
       "      <td>NaN</td>\n",
       "      <td>NaN</td>\n",
       "      <td>NaN</td>\n",
       "      <td>NaN</td>\n",
       "      <td>NaN</td>\n",
       "      <td>211.319643</td>\n",
       "      <td>8.106</td>\n",
       "      <td>False</td>\n",
       "    </tr>\n",
       "    <tr>\n",
       "      <th>4</th>\n",
       "      <td>1</td>\n",
       "      <td>2010-03-05</td>\n",
       "      <td>46.50</td>\n",
       "      <td>2.625</td>\n",
       "      <td>NaN</td>\n",
       "      <td>NaN</td>\n",
       "      <td>NaN</td>\n",
       "      <td>NaN</td>\n",
       "      <td>NaN</td>\n",
       "      <td>211.350143</td>\n",
       "      <td>8.106</td>\n",
       "      <td>False</td>\n",
       "    </tr>\n",
       "  </tbody>\n",
       "</table>\n",
       "</div>"
      ],
      "text/plain": [
       "   Store        Date  Temperature  Fuel_Price  MarkDown1  MarkDown2  \\\n",
       "0      1  2010-02-05        42.31       2.572        NaN        NaN   \n",
       "1      1  2010-02-12        38.51       2.548        NaN        NaN   \n",
       "2      1  2010-02-19        39.93       2.514        NaN        NaN   \n",
       "3      1  2010-02-26        46.63       2.561        NaN        NaN   \n",
       "4      1  2010-03-05        46.50       2.625        NaN        NaN   \n",
       "\n",
       "   MarkDown3  MarkDown4  MarkDown5         CPI  Unemployment  IsHoliday  \n",
       "0        NaN        NaN        NaN  211.096358         8.106      False  \n",
       "1        NaN        NaN        NaN  211.242170         8.106       True  \n",
       "2        NaN        NaN        NaN  211.289143         8.106      False  \n",
       "3        NaN        NaN        NaN  211.319643         8.106      False  \n",
       "4        NaN        NaN        NaN  211.350143         8.106      False  "
      ]
     },
     "execution_count": 4,
     "metadata": {},
     "output_type": "execute_result"
    }
   ],
   "source": [
    "features.head()"
   ]
  },
  {
   "cell_type": "code",
   "execution_count": 5,
   "id": "1c82d152",
   "metadata": {
    "ExecuteTime": {
     "end_time": "2023-10-24T18:22:32.456260Z",
     "start_time": "2023-10-24T18:22:32.445020Z"
    },
    "hidden": true
   },
   "outputs": [
    {
     "data": {
      "text/html": [
       "<div>\n",
       "<style scoped>\n",
       "    .dataframe tbody tr th:only-of-type {\n",
       "        vertical-align: middle;\n",
       "    }\n",
       "\n",
       "    .dataframe tbody tr th {\n",
       "        vertical-align: top;\n",
       "    }\n",
       "\n",
       "    .dataframe thead th {\n",
       "        text-align: right;\n",
       "    }\n",
       "</style>\n",
       "<table border=\"1\" class=\"dataframe\">\n",
       "  <thead>\n",
       "    <tr style=\"text-align: right;\">\n",
       "      <th></th>\n",
       "      <th>Store</th>\n",
       "      <th>Type</th>\n",
       "      <th>Size</th>\n",
       "    </tr>\n",
       "  </thead>\n",
       "  <tbody>\n",
       "    <tr>\n",
       "      <th>0</th>\n",
       "      <td>1</td>\n",
       "      <td>A</td>\n",
       "      <td>151315</td>\n",
       "    </tr>\n",
       "    <tr>\n",
       "      <th>1</th>\n",
       "      <td>2</td>\n",
       "      <td>A</td>\n",
       "      <td>202307</td>\n",
       "    </tr>\n",
       "    <tr>\n",
       "      <th>2</th>\n",
       "      <td>3</td>\n",
       "      <td>B</td>\n",
       "      <td>37392</td>\n",
       "    </tr>\n",
       "    <tr>\n",
       "      <th>3</th>\n",
       "      <td>4</td>\n",
       "      <td>A</td>\n",
       "      <td>205863</td>\n",
       "    </tr>\n",
       "    <tr>\n",
       "      <th>4</th>\n",
       "      <td>5</td>\n",
       "      <td>B</td>\n",
       "      <td>34875</td>\n",
       "    </tr>\n",
       "  </tbody>\n",
       "</table>\n",
       "</div>"
      ],
      "text/plain": [
       "   Store Type    Size\n",
       "0      1    A  151315\n",
       "1      2    A  202307\n",
       "2      3    B   37392\n",
       "3      4    A  205863\n",
       "4      5    B   34875"
      ]
     },
     "execution_count": 5,
     "metadata": {},
     "output_type": "execute_result"
    }
   ],
   "source": [
    "stores.head()"
   ]
  },
  {
   "cell_type": "code",
   "execution_count": 6,
   "id": "49e0b588",
   "metadata": {
    "ExecuteTime": {
     "end_time": "2023-10-24T18:22:32.466127Z",
     "start_time": "2023-10-24T18:22:32.458777Z"
    },
    "hidden": true,
    "scrolled": true
   },
   "outputs": [
    {
     "data": {
      "text/html": [
       "<div>\n",
       "<style scoped>\n",
       "    .dataframe tbody tr th:only-of-type {\n",
       "        vertical-align: middle;\n",
       "    }\n",
       "\n",
       "    .dataframe tbody tr th {\n",
       "        vertical-align: top;\n",
       "    }\n",
       "\n",
       "    .dataframe thead th {\n",
       "        text-align: right;\n",
       "    }\n",
       "</style>\n",
       "<table border=\"1\" class=\"dataframe\">\n",
       "  <thead>\n",
       "    <tr style=\"text-align: right;\">\n",
       "      <th></th>\n",
       "      <th>Store</th>\n",
       "      <th>Dept</th>\n",
       "      <th>Date</th>\n",
       "      <th>Weekly_Sales</th>\n",
       "      <th>IsHoliday</th>\n",
       "    </tr>\n",
       "  </thead>\n",
       "  <tbody>\n",
       "    <tr>\n",
       "      <th>0</th>\n",
       "      <td>1</td>\n",
       "      <td>1</td>\n",
       "      <td>2010-02-05</td>\n",
       "      <td>24924.50</td>\n",
       "      <td>False</td>\n",
       "    </tr>\n",
       "    <tr>\n",
       "      <th>1</th>\n",
       "      <td>1</td>\n",
       "      <td>1</td>\n",
       "      <td>2010-02-12</td>\n",
       "      <td>46039.49</td>\n",
       "      <td>True</td>\n",
       "    </tr>\n",
       "    <tr>\n",
       "      <th>2</th>\n",
       "      <td>1</td>\n",
       "      <td>1</td>\n",
       "      <td>2010-02-19</td>\n",
       "      <td>41595.55</td>\n",
       "      <td>False</td>\n",
       "    </tr>\n",
       "    <tr>\n",
       "      <th>3</th>\n",
       "      <td>1</td>\n",
       "      <td>1</td>\n",
       "      <td>2010-02-26</td>\n",
       "      <td>19403.54</td>\n",
       "      <td>False</td>\n",
       "    </tr>\n",
       "    <tr>\n",
       "      <th>4</th>\n",
       "      <td>1</td>\n",
       "      <td>1</td>\n",
       "      <td>2010-03-05</td>\n",
       "      <td>21827.90</td>\n",
       "      <td>False</td>\n",
       "    </tr>\n",
       "  </tbody>\n",
       "</table>\n",
       "</div>"
      ],
      "text/plain": [
       "   Store  Dept        Date  Weekly_Sales  IsHoliday\n",
       "0      1     1  2010-02-05      24924.50      False\n",
       "1      1     1  2010-02-12      46039.49       True\n",
       "2      1     1  2010-02-19      41595.55      False\n",
       "3      1     1  2010-02-26      19403.54      False\n",
       "4      1     1  2010-03-05      21827.90      False"
      ]
     },
     "execution_count": 6,
     "metadata": {},
     "output_type": "execute_result"
    }
   ],
   "source": [
    "train.head()"
   ]
  },
  {
   "cell_type": "markdown",
   "id": "efa08006",
   "metadata": {
    "heading_collapsed": true
   },
   "source": [
    "## 1.2 Data Dimension"
   ]
  },
  {
   "cell_type": "code",
   "execution_count": 7,
   "id": "8cd4abda",
   "metadata": {
    "ExecuteTime": {
     "end_time": "2023-10-24T18:22:32.476256Z",
     "start_time": "2023-10-24T18:22:32.468671Z"
    },
    "hidden": true
   },
   "outputs": [
    {
     "data": {
      "text/plain": [
       "(421570, 5)"
      ]
     },
     "execution_count": 7,
     "metadata": {},
     "output_type": "execute_result"
    }
   ],
   "source": [
    "train.shape"
   ]
  },
  {
   "cell_type": "code",
   "execution_count": 8,
   "id": "56af5b41",
   "metadata": {
    "ExecuteTime": {
     "end_time": "2023-10-24T18:22:32.483296Z",
     "start_time": "2023-10-24T18:22:32.478770Z"
    },
    "hidden": true
   },
   "outputs": [
    {
     "data": {
      "text/plain": [
       "(45, 3)"
      ]
     },
     "execution_count": 8,
     "metadata": {},
     "output_type": "execute_result"
    }
   ],
   "source": [
    "stores.shape"
   ]
  },
  {
   "cell_type": "code",
   "execution_count": 9,
   "id": "77c72dc7",
   "metadata": {
    "ExecuteTime": {
     "end_time": "2023-10-24T18:22:32.490152Z",
     "start_time": "2023-10-24T18:22:32.486272Z"
    },
    "hidden": true
   },
   "outputs": [
    {
     "data": {
      "text/plain": [
       "(8190, 12)"
      ]
     },
     "execution_count": 9,
     "metadata": {},
     "output_type": "execute_result"
    }
   ],
   "source": [
    "features.shape"
   ]
  },
  {
   "cell_type": "markdown",
   "id": "73b6baba",
   "metadata": {
    "heading_collapsed": true
   },
   "source": [
    "## 1.3 Change Column Names"
   ]
  },
  {
   "cell_type": "code",
   "execution_count": 10,
   "id": "c88b73c5",
   "metadata": {
    "ExecuteTime": {
     "end_time": "2023-10-24T18:22:32.496082Z",
     "start_time": "2023-10-24T18:22:32.491528Z"
    },
    "hidden": true
   },
   "outputs": [],
   "source": [
    "temp = []\n",
    "for i in features.columns:\n",
    "    temp.append(i.lower())\n",
    "features.columns = temp"
   ]
  },
  {
   "cell_type": "code",
   "execution_count": 11,
   "id": "13df97a2",
   "metadata": {
    "ExecuteTime": {
     "end_time": "2023-10-24T18:22:32.501977Z",
     "start_time": "2023-10-24T18:22:32.499126Z"
    },
    "hidden": true
   },
   "outputs": [],
   "source": [
    "temp = []\n",
    "for i in stores.columns:\n",
    "    temp.append(i.lower())\n",
    "stores.columns = temp"
   ]
  },
  {
   "cell_type": "code",
   "execution_count": 12,
   "id": "15ace80f",
   "metadata": {
    "ExecuteTime": {
     "end_time": "2023-10-24T18:22:32.510865Z",
     "start_time": "2023-10-24T18:22:32.504055Z"
    },
    "hidden": true
   },
   "outputs": [],
   "source": [
    "temp = []\n",
    "for i in train.columns:\n",
    "    temp.append(i.lower())\n",
    "train.columns = temp"
   ]
  },
  {
   "cell_type": "markdown",
   "id": "9f1f4814",
   "metadata": {
    "heading_collapsed": true
   },
   "source": [
    "## 1.4 Merging Data"
   ]
  },
  {
   "cell_type": "code",
   "execution_count": 13,
   "id": "df22afd4",
   "metadata": {
    "ExecuteTime": {
     "end_time": "2023-10-24T18:22:32.655179Z",
     "start_time": "2023-10-24T18:22:32.514278Z"
    },
    "hidden": true
   },
   "outputs": [],
   "source": [
    "df = train.merge(features.drop('isholiday', axis=1), on=['store', 'date'], how='left')\n",
    "\n",
    "df = df.merge(stores, on='store', how='left')"
   ]
  },
  {
   "cell_type": "code",
   "execution_count": 14,
   "id": "21e339fe",
   "metadata": {
    "ExecuteTime": {
     "end_time": "2023-10-24T18:22:32.668165Z",
     "start_time": "2023-10-24T18:22:32.656386Z"
    },
    "hidden": true
   },
   "outputs": [
    {
     "data": {
      "text/html": [
       "<div>\n",
       "<style scoped>\n",
       "    .dataframe tbody tr th:only-of-type {\n",
       "        vertical-align: middle;\n",
       "    }\n",
       "\n",
       "    .dataframe tbody tr th {\n",
       "        vertical-align: top;\n",
       "    }\n",
       "\n",
       "    .dataframe thead th {\n",
       "        text-align: right;\n",
       "    }\n",
       "</style>\n",
       "<table border=\"1\" class=\"dataframe\">\n",
       "  <thead>\n",
       "    <tr style=\"text-align: right;\">\n",
       "      <th></th>\n",
       "      <th>store</th>\n",
       "      <th>dept</th>\n",
       "      <th>date</th>\n",
       "      <th>weekly_sales</th>\n",
       "      <th>isholiday</th>\n",
       "      <th>temperature</th>\n",
       "      <th>fuel_price</th>\n",
       "      <th>markdown1</th>\n",
       "      <th>markdown2</th>\n",
       "      <th>markdown3</th>\n",
       "      <th>markdown4</th>\n",
       "      <th>markdown5</th>\n",
       "      <th>cpi</th>\n",
       "      <th>unemployment</th>\n",
       "      <th>type</th>\n",
       "      <th>size</th>\n",
       "    </tr>\n",
       "  </thead>\n",
       "  <tbody>\n",
       "    <tr>\n",
       "      <th>0</th>\n",
       "      <td>1</td>\n",
       "      <td>1</td>\n",
       "      <td>2010-02-05</td>\n",
       "      <td>24924.50</td>\n",
       "      <td>False</td>\n",
       "      <td>42.31</td>\n",
       "      <td>2.572</td>\n",
       "      <td>NaN</td>\n",
       "      <td>NaN</td>\n",
       "      <td>NaN</td>\n",
       "      <td>NaN</td>\n",
       "      <td>NaN</td>\n",
       "      <td>211.096358</td>\n",
       "      <td>8.106</td>\n",
       "      <td>A</td>\n",
       "      <td>151315</td>\n",
       "    </tr>\n",
       "    <tr>\n",
       "      <th>1</th>\n",
       "      <td>1</td>\n",
       "      <td>1</td>\n",
       "      <td>2010-02-12</td>\n",
       "      <td>46039.49</td>\n",
       "      <td>True</td>\n",
       "      <td>38.51</td>\n",
       "      <td>2.548</td>\n",
       "      <td>NaN</td>\n",
       "      <td>NaN</td>\n",
       "      <td>NaN</td>\n",
       "      <td>NaN</td>\n",
       "      <td>NaN</td>\n",
       "      <td>211.242170</td>\n",
       "      <td>8.106</td>\n",
       "      <td>A</td>\n",
       "      <td>151315</td>\n",
       "    </tr>\n",
       "    <tr>\n",
       "      <th>2</th>\n",
       "      <td>1</td>\n",
       "      <td>1</td>\n",
       "      <td>2010-02-19</td>\n",
       "      <td>41595.55</td>\n",
       "      <td>False</td>\n",
       "      <td>39.93</td>\n",
       "      <td>2.514</td>\n",
       "      <td>NaN</td>\n",
       "      <td>NaN</td>\n",
       "      <td>NaN</td>\n",
       "      <td>NaN</td>\n",
       "      <td>NaN</td>\n",
       "      <td>211.289143</td>\n",
       "      <td>8.106</td>\n",
       "      <td>A</td>\n",
       "      <td>151315</td>\n",
       "    </tr>\n",
       "    <tr>\n",
       "      <th>3</th>\n",
       "      <td>1</td>\n",
       "      <td>1</td>\n",
       "      <td>2010-02-26</td>\n",
       "      <td>19403.54</td>\n",
       "      <td>False</td>\n",
       "      <td>46.63</td>\n",
       "      <td>2.561</td>\n",
       "      <td>NaN</td>\n",
       "      <td>NaN</td>\n",
       "      <td>NaN</td>\n",
       "      <td>NaN</td>\n",
       "      <td>NaN</td>\n",
       "      <td>211.319643</td>\n",
       "      <td>8.106</td>\n",
       "      <td>A</td>\n",
       "      <td>151315</td>\n",
       "    </tr>\n",
       "    <tr>\n",
       "      <th>4</th>\n",
       "      <td>1</td>\n",
       "      <td>1</td>\n",
       "      <td>2010-03-05</td>\n",
       "      <td>21827.90</td>\n",
       "      <td>False</td>\n",
       "      <td>46.50</td>\n",
       "      <td>2.625</td>\n",
       "      <td>NaN</td>\n",
       "      <td>NaN</td>\n",
       "      <td>NaN</td>\n",
       "      <td>NaN</td>\n",
       "      <td>NaN</td>\n",
       "      <td>211.350143</td>\n",
       "      <td>8.106</td>\n",
       "      <td>A</td>\n",
       "      <td>151315</td>\n",
       "    </tr>\n",
       "  </tbody>\n",
       "</table>\n",
       "</div>"
      ],
      "text/plain": [
       "   store  dept        date  weekly_sales  isholiday  temperature  fuel_price  \\\n",
       "0      1     1  2010-02-05      24924.50      False        42.31       2.572   \n",
       "1      1     1  2010-02-12      46039.49       True        38.51       2.548   \n",
       "2      1     1  2010-02-19      41595.55      False        39.93       2.514   \n",
       "3      1     1  2010-02-26      19403.54      False        46.63       2.561   \n",
       "4      1     1  2010-03-05      21827.90      False        46.50       2.625   \n",
       "\n",
       "   markdown1  markdown2  markdown3  markdown4  markdown5         cpi  \\\n",
       "0        NaN        NaN        NaN        NaN        NaN  211.096358   \n",
       "1        NaN        NaN        NaN        NaN        NaN  211.242170   \n",
       "2        NaN        NaN        NaN        NaN        NaN  211.289143   \n",
       "3        NaN        NaN        NaN        NaN        NaN  211.319643   \n",
       "4        NaN        NaN        NaN        NaN        NaN  211.350143   \n",
       "\n",
       "   unemployment type    size  \n",
       "0         8.106    A  151315  \n",
       "1         8.106    A  151315  \n",
       "2         8.106    A  151315  \n",
       "3         8.106    A  151315  \n",
       "4         8.106    A  151315  "
      ]
     },
     "execution_count": 14,
     "metadata": {},
     "output_type": "execute_result"
    }
   ],
   "source": [
    "df.head()"
   ]
  },
  {
   "cell_type": "markdown",
   "id": "91a8ed55",
   "metadata": {
    "heading_collapsed": true
   },
   "source": [
    "## 1.5 Check Na"
   ]
  },
  {
   "cell_type": "code",
   "execution_count": 15,
   "id": "aa1bd243",
   "metadata": {
    "ExecuteTime": {
     "end_time": "2023-10-24T18:22:32.707677Z",
     "start_time": "2023-10-24T18:22:32.671046Z"
    },
    "hidden": true,
    "scrolled": true
   },
   "outputs": [
    {
     "data": {
      "text/plain": [
       "store           0.000000\n",
       "dept            0.000000\n",
       "date            0.000000\n",
       "weekly_sales    0.000000\n",
       "isholiday       0.000000\n",
       "temperature     0.000000\n",
       "fuel_price      0.000000\n",
       "markdown1       0.642572\n",
       "markdown2       0.736110\n",
       "markdown3       0.674808\n",
       "markdown4       0.679847\n",
       "markdown5       0.640790\n",
       "cpi             0.000000\n",
       "unemployment    0.000000\n",
       "type            0.000000\n",
       "size            0.000000\n",
       "dtype: float64"
      ]
     },
     "execution_count": 15,
     "metadata": {},
     "output_type": "execute_result"
    }
   ],
   "source": [
    "df.isna().sum() / df.shape[0] "
   ]
  },
  {
   "cell_type": "markdown",
   "id": "a99b8129",
   "metadata": {
    "heading_collapsed": true
   },
   "source": [
    "## 1.6 Removing Nas"
   ]
  },
  {
   "cell_type": "code",
   "execution_count": 16,
   "id": "ea11961b",
   "metadata": {
    "ExecuteTime": {
     "end_time": "2023-10-24T18:22:32.731635Z",
     "start_time": "2023-10-24T18:22:32.709840Z"
    },
    "hidden": true
   },
   "outputs": [],
   "source": [
    "df.drop('markdown1 markdown2 markdown3 markdown4 markdown5'.split(), axis=1, inplace=True)"
   ]
  },
  {
   "cell_type": "code",
   "execution_count": 17,
   "id": "7ed003c7",
   "metadata": {
    "ExecuteTime": {
     "end_time": "2023-10-24T18:22:32.788286Z",
     "start_time": "2023-10-24T18:22:32.733354Z"
    },
    "hidden": true
   },
   "outputs": [],
   "source": [
    "df_raw = df.copy()"
   ]
  },
  {
   "cell_type": "code",
   "execution_count": 18,
   "id": "1adbc61f",
   "metadata": {
    "ExecuteTime": {
     "end_time": "2023-10-24T18:22:32.799033Z",
     "start_time": "2023-10-24T18:22:32.789876Z"
    },
    "hidden": true
   },
   "outputs": [
    {
     "data": {
      "text/html": [
       "<div>\n",
       "<style scoped>\n",
       "    .dataframe tbody tr th:only-of-type {\n",
       "        vertical-align: middle;\n",
       "    }\n",
       "\n",
       "    .dataframe tbody tr th {\n",
       "        vertical-align: top;\n",
       "    }\n",
       "\n",
       "    .dataframe thead th {\n",
       "        text-align: right;\n",
       "    }\n",
       "</style>\n",
       "<table border=\"1\" class=\"dataframe\">\n",
       "  <thead>\n",
       "    <tr style=\"text-align: right;\">\n",
       "      <th></th>\n",
       "      <th>store</th>\n",
       "      <th>dept</th>\n",
       "      <th>date</th>\n",
       "      <th>weekly_sales</th>\n",
       "      <th>isholiday</th>\n",
       "      <th>temperature</th>\n",
       "      <th>fuel_price</th>\n",
       "      <th>cpi</th>\n",
       "      <th>unemployment</th>\n",
       "      <th>type</th>\n",
       "      <th>size</th>\n",
       "    </tr>\n",
       "  </thead>\n",
       "  <tbody>\n",
       "    <tr>\n",
       "      <th>0</th>\n",
       "      <td>1</td>\n",
       "      <td>1</td>\n",
       "      <td>2010-02-05</td>\n",
       "      <td>24924.50</td>\n",
       "      <td>False</td>\n",
       "      <td>42.31</td>\n",
       "      <td>2.572</td>\n",
       "      <td>211.096358</td>\n",
       "      <td>8.106</td>\n",
       "      <td>A</td>\n",
       "      <td>151315</td>\n",
       "    </tr>\n",
       "    <tr>\n",
       "      <th>1</th>\n",
       "      <td>1</td>\n",
       "      <td>1</td>\n",
       "      <td>2010-02-12</td>\n",
       "      <td>46039.49</td>\n",
       "      <td>True</td>\n",
       "      <td>38.51</td>\n",
       "      <td>2.548</td>\n",
       "      <td>211.242170</td>\n",
       "      <td>8.106</td>\n",
       "      <td>A</td>\n",
       "      <td>151315</td>\n",
       "    </tr>\n",
       "    <tr>\n",
       "      <th>2</th>\n",
       "      <td>1</td>\n",
       "      <td>1</td>\n",
       "      <td>2010-02-19</td>\n",
       "      <td>41595.55</td>\n",
       "      <td>False</td>\n",
       "      <td>39.93</td>\n",
       "      <td>2.514</td>\n",
       "      <td>211.289143</td>\n",
       "      <td>8.106</td>\n",
       "      <td>A</td>\n",
       "      <td>151315</td>\n",
       "    </tr>\n",
       "    <tr>\n",
       "      <th>3</th>\n",
       "      <td>1</td>\n",
       "      <td>1</td>\n",
       "      <td>2010-02-26</td>\n",
       "      <td>19403.54</td>\n",
       "      <td>False</td>\n",
       "      <td>46.63</td>\n",
       "      <td>2.561</td>\n",
       "      <td>211.319643</td>\n",
       "      <td>8.106</td>\n",
       "      <td>A</td>\n",
       "      <td>151315</td>\n",
       "    </tr>\n",
       "    <tr>\n",
       "      <th>4</th>\n",
       "      <td>1</td>\n",
       "      <td>1</td>\n",
       "      <td>2010-03-05</td>\n",
       "      <td>21827.90</td>\n",
       "      <td>False</td>\n",
       "      <td>46.50</td>\n",
       "      <td>2.625</td>\n",
       "      <td>211.350143</td>\n",
       "      <td>8.106</td>\n",
       "      <td>A</td>\n",
       "      <td>151315</td>\n",
       "    </tr>\n",
       "  </tbody>\n",
       "</table>\n",
       "</div>"
      ],
      "text/plain": [
       "   store  dept        date  weekly_sales  isholiday  temperature  fuel_price  \\\n",
       "0      1     1  2010-02-05      24924.50      False        42.31       2.572   \n",
       "1      1     1  2010-02-12      46039.49       True        38.51       2.548   \n",
       "2      1     1  2010-02-19      41595.55      False        39.93       2.514   \n",
       "3      1     1  2010-02-26      19403.54      False        46.63       2.561   \n",
       "4      1     1  2010-03-05      21827.90      False        46.50       2.625   \n",
       "\n",
       "          cpi  unemployment type    size  \n",
       "0  211.096358         8.106    A  151315  \n",
       "1  211.242170         8.106    A  151315  \n",
       "2  211.289143         8.106    A  151315  \n",
       "3  211.319643         8.106    A  151315  \n",
       "4  211.350143         8.106    A  151315  "
      ]
     },
     "execution_count": 18,
     "metadata": {},
     "output_type": "execute_result"
    }
   ],
   "source": [
    "df.head()"
   ]
  },
  {
   "cell_type": "markdown",
   "id": "ceb20cb5",
   "metadata": {
    "heading_collapsed": true
   },
   "source": [
    "## 1.7 Datatypes"
   ]
  },
  {
   "cell_type": "code",
   "execution_count": 19,
   "id": "60b56ad2",
   "metadata": {
    "ExecuteTime": {
     "end_time": "2023-10-24T18:22:32.808798Z",
     "start_time": "2023-10-24T18:22:32.800577Z"
    },
    "hidden": true
   },
   "outputs": [
    {
     "data": {
      "text/plain": [
       "store             int64\n",
       "dept              int64\n",
       "date             object\n",
       "weekly_sales    float64\n",
       "isholiday          bool\n",
       "temperature     float64\n",
       "fuel_price      float64\n",
       "cpi             float64\n",
       "unemployment    float64\n",
       "type             object\n",
       "size              int64\n",
       "dtype: object"
      ]
     },
     "execution_count": 19,
     "metadata": {},
     "output_type": "execute_result"
    }
   ],
   "source": [
    "df.dtypes"
   ]
  },
  {
   "cell_type": "markdown",
   "id": "91cc98ee",
   "metadata": {
    "heading_collapsed": true
   },
   "source": [
    "## 1.8 Changing Datatypes"
   ]
  },
  {
   "cell_type": "code",
   "execution_count": 20,
   "id": "b123786d",
   "metadata": {
    "ExecuteTime": {
     "end_time": "2023-10-24T18:22:32.857037Z",
     "start_time": "2023-10-24T18:22:32.811054Z"
    },
    "hidden": true
   },
   "outputs": [],
   "source": [
    "df['date'] = pd.to_datetime(df['date'])\n",
    "\n",
    "df['isholiday'] = df['isholiday'].astype(int)"
   ]
  },
  {
   "cell_type": "code",
   "execution_count": 21,
   "id": "9220dfb0",
   "metadata": {
    "ExecuteTime": {
     "end_time": "2023-10-24T18:22:32.876164Z",
     "start_time": "2023-10-24T18:22:32.858879Z"
    },
    "hidden": true
   },
   "outputs": [
    {
     "data": {
      "text/plain": [
       "type\n",
       "A    215478\n",
       "B    163495\n",
       "C     42597\n",
       "Name: count, dtype: int64"
      ]
     },
     "execution_count": 21,
     "metadata": {},
     "output_type": "execute_result"
    }
   ],
   "source": [
    "df['type'].value_counts()"
   ]
  },
  {
   "cell_type": "code",
   "execution_count": 22,
   "id": "b8e645bf",
   "metadata": {
    "ExecuteTime": {
     "end_time": "2023-10-24T18:22:32.976571Z",
     "start_time": "2023-10-24T18:22:32.877924Z"
    },
    "hidden": true
   },
   "outputs": [],
   "source": [
    "df['type'] = df['type'].apply(lambda x: 0 if x == 'A' else (1 if x == 'B' else 2))"
   ]
  },
  {
   "cell_type": "markdown",
   "id": "dcdabe55",
   "metadata": {
    "heading_collapsed": true
   },
   "source": [
    "## 1.9 Changing Granularity"
   ]
  },
  {
   "cell_type": "code",
   "execution_count": 23,
   "id": "3e3eb096",
   "metadata": {
    "ExecuteTime": {
     "end_time": "2023-10-24T18:22:33.027746Z",
     "start_time": "2023-10-24T18:22:32.978094Z"
    },
    "hidden": true
   },
   "outputs": [],
   "source": [
    "df = df.groupby(['store', 'date']).agg({'weekly_sales':'sum', 'isholiday':'first', 'temperature':'first', 'fuel_price':'first', 'cpi':'first', 'unemployment':'first', 'type':'first', 'size':'first'}).reset_index()\n",
    "df_raw = df.groupby(['store', 'date']).agg({'weekly_sales':'sum', 'isholiday':'first', 'temperature':'first', 'fuel_price':'first', 'cpi':'first', 'unemployment':'first', 'type':'first', 'size':'first'}).reset_index()"
   ]
  },
  {
   "cell_type": "markdown",
   "id": "12564449",
   "metadata": {},
   "source": [
    "## 1.10 Descriptive Statistical"
   ]
  },
  {
   "cell_type": "code",
   "execution_count": 24,
   "id": "efb7f975",
   "metadata": {
    "ExecuteTime": {
     "end_time": "2023-10-24T18:22:33.032837Z",
     "start_time": "2023-10-24T18:22:33.028864Z"
    }
   },
   "outputs": [],
   "source": [
    "def descp_stasts(df, col):\n",
    "    a = df[col].mean()\n",
    "    b = df[col].median()\n",
    "    c = (df[col].mean() - df[col].median()) / df[col].mean()\n",
    "    d = df[col].min()\n",
    "    e = df[col].max()\n",
    "    f = df[col].max() - df[col].min()\n",
    "    g = df[col].std()\n",
    "    h = df[col].std() / df[col].mean()\n",
    "    i = df[col].skew()\n",
    "    j = df[col].kurtosis()\n",
    "    k = np.percentile(df[col], 25)\n",
    "    l = np.percentile(df[col], 50)\n",
    "    m = np.percentile(df[col], 75)\n",
    "\n",
    "    temp = pd.DataFrame([a, b, c, d, e, f, g, h, i, j, k, l, m], index='mean median coef_desloc min max range std coef_disp skew kurtosis q1 q2 q3'.split(), columns=[col])\n",
    "    temp = round(temp, 2)\n",
    "    return temp"
   ]
  },
  {
   "cell_type": "code",
   "execution_count": 25,
   "id": "28e64644",
   "metadata": {
    "ExecuteTime": {
     "end_time": "2023-10-24T18:22:33.040246Z",
     "start_time": "2023-10-24T18:22:33.034208Z"
    }
   },
   "outputs": [],
   "source": [
    "def plot_stats(df, col):\n",
    "    plt.figure(figsize=(3, 2))\n",
    "    plt.subplot(3, 1, 1)\n",
    "    sns.kdeplot(data=df, x=col)\n",
    "    sns.despine()\n",
    "    plt.title('densityplot')\n",
    "    plt.xlabel('')\n",
    "    plt.ylabel('')\n",
    "\n",
    "    plt.figure(figsize=(3, 3))\n",
    "    plt.subplot(3, 1, 2)\n",
    "    sns.boxplot(data=df, x=col)\n",
    "    sns.despine()\n",
    "    plt.title('boxplot')\n",
    "    plt.xlabel('')\n",
    "    plt.ylabel('')\n",
    "\n",
    "    plt.figure(figsize=(3, 3))\n",
    "    plt.subplot(3, 1, 3)\n",
    "    sns.histplot(data=df, x=col)\n",
    "    sns.despine()\n",
    "    plt.title('histplot')\n",
    "    plt.xlabel('')\n",
    "    plt.ylabel('');"
   ]
  },
  {
   "cell_type": "code",
   "execution_count": 26,
   "id": "3a28cf60",
   "metadata": {
    "ExecuteTime": {
     "end_time": "2023-10-24T18:22:33.049526Z",
     "start_time": "2023-10-24T18:22:33.042563Z"
    }
   },
   "outputs": [],
   "source": [
    "def plot_stats_stores(df, col):\n",
    "    for i in range(1, 5):\n",
    "        rand = randint(df['store'].min(), df['store'].max())\n",
    "        temp = df.loc[df['store']==rand]\n",
    "        print(f'Store {rand}')\n",
    "        plt.subplot(5, 1, i)\n",
    "        sns.kdeplot(data=temp, x=col)\n",
    "        sns.despine()\n",
    "        plt.xlabel('')\n",
    "        plt.ylabel('')\n",
    "        plt.show();"
   ]
  },
  {
   "cell_type": "code",
   "execution_count": 27,
   "id": "0635275f",
   "metadata": {
    "ExecuteTime": {
     "end_time": "2023-10-24T18:22:33.055933Z",
     "start_time": "2023-10-24T18:22:33.051124Z"
    }
   },
   "outputs": [],
   "source": [
    "def plot_stats_stores_(df, col, xlimmin, xlimmax):\n",
    "    for i in range(1, 5):\n",
    "        rand = randint(df['store'].min(), df['store'].max())\n",
    "        temp = df.loc[df['store']==rand]\n",
    "        print(f'Store {rand}')\n",
    "        plt.subplot(5, 1, i)\n",
    "        sns.kdeplot(data=temp, x=col)\n",
    "        sns.despine()\n",
    "        plt.xlabel('')\n",
    "        plt.ylabel('')\n",
    "        plt.xlim(xlimmin, xlimmax)\n",
    "        plt.show();"
   ]
  },
  {
   "cell_type": "markdown",
   "id": "956b36f4",
   "metadata": {},
   "source": [
    "### 1.10.1 Numerical Attributes"
   ]
  },
  {
   "cell_type": "markdown",
   "id": "6e4fbfa9",
   "metadata": {},
   "source": [
    "#### cpi"
   ]
  },
  {
   "cell_type": "code",
   "execution_count": 28,
   "id": "4ebfb2ac",
   "metadata": {
    "ExecuteTime": {
     "end_time": "2023-10-24T18:22:33.070138Z",
     "start_time": "2023-10-24T18:22:33.058001Z"
    },
    "cell_style": "split"
   },
   "outputs": [
    {
     "data": {
      "text/html": [
       "<div>\n",
       "<style scoped>\n",
       "    .dataframe tbody tr th:only-of-type {\n",
       "        vertical-align: middle;\n",
       "    }\n",
       "\n",
       "    .dataframe tbody tr th {\n",
       "        vertical-align: top;\n",
       "    }\n",
       "\n",
       "    .dataframe thead th {\n",
       "        text-align: right;\n",
       "    }\n",
       "</style>\n",
       "<table border=\"1\" class=\"dataframe\">\n",
       "  <thead>\n",
       "    <tr style=\"text-align: right;\">\n",
       "      <th></th>\n",
       "      <th>cpi</th>\n",
       "    </tr>\n",
       "  </thead>\n",
       "  <tbody>\n",
       "    <tr>\n",
       "      <th>mean</th>\n",
       "      <td>171.58</td>\n",
       "    </tr>\n",
       "    <tr>\n",
       "      <th>median</th>\n",
       "      <td>182.62</td>\n",
       "    </tr>\n",
       "    <tr>\n",
       "      <th>coef_desloc</th>\n",
       "      <td>-0.06</td>\n",
       "    </tr>\n",
       "    <tr>\n",
       "      <th>min</th>\n",
       "      <td>126.06</td>\n",
       "    </tr>\n",
       "    <tr>\n",
       "      <th>max</th>\n",
       "      <td>227.23</td>\n",
       "    </tr>\n",
       "    <tr>\n",
       "      <th>range</th>\n",
       "      <td>101.17</td>\n",
       "    </tr>\n",
       "    <tr>\n",
       "      <th>std</th>\n",
       "      <td>39.36</td>\n",
       "    </tr>\n",
       "    <tr>\n",
       "      <th>coef_disp</th>\n",
       "      <td>0.23</td>\n",
       "    </tr>\n",
       "    <tr>\n",
       "      <th>skew</th>\n",
       "      <td>0.06</td>\n",
       "    </tr>\n",
       "    <tr>\n",
       "      <th>kurtosis</th>\n",
       "      <td>-1.84</td>\n",
       "    </tr>\n",
       "    <tr>\n",
       "      <th>q1</th>\n",
       "      <td>131.74</td>\n",
       "    </tr>\n",
       "    <tr>\n",
       "      <th>q2</th>\n",
       "      <td>182.62</td>\n",
       "    </tr>\n",
       "    <tr>\n",
       "      <th>q3</th>\n",
       "      <td>212.74</td>\n",
       "    </tr>\n",
       "  </tbody>\n",
       "</table>\n",
       "</div>"
      ],
      "text/plain": [
       "                cpi\n",
       "mean         171.58\n",
       "median       182.62\n",
       "coef_desloc   -0.06\n",
       "min          126.06\n",
       "max          227.23\n",
       "range        101.17\n",
       "std           39.36\n",
       "coef_disp      0.23\n",
       "skew           0.06\n",
       "kurtosis      -1.84\n",
       "q1           131.74\n",
       "q2           182.62\n",
       "q3           212.74"
      ]
     },
     "execution_count": 28,
     "metadata": {},
     "output_type": "execute_result"
    }
   ],
   "source": [
    "temp = descp_stasts(df, 'cpi')\n",
    "temp"
   ]
  },
  {
   "cell_type": "code",
   "execution_count": 29,
   "id": "c86f57a4",
   "metadata": {
    "ExecuteTime": {
     "end_time": "2023-10-24T18:22:33.552504Z",
     "start_time": "2023-10-24T18:22:33.079691Z"
    },
    "cell_style": "split"
   },
   "outputs": [
    {
     "data": {
      "image/png": "[encoded data removed]",
      "text/plain": [
       "<Figure size 300x200 with 1 Axes>"
      ]
     },
     "metadata": {},
     "output_type": "display_data"
    },
    {
     "data": {
      "image/png": "[encoded data removed]",
      "text/plain": [
       "<Figure size 300x300 with 1 Axes>"
      ]
     },
     "metadata": {},
     "output_type": "display_data"
    },
    {
     "data": {
      "image/png": "[encoded data removed]",
      "text/plain": [
       "<Figure size 300x300 with 1 Axes>"
      ]
     },
     "metadata": {},
     "output_type": "display_data"
    }
   ],
   "source": [
    "plot_stats(df, 'cpi')"
   ]
  },
  {
   "cell_type": "code",
   "execution_count": 30,
   "id": "fc5d5d15",
   "metadata": {
    "ExecuteTime": {
     "end_time": "2023-10-24T18:22:33.599413Z",
     "start_time": "2023-10-24T18:22:33.554257Z"
    }
   },
   "outputs": [
    {
     "data": {
      "text/html": [
       "<div>\n",
       "<style scoped>\n",
       "    .dataframe tbody tr th:only-of-type {\n",
       "        vertical-align: middle;\n",
       "    }\n",
       "\n",
       "    .dataframe tbody tr th {\n",
       "        vertical-align: top;\n",
       "    }\n",
       "\n",
       "    .dataframe thead th {\n",
       "        text-align: right;\n",
       "    }\n",
       "</style>\n",
       "<table border=\"1\" class=\"dataframe\">\n",
       "  <thead>\n",
       "    <tr style=\"text-align: right;\">\n",
       "      <th></th>\n",
       "      <th>store 31</th>\n",
       "      <th>store 7</th>\n",
       "      <th>store 6</th>\n",
       "      <th>store 6</th>\n",
       "      <th>store 17</th>\n",
       "      <th>store 43</th>\n",
       "      <th>store 8</th>\n",
       "      <th>store 30</th>\n",
       "      <th>store 2</th>\n",
       "    </tr>\n",
       "  </thead>\n",
       "  <tbody>\n",
       "    <tr>\n",
       "      <th>mean</th>\n",
       "      <td>215.65</td>\n",
       "      <td>193.66</td>\n",
       "      <td>217.55</td>\n",
       "      <td>217.55</td>\n",
       "      <td>128.68</td>\n",
       "      <td>207.74</td>\n",
       "      <td>219.44</td>\n",
       "      <td>215.65</td>\n",
       "      <td>215.65</td>\n",
       "    </tr>\n",
       "    <tr>\n",
       "      <th>median</th>\n",
       "      <td>215.11</td>\n",
       "      <td>192.90</td>\n",
       "      <td>217.01</td>\n",
       "      <td>217.01</td>\n",
       "      <td>129.08</td>\n",
       "      <td>207.26</td>\n",
       "      <td>218.89</td>\n",
       "      <td>215.11</td>\n",
       "      <td>215.11</td>\n",
       "    </tr>\n",
       "    <tr>\n",
       "      <th>coef_desloc</th>\n",
       "      <td>0.00</td>\n",
       "      <td>0.00</td>\n",
       "      <td>0.00</td>\n",
       "      <td>0.00</td>\n",
       "      <td>-0.00</td>\n",
       "      <td>0.00</td>\n",
       "      <td>0.00</td>\n",
       "      <td>0.00</td>\n",
       "      <td>0.00</td>\n",
       "    </tr>\n",
       "    <tr>\n",
       "      <th>min</th>\n",
       "      <td>210.00</td>\n",
       "      <td>189.38</td>\n",
       "      <td>211.84</td>\n",
       "      <td>211.84</td>\n",
       "      <td>126.06</td>\n",
       "      <td>202.37</td>\n",
       "      <td>213.67</td>\n",
       "      <td>210.00</td>\n",
       "      <td>210.00</td>\n",
       "    </tr>\n",
       "    <tr>\n",
       "      <th>max</th>\n",
       "      <td>223.08</td>\n",
       "      <td>199.22</td>\n",
       "      <td>225.07</td>\n",
       "      <td>225.07</td>\n",
       "      <td>131.19</td>\n",
       "      <td>214.74</td>\n",
       "      <td>227.04</td>\n",
       "      <td>223.08</td>\n",
       "      <td>223.08</td>\n",
       "    </tr>\n",
       "    <tr>\n",
       "      <th>range</th>\n",
       "      <td>13.08</td>\n",
       "      <td>9.84</td>\n",
       "      <td>13.23</td>\n",
       "      <td>13.23</td>\n",
       "      <td>5.13</td>\n",
       "      <td>12.37</td>\n",
       "      <td>13.37</td>\n",
       "      <td>13.08</td>\n",
       "      <td>13.08</td>\n",
       "    </tr>\n",
       "    <tr>\n",
       "      <th>std</th>\n",
       "      <td>4.34</td>\n",
       "      <td>3.20</td>\n",
       "      <td>4.39</td>\n",
       "      <td>4.39</td>\n",
       "      <td>1.86</td>\n",
       "      <td>4.12</td>\n",
       "      <td>4.44</td>\n",
       "      <td>4.34</td>\n",
       "      <td>4.34</td>\n",
       "    </tr>\n",
       "    <tr>\n",
       "      <th>coef_disp</th>\n",
       "      <td>0.02</td>\n",
       "      <td>0.02</td>\n",
       "      <td>0.02</td>\n",
       "      <td>0.02</td>\n",
       "      <td>0.01</td>\n",
       "      <td>0.02</td>\n",
       "      <td>0.02</td>\n",
       "      <td>0.02</td>\n",
       "      <td>0.02</td>\n",
       "    </tr>\n",
       "    <tr>\n",
       "      <th>skew</th>\n",
       "      <td>0.27</td>\n",
       "      <td>0.16</td>\n",
       "      <td>0.27</td>\n",
       "      <td>0.27</td>\n",
       "      <td>-0.17</td>\n",
       "      <td>0.25</td>\n",
       "      <td>0.27</td>\n",
       "      <td>0.27</td>\n",
       "      <td>0.27</td>\n",
       "    </tr>\n",
       "    <tr>\n",
       "      <th>kurtosis</th>\n",
       "      <td>-1.46</td>\n",
       "      <td>-1.48</td>\n",
       "      <td>-1.46</td>\n",
       "      <td>-1.46</td>\n",
       "      <td>-1.55</td>\n",
       "      <td>-1.47</td>\n",
       "      <td>-1.46</td>\n",
       "      <td>-1.46</td>\n",
       "      <td>-1.46</td>\n",
       "    </tr>\n",
       "    <tr>\n",
       "      <th>q1</th>\n",
       "      <td>211.21</td>\n",
       "      <td>190.82</td>\n",
       "      <td>213.07</td>\n",
       "      <td>213.07</td>\n",
       "      <td>126.59</td>\n",
       "      <td>203.48</td>\n",
       "      <td>214.92</td>\n",
       "      <td>211.21</td>\n",
       "      <td>211.21</td>\n",
       "    </tr>\n",
       "    <tr>\n",
       "      <th>q2</th>\n",
       "      <td>215.11</td>\n",
       "      <td>192.90</td>\n",
       "      <td>217.01</td>\n",
       "      <td>217.01</td>\n",
       "      <td>129.08</td>\n",
       "      <td>207.26</td>\n",
       "      <td>218.89</td>\n",
       "      <td>215.11</td>\n",
       "      <td>215.11</td>\n",
       "    </tr>\n",
       "    <tr>\n",
       "      <th>q3</th>\n",
       "      <td>220.17</td>\n",
       "      <td>196.95</td>\n",
       "      <td>222.13</td>\n",
       "      <td>222.13</td>\n",
       "      <td>130.50</td>\n",
       "      <td>212.02</td>\n",
       "      <td>224.07</td>\n",
       "      <td>220.17</td>\n",
       "      <td>220.17</td>\n",
       "    </tr>\n",
       "  </tbody>\n",
       "</table>\n",
       "</div>"
      ],
      "text/plain": [
       "             store 31  store 7  store 6  store 6  store 17  store 43  store 8  \\\n",
       "mean           215.65   193.66   217.55   217.55    128.68    207.74   219.44   \n",
       "median         215.11   192.90   217.01   217.01    129.08    207.26   218.89   \n",
       "coef_desloc      0.00     0.00     0.00     0.00     -0.00      0.00     0.00   \n",
       "min            210.00   189.38   211.84   211.84    126.06    202.37   213.67   \n",
       "max            223.08   199.22   225.07   225.07    131.19    214.74   227.04   \n",
       "range           13.08     9.84    13.23    13.23      5.13     12.37    13.37   \n",
       "std              4.34     3.20     4.39     4.39      1.86      4.12     4.44   \n",
       "coef_disp        0.02     0.02     0.02     0.02      0.01      0.02     0.02   \n",
       "skew             0.27     0.16     0.27     0.27     -0.17      0.25     0.27   \n",
       "kurtosis        -1.46    -1.48    -1.46    -1.46     -1.55     -1.47    -1.46   \n",
       "q1             211.21   190.82   213.07   213.07    126.59    203.48   214.92   \n",
       "q2             215.11   192.90   217.01   217.01    129.08    207.26   218.89   \n",
       "q3             220.17   196.95   222.13   222.13    130.50    212.02   224.07   \n",
       "\n",
       "             store 30  store 2  \n",
       "mean           215.65   215.65  \n",
       "median         215.11   215.11  \n",
       "coef_desloc      0.00     0.00  \n",
       "min            210.00   210.00  \n",
       "max            223.08   223.08  \n",
       "range           13.08    13.08  \n",
       "std              4.34     4.34  \n",
       "coef_disp        0.02     0.02  \n",
       "skew             0.27     0.27  \n",
       "kurtosis        -1.46    -1.46  \n",
       "q1             211.21   211.21  \n",
       "q2             215.11   215.11  \n",
       "q3             220.17   220.17  "
      ]
     },
     "execution_count": 30,
     "metadata": {},
     "output_type": "execute_result"
    }
   ],
   "source": [
    "cols = pd.DataFrame()\n",
    "for i in range(1, 10):\n",
    "    rand = randint(df['store'].min(), df['store'].max())\n",
    "    temp = df.loc[df['store']==rand]\n",
    "    temp_ = descp_stasts(temp, 'cpi')\n",
    "    temp_.columns = [f'store {rand}']\n",
    "    cols = pd.concat([cols, temp_], axis=1)\n",
    "cols"
   ]
  },
  {
   "cell_type": "code",
   "execution_count": 31,
   "id": "d097d7c1",
   "metadata": {
    "ExecuteTime": {
     "end_time": "2023-10-24T18:22:34.233199Z",
     "start_time": "2023-10-24T18:22:33.601108Z"
    }
   },
   "outputs": [
    {
     "name": "stdout",
     "output_type": "stream",
     "text": [
      "Store 8\n"
     ]
    },
    {
     "data": {
      "image/png": "[encoded data removed]",
      "text/plain": [
       "<Figure size 640x480 with 1 Axes>"
      ]
     },
     "metadata": {},
     "output_type": "display_data"
    },
    {
     "name": "stdout",
     "output_type": "stream",
     "text": [
      "Store 21\n"
     ]
    },
    {
     "data": {
      "image/png": "[encoded data removed]",
      "text/plain": [
       "<Figure size 640x480 with 1 Axes>"
      ]
     },
     "metadata": {},
     "output_type": "display_data"
    },
    {
     "name": "stdout",
     "output_type": "stream",
     "text": [
      "Store 40\n"
     ]
    },
    {
     "data": {
      "image/png": "[encoded data removed]",
      "text/plain": [
       "<Figure size 640x480 with 1 Axes>"
      ]
     },
     "metadata": {},
     "output_type": "display_data"
    },
    {
     "name": "stdout",
     "output_type": "stream",
     "text": [
      "Store 42\n"
     ]
    },
    {
     "data": {
      "image/png": "[encoded data removed]",
      "text/plain": [
       "<Figure size 640x480 with 1 Axes>"
      ]
     },
     "metadata": {},
     "output_type": "display_data"
    }
   ],
   "source": [
    "plot_stats_stores(df, 'cpi')"
   ]
  },
  {
   "cell_type": "code",
   "execution_count": 32,
   "id": "7715e08f",
   "metadata": {
    "ExecuteTime": {
     "end_time": "2023-10-24T18:22:34.897707Z",
     "start_time": "2023-10-24T18:22:34.235038Z"
    }
   },
   "outputs": [
    {
     "name": "stdout",
     "output_type": "stream",
     "text": [
      "Store 24\n"
     ]
    },
    {
     "data": {
      "image/png": "[encoded data removed]",
      "text/plain": [
       "<Figure size 640x480 with 1 Axes>"
      ]
     },
     "metadata": {},
     "output_type": "display_data"
    },
    {
     "name": "stdout",
     "output_type": "stream",
     "text": [
      "Store 24\n"
     ]
    },
    {
     "data": {
      "image/png": "[encoded data removed]",
      "text/plain": [
       "<Figure size 640x480 with 1 Axes>"
      ]
     },
     "metadata": {},
     "output_type": "display_data"
    },
    {
     "name": "stdout",
     "output_type": "stream",
     "text": [
      "Store 35\n"
     ]
    },
    {
     "data": {
      "image/png": "[encoded data removed]",
      "text/plain": [
       "<Figure size 640x480 with 1 Axes>"
      ]
     },
     "metadata": {},
     "output_type": "display_data"
    },
    {
     "name": "stdout",
     "output_type": "stream",
     "text": [
      "Store 9\n"
     ]
    },
    {
     "data": {
      "image/png": "[encoded data removed]",
      "text/plain": [
       "<Figure size 640x480 with 1 Axes>"
      ]
     },
     "metadata": {},
     "output_type": "display_data"
    }
   ],
   "source": [
    "plot_stats_stores_(df, 'cpi', 120, 230)"
   ]
  },
  {
   "cell_type": "markdown",
   "id": "c70e887e",
   "metadata": {},
   "source": [
    "#### temperature"
   ]
  },
  {
   "cell_type": "code",
   "execution_count": 33,
   "id": "6b74cd54",
   "metadata": {
    "ExecuteTime": {
     "end_time": "2023-10-24T18:22:34.930181Z",
     "start_time": "2023-10-24T18:22:34.907932Z"
    },
    "cell_style": "split"
   },
   "outputs": [
    {
     "data": {
      "text/html": [
       "<div>\n",
       "<style scoped>\n",
       "    .dataframe tbody tr th:only-of-type {\n",
       "        vertical-align: middle;\n",
       "    }\n",
       "\n",
       "    .dataframe tbody tr th {\n",
       "        vertical-align: top;\n",
       "    }\n",
       "\n",
       "    .dataframe thead th {\n",
       "        text-align: right;\n",
       "    }\n",
       "</style>\n",
       "<table border=\"1\" class=\"dataframe\">\n",
       "  <thead>\n",
       "    <tr style=\"text-align: right;\">\n",
       "      <th></th>\n",
       "      <th>temperature</th>\n",
       "    </tr>\n",
       "  </thead>\n",
       "  <tbody>\n",
       "    <tr>\n",
       "      <th>mean</th>\n",
       "      <td>60.66</td>\n",
       "    </tr>\n",
       "    <tr>\n",
       "      <th>median</th>\n",
       "      <td>62.67</td>\n",
       "    </tr>\n",
       "    <tr>\n",
       "      <th>coef_desloc</th>\n",
       "      <td>-0.03</td>\n",
       "    </tr>\n",
       "    <tr>\n",
       "      <th>min</th>\n",
       "      <td>-2.06</td>\n",
       "    </tr>\n",
       "    <tr>\n",
       "      <th>max</th>\n",
       "      <td>100.14</td>\n",
       "    </tr>\n",
       "    <tr>\n",
       "      <th>range</th>\n",
       "      <td>102.20</td>\n",
       "    </tr>\n",
       "    <tr>\n",
       "      <th>std</th>\n",
       "      <td>18.44</td>\n",
       "    </tr>\n",
       "    <tr>\n",
       "      <th>coef_disp</th>\n",
       "      <td>0.30</td>\n",
       "    </tr>\n",
       "    <tr>\n",
       "      <th>skew</th>\n",
       "      <td>-0.34</td>\n",
       "    </tr>\n",
       "    <tr>\n",
       "      <th>kurtosis</th>\n",
       "      <td>-0.61</td>\n",
       "    </tr>\n",
       "    <tr>\n",
       "      <th>q1</th>\n",
       "      <td>47.46</td>\n",
       "    </tr>\n",
       "    <tr>\n",
       "      <th>q2</th>\n",
       "      <td>62.67</td>\n",
       "    </tr>\n",
       "    <tr>\n",
       "      <th>q3</th>\n",
       "      <td>74.94</td>\n",
       "    </tr>\n",
       "  </tbody>\n",
       "</table>\n",
       "</div>"
      ],
      "text/plain": [
       "             temperature\n",
       "mean               60.66\n",
       "median             62.67\n",
       "coef_desloc        -0.03\n",
       "min                -2.06\n",
       "max               100.14\n",
       "range             102.20\n",
       "std                18.44\n",
       "coef_disp           0.30\n",
       "skew               -0.34\n",
       "kurtosis           -0.61\n",
       "q1                 47.46\n",
       "q2                 62.67\n",
       "q3                 74.94"
      ]
     },
     "execution_count": 33,
     "metadata": {},
     "output_type": "execute_result"
    }
   ],
   "source": [
    "temp = descp_stasts(df, 'temperature')\n",
    "temp"
   ]
  },
  {
   "cell_type": "code",
   "execution_count": 34,
   "id": "3af8c83a",
   "metadata": {
    "ExecuteTime": {
     "end_time": "2023-10-24T18:22:35.460794Z",
     "start_time": "2023-10-24T18:22:34.931850Z"
    },
    "cell_style": "split"
   },
   "outputs": [
    {
     "data": {
      "image/png": "[encoded data removed]",
      "text/plain": [
       "<Figure size 300x200 with 1 Axes>"
      ]
     },
     "metadata": {},
     "output_type": "display_data"
    },
    {
     "data": {
      "image/png": "[encoded data removed]",
      "text/plain": [
       "<Figure size 300x300 with 1 Axes>"
      ]
     },
     "metadata": {},
     "output_type": "display_data"
    },
    {
     "data": {
      "image/png": "[encoded data removed]",
      "text/plain": [
       "<Figure size 300x300 with 1 Axes>"
      ]
     },
     "metadata": {},
     "output_type": "display_data"
    }
   ],
   "source": [
    "plot_stats(df, 'temperature')"
   ]
  },
  {
   "cell_type": "code",
   "execution_count": 35,
   "id": "ad51e7d8",
   "metadata": {
    "ExecuteTime": {
     "end_time": "2023-10-24T18:22:35.517434Z",
     "start_time": "2023-10-24T18:22:35.462547Z"
    }
   },
   "outputs": [
    {
     "data": {
      "text/html": [
       "<div>\n",
       "<style scoped>\n",
       "    .dataframe tbody tr th:only-of-type {\n",
       "        vertical-align: middle;\n",
       "    }\n",
       "\n",
       "    .dataframe tbody tr th {\n",
       "        vertical-align: top;\n",
       "    }\n",
       "\n",
       "    .dataframe thead th {\n",
       "        text-align: right;\n",
       "    }\n",
       "</style>\n",
       "<table border=\"1\" class=\"dataframe\">\n",
       "  <thead>\n",
       "    <tr style=\"text-align: right;\">\n",
       "      <th></th>\n",
       "      <th>store 3</th>\n",
       "      <th>store 27</th>\n",
       "      <th>store 42</th>\n",
       "      <th>store 5</th>\n",
       "      <th>store 2</th>\n",
       "      <th>store 19</th>\n",
       "      <th>store 18</th>\n",
       "      <th>store 1</th>\n",
       "      <th>store 33</th>\n",
       "    </tr>\n",
       "  </thead>\n",
       "  <tbody>\n",
       "    <tr>\n",
       "      <th>mean</th>\n",
       "      <td>71.43</td>\n",
       "      <td>57.31</td>\n",
       "      <td>72.24</td>\n",
       "      <td>69.41</td>\n",
       "      <td>68.22</td>\n",
       "      <td>52.30</td>\n",
       "      <td>53.37</td>\n",
       "      <td>68.31</td>\n",
       "      <td>76.73</td>\n",
       "    </tr>\n",
       "    <tr>\n",
       "      <th>median</th>\n",
       "      <td>73.01</td>\n",
       "      <td>58.38</td>\n",
       "      <td>73.56</td>\n",
       "      <td>70.96</td>\n",
       "      <td>69.21</td>\n",
       "      <td>53.44</td>\n",
       "      <td>55.83</td>\n",
       "      <td>69.64</td>\n",
       "      <td>77.44</td>\n",
       "    </tr>\n",
       "    <tr>\n",
       "      <th>coef_desloc</th>\n",
       "      <td>-0.02</td>\n",
       "      <td>-0.02</td>\n",
       "      <td>-0.02</td>\n",
       "      <td>-0.02</td>\n",
       "      <td>-0.01</td>\n",
       "      <td>-0.02</td>\n",
       "      <td>-0.05</td>\n",
       "      <td>-0.02</td>\n",
       "      <td>-0.01</td>\n",
       "    </tr>\n",
       "    <tr>\n",
       "      <th>min</th>\n",
       "      <td>43.57</td>\n",
       "      <td>23.64</td>\n",
       "      <td>42.58</td>\n",
       "      <td>37.74</td>\n",
       "      <td>33.02</td>\n",
       "      <td>20.66</td>\n",
       "      <td>14.84</td>\n",
       "      <td>35.40</td>\n",
       "      <td>46.25</td>\n",
       "    </tr>\n",
       "    <tr>\n",
       "      <th>max</th>\n",
       "      <td>89.12</td>\n",
       "      <td>82.69</td>\n",
       "      <td>95.36</td>\n",
       "      <td>91.07</td>\n",
       "      <td>93.34</td>\n",
       "      <td>79.37</td>\n",
       "      <td>79.75</td>\n",
       "      <td>91.65</td>\n",
       "      <td>100.14</td>\n",
       "    </tr>\n",
       "    <tr>\n",
       "      <th>range</th>\n",
       "      <td>45.55</td>\n",
       "      <td>59.05</td>\n",
       "      <td>52.78</td>\n",
       "      <td>53.33</td>\n",
       "      <td>60.32</td>\n",
       "      <td>58.71</td>\n",
       "      <td>64.91</td>\n",
       "      <td>56.25</td>\n",
       "      <td>53.89</td>\n",
       "    </tr>\n",
       "    <tr>\n",
       "      <th>std</th>\n",
       "      <td>12.65</td>\n",
       "      <td>16.02</td>\n",
       "      <td>14.03</td>\n",
       "      <td>14.23</td>\n",
       "      <td>15.49</td>\n",
       "      <td>16.61</td>\n",
       "      <td>16.70</td>\n",
       "      <td>14.25</td>\n",
       "      <td>15.38</td>\n",
       "    </tr>\n",
       "    <tr>\n",
       "      <th>coef_disp</th>\n",
       "      <td>0.18</td>\n",
       "      <td>0.28</td>\n",
       "      <td>0.19</td>\n",
       "      <td>0.20</td>\n",
       "      <td>0.23</td>\n",
       "      <td>0.32</td>\n",
       "      <td>0.31</td>\n",
       "      <td>0.21</td>\n",
       "      <td>0.20</td>\n",
       "    </tr>\n",
       "    <tr>\n",
       "      <th>skew</th>\n",
       "      <td>-0.48</td>\n",
       "      <td>-0.25</td>\n",
       "      <td>-0.25</td>\n",
       "      <td>-0.42</td>\n",
       "      <td>-0.32</td>\n",
       "      <td>-0.22</td>\n",
       "      <td>-0.30</td>\n",
       "      <td>-0.41</td>\n",
       "      <td>-0.15</td>\n",
       "    </tr>\n",
       "    <tr>\n",
       "      <th>kurtosis</th>\n",
       "      <td>-0.94</td>\n",
       "      <td>-1.12</td>\n",
       "      <td>-1.24</td>\n",
       "      <td>-0.88</td>\n",
       "      <td>-0.94</td>\n",
       "      <td>-1.15</td>\n",
       "      <td>-1.08</td>\n",
       "      <td>-0.87</td>\n",
       "      <td>-1.33</td>\n",
       "    </tr>\n",
       "    <tr>\n",
       "      <th>q1</th>\n",
       "      <td>61.61</td>\n",
       "      <td>45.18</td>\n",
       "      <td>59.06</td>\n",
       "      <td>58.66</td>\n",
       "      <td>56.74</td>\n",
       "      <td>39.06</td>\n",
       "      <td>39.61</td>\n",
       "      <td>58.26</td>\n",
       "      <td>61.99</td>\n",
       "    </tr>\n",
       "    <tr>\n",
       "      <th>q2</th>\n",
       "      <td>73.01</td>\n",
       "      <td>58.38</td>\n",
       "      <td>73.56</td>\n",
       "      <td>70.96</td>\n",
       "      <td>69.21</td>\n",
       "      <td>53.44</td>\n",
       "      <td>55.83</td>\n",
       "      <td>69.64</td>\n",
       "      <td>77.44</td>\n",
       "    </tr>\n",
       "    <tr>\n",
       "      <th>q3</th>\n",
       "      <td>82.64</td>\n",
       "      <td>71.73</td>\n",
       "      <td>85.11</td>\n",
       "      <td>81.20</td>\n",
       "      <td>81.94</td>\n",
       "      <td>67.99</td>\n",
       "      <td>68.76</td>\n",
       "      <td>80.48</td>\n",
       "      <td>91.47</td>\n",
       "    </tr>\n",
       "  </tbody>\n",
       "</table>\n",
       "</div>"
      ],
      "text/plain": [
       "             store 3  store 27  store 42  store 5  store 2  store 19  \\\n",
       "mean           71.43     57.31     72.24    69.41    68.22     52.30   \n",
       "median         73.01     58.38     73.56    70.96    69.21     53.44   \n",
       "coef_desloc    -0.02     -0.02     -0.02    -0.02    -0.01     -0.02   \n",
       "min            43.57     23.64     42.58    37.74    33.02     20.66   \n",
       "max            89.12     82.69     95.36    91.07    93.34     79.37   \n",
       "range          45.55     59.05     52.78    53.33    60.32     58.71   \n",
       "std            12.65     16.02     14.03    14.23    15.49     16.61   \n",
       "coef_disp       0.18      0.28      0.19     0.20     0.23      0.32   \n",
       "skew           -0.48     -0.25     -0.25    -0.42    -0.32     -0.22   \n",
       "kurtosis       -0.94     -1.12     -1.24    -0.88    -0.94     -1.15   \n",
       "q1             61.61     45.18     59.06    58.66    56.74     39.06   \n",
       "q2             73.01     58.38     73.56    70.96    69.21     53.44   \n",
       "q3             82.64     71.73     85.11    81.20    81.94     67.99   \n",
       "\n",
       "             store 18  store 1  store 33  \n",
       "mean            53.37    68.31     76.73  \n",
       "median          55.83    69.64     77.44  \n",
       "coef_desloc     -0.05    -0.02     -0.01  \n",
       "min             14.84    35.40     46.25  \n",
       "max             79.75    91.65    100.14  \n",
       "range           64.91    56.25     53.89  \n",
       "std             16.70    14.25     15.38  \n",
       "coef_disp        0.31     0.21      0.20  \n",
       "skew            -0.30    -0.41     -0.15  \n",
       "kurtosis        -1.08    -0.87     -1.33  \n",
       "q1              39.61    58.26     61.99  \n",
       "q2              55.83    69.64     77.44  \n",
       "q3              68.76    80.48     91.47  "
      ]
     },
     "execution_count": 35,
     "metadata": {},
     "output_type": "execute_result"
    }
   ],
   "source": [
    "cols = pd.DataFrame()\n",
    "for i in range(1, 10):\n",
    "    rand = randint(df['store'].min(), df['store'].max())\n",
    "    temp = df.loc[df['store']==rand]\n",
    "    temp_ = descp_stasts(temp, 'temperature')\n",
    "    temp_.columns = [f'store {rand}']\n",
    "    cols = pd.concat([cols, temp_], axis=1)\n",
    "cols"
   ]
  },
  {
   "cell_type": "code",
   "execution_count": 36,
   "id": "893e13a5",
   "metadata": {
    "ExecuteTime": {
     "end_time": "2023-10-24T18:22:36.333027Z",
     "start_time": "2023-10-24T18:22:35.519036Z"
    }
   },
   "outputs": [
    {
     "name": "stdout",
     "output_type": "stream",
     "text": [
      "Store 11\n"
     ]
    },
    {
     "data": {
      "image/png": "[encoded data removed]",
      "text/plain": [
       "<Figure size 640x480 with 1 Axes>"
      ]
     },
     "metadata": {},
     "output_type": "display_data"
    },
    {
     "name": "stdout",
     "output_type": "stream",
     "text": [
      "Store 20\n"
     ]
    },
    {
     "data": {
      "image/png": "[encoded data removed]",
      "text/plain": [
       "<Figure size 640x480 with 1 Axes>"
      ]
     },
     "metadata": {},
     "output_type": "display_data"
    },
    {
     "name": "stdout",
     "output_type": "stream",
     "text": [
      "Store 12\n"
     ]
    },
    {
     "data": {
      "image/png": "[encoded data removed]",
      "text/plain": [
       "<Figure size 640x480 with 1 Axes>"
      ]
     },
     "metadata": {},
     "output_type": "display_data"
    },
    {
     "name": "stdout",
     "output_type": "stream",
     "text": [
      "Store 28\n"
     ]
    },
    {
     "data": {
      "image/png": "[encoded data removed]",
      "text/plain": [
       "<Figure size 640x480 with 1 Axes>"
      ]
     },
     "metadata": {},
     "output_type": "display_data"
    }
   ],
   "source": [
    "plot_stats_stores(df, 'temperature')"
   ]
  },
  {
   "cell_type": "code",
   "execution_count": 37,
   "id": "36d75356",
   "metadata": {
    "ExecuteTime": {
     "end_time": "2023-10-24T18:22:36.956218Z",
     "start_time": "2023-10-24T18:22:36.340026Z"
    }
   },
   "outputs": [
    {
     "name": "stdout",
     "output_type": "stream",
     "text": [
      "Store 39\n"
     ]
    },
    {
     "data": {
      "image/png": "[encoded data removed]",
      "text/plain": [
       "<Figure size 640x480 with 1 Axes>"
      ]
     },
     "metadata": {},
     "output_type": "display_data"
    },
    {
     "name": "stdout",
     "output_type": "stream",
     "text": [
      "Store 9\n"
     ]
    },
    {
     "data": {
      "image/png": "[encoded data removed]",
      "text/plain": [
       "<Figure size 640x480 with 1 Axes>"
      ]
     },
     "metadata": {},
     "output_type": "display_data"
    },
    {
     "name": "stdout",
     "output_type": "stream",
     "text": [
      "Store 44\n"
     ]
    },
    {
     "data": {
      "image/png": "[encoded data removed]",
      "text/plain": [
       "<Figure size 640x480 with 1 Axes>"
      ]
     },
     "metadata": {},
     "output_type": "display_data"
    },
    {
     "name": "stdout",
     "output_type": "stream",
     "text": [
      "Store 32\n"
     ]
    },
    {
     "data": {
      "image/png": "[encoded data removed]",
      "text/plain": [
       "<Figure size 640x480 with 1 Axes>"
      ]
     },
     "metadata": {},
     "output_type": "display_data"
    }
   ],
   "source": [
    "plot_stats_stores_(df, 'temperature', -2, 102)"
   ]
  },
  {
   "cell_type": "markdown",
   "id": "42987c70",
   "metadata": {
    "heading_collapsed": true
   },
   "source": [
    "# 2.0 Feature Engineering"
   ]
  },
  {
   "cell_type": "code",
   "execution_count": 38,
   "id": "a4f1e0c1",
   "metadata": {
    "ExecuteTime": {
     "end_time": "2023-10-24T18:22:36.981638Z",
     "start_time": "2023-10-24T18:22:36.963075Z"
    },
    "hidden": true
   },
   "outputs": [
    {
     "data": {
      "text/html": [
       "<div>\n",
       "<style scoped>\n",
       "    .dataframe tbody tr th:only-of-type {\n",
       "        vertical-align: middle;\n",
       "    }\n",
       "\n",
       "    .dataframe tbody tr th {\n",
       "        vertical-align: top;\n",
       "    }\n",
       "\n",
       "    .dataframe thead th {\n",
       "        text-align: right;\n",
       "    }\n",
       "</style>\n",
       "<table border=\"1\" class=\"dataframe\">\n",
       "  <thead>\n",
       "    <tr style=\"text-align: right;\">\n",
       "      <th></th>\n",
       "      <th>store</th>\n",
       "      <th>date</th>\n",
       "      <th>weekly_sales</th>\n",
       "      <th>isholiday</th>\n",
       "      <th>temperature</th>\n",
       "      <th>fuel_price</th>\n",
       "      <th>cpi</th>\n",
       "      <th>unemployment</th>\n",
       "      <th>type</th>\n",
       "      <th>size</th>\n",
       "    </tr>\n",
       "  </thead>\n",
       "  <tbody>\n",
       "    <tr>\n",
       "      <th>0</th>\n",
       "      <td>1</td>\n",
       "      <td>2010-02-05</td>\n",
       "      <td>1643690.90</td>\n",
       "      <td>0</td>\n",
       "      <td>42.31</td>\n",
       "      <td>2.572</td>\n",
       "      <td>211.096358</td>\n",
       "      <td>8.106</td>\n",
       "      <td>0</td>\n",
       "      <td>151315</td>\n",
       "    </tr>\n",
       "    <tr>\n",
       "      <th>1</th>\n",
       "      <td>1</td>\n",
       "      <td>2010-02-12</td>\n",
       "      <td>1641957.44</td>\n",
       "      <td>1</td>\n",
       "      <td>38.51</td>\n",
       "      <td>2.548</td>\n",
       "      <td>211.242170</td>\n",
       "      <td>8.106</td>\n",
       "      <td>0</td>\n",
       "      <td>151315</td>\n",
       "    </tr>\n",
       "    <tr>\n",
       "      <th>2</th>\n",
       "      <td>1</td>\n",
       "      <td>2010-02-19</td>\n",
       "      <td>1611968.17</td>\n",
       "      <td>0</td>\n",
       "      <td>39.93</td>\n",
       "      <td>2.514</td>\n",
       "      <td>211.289143</td>\n",
       "      <td>8.106</td>\n",
       "      <td>0</td>\n",
       "      <td>151315</td>\n",
       "    </tr>\n",
       "    <tr>\n",
       "      <th>3</th>\n",
       "      <td>1</td>\n",
       "      <td>2010-02-26</td>\n",
       "      <td>1409727.59</td>\n",
       "      <td>0</td>\n",
       "      <td>46.63</td>\n",
       "      <td>2.561</td>\n",
       "      <td>211.319643</td>\n",
       "      <td>8.106</td>\n",
       "      <td>0</td>\n",
       "      <td>151315</td>\n",
       "    </tr>\n",
       "    <tr>\n",
       "      <th>4</th>\n",
       "      <td>1</td>\n",
       "      <td>2010-03-05</td>\n",
       "      <td>1554806.68</td>\n",
       "      <td>0</td>\n",
       "      <td>46.50</td>\n",
       "      <td>2.625</td>\n",
       "      <td>211.350143</td>\n",
       "      <td>8.106</td>\n",
       "      <td>0</td>\n",
       "      <td>151315</td>\n",
       "    </tr>\n",
       "  </tbody>\n",
       "</table>\n",
       "</div>"
      ],
      "text/plain": [
       "   store       date  weekly_sales  isholiday  temperature  fuel_price  \\\n",
       "0      1 2010-02-05    1643690.90          0        42.31       2.572   \n",
       "1      1 2010-02-12    1641957.44          1        38.51       2.548   \n",
       "2      1 2010-02-19    1611968.17          0        39.93       2.514   \n",
       "3      1 2010-02-26    1409727.59          0        46.63       2.561   \n",
       "4      1 2010-03-05    1554806.68          0        46.50       2.625   \n",
       "\n",
       "          cpi  unemployment  type    size  \n",
       "0  211.096358         8.106     0  151315  \n",
       "1  211.242170         8.106     0  151315  \n",
       "2  211.289143         8.106     0  151315  \n",
       "3  211.319643         8.106     0  151315  \n",
       "4  211.350143         8.106     0  151315  "
      ]
     },
     "execution_count": 38,
     "metadata": {},
     "output_type": "execute_result"
    }
   ],
   "source": [
    "df_raw.head()"
   ]
  },
  {
   "cell_type": "markdown",
   "id": "fd912af9",
   "metadata": {
    "heading_collapsed": true
   },
   "source": [
    "# 3.0 Data Preparation"
   ]
  },
  {
   "cell_type": "markdown",
   "id": "636fdd09",
   "metadata": {
    "heading_collapsed": true,
    "hidden": true
   },
   "source": [
    "## Target"
   ]
  },
  {
   "cell_type": "code",
   "execution_count": 39,
   "id": "363eb428",
   "metadata": {
    "ExecuteTime": {
     "end_time": "2023-10-24T18:22:37.015406Z",
     "start_time": "2023-10-24T18:22:36.989207Z"
    },
    "hidden": true
   },
   "outputs": [],
   "source": [
    "# pp_weekly_sales = pp.MinMaxScaler()\n",
    "# pp_weekly_sales = pp_weekly_sales.fit(df[['weekly_sales']].values)\n",
    "# df['weekly_sales'] = pp_weekly_sales.transform(df[['weekly_sales']].values)"
   ]
  },
  {
   "cell_type": "markdown",
   "id": "87d33ae2",
   "metadata": {
    "hidden": true
   },
   "source": [
    "## Features"
   ]
  },
  {
   "cell_type": "markdown",
   "id": "16fcc763",
   "metadata": {
    "heading_collapsed": true,
    "hidden": true
   },
   "source": [
    "### Categorical Attributes"
   ]
  },
  {
   "cell_type": "code",
   "execution_count": 40,
   "id": "ece8db57",
   "metadata": {
    "ExecuteTime": {
     "end_time": "2023-10-24T18:22:37.034219Z",
     "start_time": "2023-10-24T18:22:37.017747Z"
    },
    "hidden": true
   },
   "outputs": [],
   "source": [
    "# # 'isholiday',\n",
    "# map_isholiday = df.groupby('isholiday').agg({'weekly_sales':'mean'})['weekly_sales'] # target encoding\n",
    "# df['isholiday'] = df['isholiday'].map(map_isholiday)\n",
    "\n",
    "# # 'type',\n",
    "# map_type = df.groupby('type').agg({'weekly_sales':'mean'})['weekly_sales'] # target encoding\n",
    "# df['type'] = df['type'].map(map_type)"
   ]
  },
  {
   "cell_type": "markdown",
   "id": "2e33a2f9",
   "metadata": {
    "heading_collapsed": true,
    "hidden": true
   },
   "source": [
    "### Numerical Attributes"
   ]
  },
  {
   "cell_type": "code",
   "execution_count": 41,
   "id": "aac6f6f0",
   "metadata": {
    "ExecuteTime": {
     "end_time": "2023-10-24T18:22:37.089006Z",
     "start_time": "2023-10-24T18:22:37.044471Z"
    },
    "hidden": true,
    "scrolled": true
   },
   "outputs": [],
   "source": [
    "# # 'temperature',\n",
    "# pp_temperature = pp.MinMaxScaler()\n",
    "# pp_temperature = pp_temperature.fit(df[['temperature']].values)\n",
    "# df['temperature'] = pp_temperature.transform(df[['temperature']].values)\n",
    "\n",
    "# # 'fuel_price',\n",
    "# pp_fuel_price = pp.MinMaxScaler()\n",
    "# pp_fuel_price = pp_fuel_price.fit(df[['fuel_price']].values)\n",
    "# df['fuel_price'] = pp_fuel_price.transform(df[['fuel_price']].values)\n",
    "\n",
    "# # 'cpi',\n",
    "# pp_cpi = pp.MinMaxScaler()\n",
    "# pp_cpi = pp_cpi.fit(df[['cpi']].values)\n",
    "# df['cpi'] = pp_cpi.transform(df[['cpi']].values)\n",
    "\n",
    "# # 'unemployment',\n",
    "# pp_unemployment = pp.MinMaxScaler()\n",
    "# pp_unemployment = pp_unemployment.fit(df[['unemployment']].values)\n",
    "# df['unemployment'] = pp_unemployment.transform(df[['unemployment']].values)\n",
    "\n",
    "# # 'size']\n",
    "# pp_size = pp.MinMaxScaler()\n",
    "# pp_size = pp_size.fit(df[['size']].values)\n",
    "# df['size'] = pp_size.transform(df[['size']].values)"
   ]
  },
  {
   "cell_type": "markdown",
   "id": "da10ec01",
   "metadata": {
    "heading_collapsed": true,
    "hidden": true
   },
   "source": [
    "## Splits"
   ]
  },
  {
   "cell_type": "code",
   "execution_count": 42,
   "id": "8516ce2c",
   "metadata": {
    "ExecuteTime": {
     "end_time": "2023-10-24T18:22:37.098768Z",
     "start_time": "2023-10-24T18:22:37.090218Z"
    },
    "hidden": true
   },
   "outputs": [],
   "source": [
    "# train = df[df['date'] < df['date'].max() - pd.Timedelta(6, 'w')]\n",
    "# test = df[df['date'] >= df['date'].max() - pd.Timedelta(6, 'w')]"
   ]
  },
  {
   "cell_type": "code",
   "execution_count": 43,
   "id": "6f86a1d9",
   "metadata": {
    "ExecuteTime": {
     "end_time": "2023-10-24T18:22:37.108261Z",
     "start_time": "2023-10-24T18:22:37.101185Z"
    },
    "hidden": true
   },
   "outputs": [],
   "source": [
    "# X_train = train.drop(['date', 'weekly_sales', 'store'], axis=1)\n",
    "# y_train = train['weekly_sales']\n",
    "\n",
    "# X_train_array = X_train.values\n",
    "# y_train_array = np.array(y_train).reshape(-1, 1)"
   ]
  },
  {
   "cell_type": "code",
   "execution_count": 44,
   "id": "10a65b12",
   "metadata": {
    "ExecuteTime": {
     "end_time": "2023-10-24T18:22:37.117970Z",
     "start_time": "2023-10-24T18:22:37.111476Z"
    },
    "hidden": true
   },
   "outputs": [],
   "source": [
    "# X_test = test.drop(['date', 'weekly_sales', 'store'], axis=1)\n",
    "# y_test = test['weekly_sales']\n",
    "\n",
    "# X_test_array = X_test.values\n",
    "# y_test_array = np.array(y_test).reshape(-1, 1)"
   ]
  },
  {
   "cell_type": "markdown",
   "id": "25127fd2",
   "metadata": {},
   "source": [
    "# 4.0 ML Modeling"
   ]
  },
  {
   "cell_type": "markdown",
   "id": "fe5bfcef",
   "metadata": {
    "heading_collapsed": true
   },
   "source": [
    "## Linear Regression"
   ]
  },
  {
   "cell_type": "code",
   "execution_count": 45,
   "id": "55b243f5",
   "metadata": {
    "ExecuteTime": {
     "end_time": "2023-10-24T18:22:37.140914Z",
     "start_time": "2023-10-24T18:22:37.119890Z"
    },
    "hidden": true,
    "scrolled": false
   },
   "outputs": [
    {
     "name": "stderr",
     "output_type": "stream",
     "text": [
      "/tmp/ipykernel_7954/478003382.py:5: SettingWithCopyWarning: \n",
      "A value is trying to be set on a copy of a slice from a DataFrame.\n",
      "Try using .loc[row_indexer,col_indexer] = value instead\n",
      "\n",
      "See the caveats in the documentation: https://pandas.pydata.org/pandas-docs/stable/user_guide/indexing.html#returning-a-view-versus-a-copy\n",
      "  test['predicts'] = predicts\n",
      "/tmp/ipykernel_7954/478003382.py:6: SettingWithCopyWarning: \n",
      "A value is trying to be set on a copy of a slice from a DataFrame.\n",
      "Try using .loc[row_indexer,col_indexer] = value instead\n",
      "\n",
      "See the caveats in the documentation: https://pandas.pydata.org/pandas-docs/stable/user_guide/indexing.html#returning-a-view-versus-a-copy\n",
      "  test['absolute_error'] = np.abs(test['predicts'] - test['weekly_sales'])\n",
      "/tmp/ipykernel_7954/478003382.py:8: SettingWithCopyWarning: \n",
      "A value is trying to be set on a copy of a slice from a DataFrame.\n",
      "Try using .loc[row_indexer,col_indexer] = value instead\n",
      "\n",
      "See the caveats in the documentation: https://pandas.pydata.org/pandas-docs/stable/user_guide/indexing.html#returning-a-view-versus-a-copy\n",
      "  test['proportional_absolute_error'] = test['absolute_error'] / test['weekly_sales']\n"
     ]
    },
    {
     "data": {
      "text/plain": [
       "0.3951442206249105"
      ]
     },
     "execution_count": 45,
     "metadata": {},
     "output_type": "execute_result"
    }
   ],
   "source": [
    "lr_model = LinearRegression()\n",
    "lr_model = lr_model.fit(X_train, y_train)\n",
    "predicts = lr_model.predict(X_test)\n",
    "\n",
    "test['predicts'] = predicts\n",
    "test['absolute_error'] = np.abs(test['predicts'] - test['weekly_sales'])\n",
    "mae = test['absolute_error'].mean()\n",
    "test['proportional_absolute_error'] = test['absolute_error'] / test['weekly_sales']\n",
    "mape = test['proportional_absolute_error'].mean()\n",
    "\n",
    "mape"
   ]
  },
  {
   "cell_type": "markdown",
   "id": "c3278f8e",
   "metadata": {
    "heading_collapsed": true
   },
   "source": [
    "## Random Forest"
   ]
  },
  {
   "cell_type": "code",
   "execution_count": 46,
   "id": "6c0d460e",
   "metadata": {
    "ExecuteTime": {
     "end_time": "2023-10-24T18:22:38.260197Z",
     "start_time": "2023-10-24T18:22:37.143555Z"
    },
    "hidden": true,
    "scrolled": false
   },
   "outputs": [
    {
     "name": "stderr",
     "output_type": "stream",
     "text": [
      "/tmp/ipykernel_7954/1417689200.py:5: SettingWithCopyWarning: \n",
      "A value is trying to be set on a copy of a slice from a DataFrame.\n",
      "Try using .loc[row_indexer,col_indexer] = value instead\n",
      "\n",
      "See the caveats in the documentation: https://pandas.pydata.org/pandas-docs/stable/user_guide/indexing.html#returning-a-view-versus-a-copy\n",
      "  test['predicts'] = predicts\n",
      "/tmp/ipykernel_7954/1417689200.py:6: SettingWithCopyWarning: \n",
      "A value is trying to be set on a copy of a slice from a DataFrame.\n",
      "Try using .loc[row_indexer,col_indexer] = value instead\n",
      "\n",
      "See the caveats in the documentation: https://pandas.pydata.org/pandas-docs/stable/user_guide/indexing.html#returning-a-view-versus-a-copy\n",
      "  test['absolute_error'] = np.abs(test['predicts'] - test['weekly_sales'])\n",
      "/tmp/ipykernel_7954/1417689200.py:8: SettingWithCopyWarning: \n",
      "A value is trying to be set on a copy of a slice from a DataFrame.\n",
      "Try using .loc[row_indexer,col_indexer] = value instead\n",
      "\n",
      "See the caveats in the documentation: https://pandas.pydata.org/pandas-docs/stable/user_guide/indexing.html#returning-a-view-versus-a-copy\n",
      "  test['proportional_absolute_error'] = test['absolute_error'] / test['weekly_sales']\n"
     ]
    },
    {
     "data": {
      "text/plain": [
       "0.15253689129944262"
      ]
     },
     "execution_count": 46,
     "metadata": {},
     "output_type": "execute_result"
    }
   ],
   "source": [
    "rf_model = RandomForestRegressor(max_depth=7)\n",
    "rf_model = rf_model.fit(X_train, y_train)\n",
    "predicts = rf_model.predict(X_test)\n",
    "\n",
    "test['predicts'] = predicts\n",
    "test['absolute_error'] = np.abs(test['predicts'] - test['weekly_sales'])\n",
    "mae = test['absolute_error'].mean()\n",
    "test['proportional_absolute_error'] = test['absolute_error'] / test['weekly_sales']\n",
    "mape = test['proportional_absolute_error'].mean()\n",
    "\n",
    "mape"
   ]
  },
  {
   "cell_type": "markdown",
   "id": "09608bb0",
   "metadata": {
    "heading_collapsed": true
   },
   "source": [
    "## XGBoost Regressor"
   ]
  },
  {
   "cell_type": "code",
   "execution_count": 47,
   "id": "f96f4900",
   "metadata": {
    "ExecuteTime": {
     "end_time": "2023-10-24T18:22:38.709818Z",
     "start_time": "2023-10-24T18:22:38.261980Z"
    },
    "hidden": true,
    "scrolled": false
   },
   "outputs": [
    {
     "name": "stderr",
     "output_type": "stream",
     "text": [
      "/tmp/ipykernel_7954/56048586.py:5: SettingWithCopyWarning: \n",
      "A value is trying to be set on a copy of a slice from a DataFrame.\n",
      "Try using .loc[row_indexer,col_indexer] = value instead\n",
      "\n",
      "See the caveats in the documentation: https://pandas.pydata.org/pandas-docs/stable/user_guide/indexing.html#returning-a-view-versus-a-copy\n",
      "  test['predicts'] = predicts\n",
      "/tmp/ipykernel_7954/56048586.py:6: SettingWithCopyWarning: \n",
      "A value is trying to be set on a copy of a slice from a DataFrame.\n",
      "Try using .loc[row_indexer,col_indexer] = value instead\n",
      "\n",
      "See the caveats in the documentation: https://pandas.pydata.org/pandas-docs/stable/user_guide/indexing.html#returning-a-view-versus-a-copy\n",
      "  test['absolute_error'] = np.abs(test['predicts'] - test['weekly_sales'])\n",
      "/tmp/ipykernel_7954/56048586.py:8: SettingWithCopyWarning: \n",
      "A value is trying to be set on a copy of a slice from a DataFrame.\n",
      "Try using .loc[row_indexer,col_indexer] = value instead\n",
      "\n",
      "See the caveats in the documentation: https://pandas.pydata.org/pandas-docs/stable/user_guide/indexing.html#returning-a-view-versus-a-copy\n",
      "  test['proportional_absolute_error'] = test['absolute_error'] / test['weekly_sales']\n"
     ]
    },
    {
     "data": {
      "text/plain": [
       "0.13032780535369384"
      ]
     },
     "execution_count": 47,
     "metadata": {},
     "output_type": "execute_result"
    }
   ],
   "source": [
    "xgb_model = XGBRegressor(max_depth=7)\n",
    "xgb_model = xgb_model.fit(X_train, y_train)\n",
    "predicts = xgb_model.predict(X_test)\n",
    "\n",
    "test['predicts'] = predicts\n",
    "test['absolute_error'] = np.abs(test['predicts'] - test['weekly_sales'])\n",
    "mae = test['absolute_error'].mean()\n",
    "test['proportional_absolute_error'] = test['absolute_error'] / test['weekly_sales']\n",
    "mape = test['proportional_absolute_error'].mean()\n",
    "\n",
    "mape"
   ]
  },
  {
   "cell_type": "markdown",
   "id": "9e59e0b1",
   "metadata": {},
   "source": [
    "## XGBoost Regressor (kfold)"
   ]
  },
  {
   "cell_type": "code",
   "execution_count": 92,
   "id": "662fda91",
   "metadata": {
    "ExecuteTime": {
     "end_time": "2023-10-24T18:52:56.310613Z",
     "start_time": "2023-10-24T18:52:54.307846Z"
    }
   },
   "outputs": [
    {
     "name": "stdout",
     "output_type": "stream",
     "text": [
      "Fold 0 has a error 0.13\n",
      "Fold 1 has a error 0.12\n",
      "Fold 2 has a error 0.19\n",
      "Fold 3 has a error 0.17\n",
      "Fold 4 has a error 0.17\n",
      "\n",
      "O erro médio do algorítimo é 0.16 com 0.03 de desvio padrão\n"
     ]
    }
   ],
   "source": [
    "list_mae, list_mape = [], []\n",
    "for i in range(1, 6):\n",
    "    # Splits\n",
    "    train = df[df['date'] < df['date'].max() - pd.Timedelta(6 * i, 'w')]\n",
    "    valid = df[df['date'] >= df['date'].max() - pd.Timedelta(6 * i, 'w')]\n",
    "\n",
    "    # Target\n",
    "    pp_weekly_sales = pp.MinMaxScaler()\n",
    "    pp_weekly_sales = pp_weekly_sales.fit(train[['weekly_sales']].values)\n",
    "    train['weekly_sales'] = pp_weekly_sales.transform(train[['weekly_sales']].values)\n",
    "    valid['weekly_sales'] = pp_weekly_sales.transform(valid[['weekly_sales']].values)\n",
    "\n",
    "    # Features\n",
    "    # Categorical Attributes\n",
    "    # 'isholiday',\n",
    "    map_isholiday = train.groupby('isholiday').agg({'weekly_sales':'mean'})['weekly_sales'] # target encoding\n",
    "    train['isholiday'] = train['isholiday'].map(map_isholiday)\n",
    "    valid['isholiday'] = valid['isholiday'].map(map_isholiday)\n",
    "\n",
    "    # 'type',\n",
    "    map_type = train.groupby('type').agg({'weekly_sales':'mean'})['weekly_sales'] # target encoding\n",
    "    train['type'] = train['type'].map(map_type)\n",
    "    valid['type'] = valid['type'].map(map_type)\n",
    "\n",
    "    # Numerical Attributes\n",
    "    # 'temperature',\n",
    "    pp_temperature = pp.MinMaxScaler()\n",
    "    pp_temperature = pp_temperature.fit(train[['temperature']].values)\n",
    "    train['temperature'] = pp_temperature.transform(train[['temperature']].values)\n",
    "    valid['temperature'] = pp_temperature.transform(valid[['temperature']].values)\n",
    "\n",
    "    # 'fuel_price',\n",
    "    pp_fuel_price = pp.MinMaxScaler()\n",
    "    pp_fuel_price = pp_fuel_price.fit(train[['fuel_price']].values)\n",
    "    train['fuel_price'] = pp_fuel_price.transform(train[['fuel_price']].values)\n",
    "    valid['fuel_price'] = pp_fuel_price.transform(valid[['fuel_price']].values)\n",
    "\n",
    "    # 'cpi',\n",
    "    pp_cpi = pp.MinMaxScaler()\n",
    "    pp_cpi = pp_cpi.fit(train[['cpi']].values)\n",
    "    train['cpi'] = pp_cpi.transform(train[['cpi']].values)\n",
    "    valid['cpi'] = pp_cpi.transform(valid[['cpi']].values)\n",
    "\n",
    "    # 'unemployment',\n",
    "    pp_unemployment = pp.MinMaxScaler()\n",
    "    pp_unemployment = pp_unemployment.fit(train[['unemployment']].values)\n",
    "    train['unemployment'] = pp_unemployment.transform(train[['unemployment']].values)\n",
    "    valid['unemployment'] = pp_unemployment.transform(valid[['unemployment']].values)\n",
    "\n",
    "    # 'size']\n",
    "    pp_size = pp.MinMaxScaler()\n",
    "    pp_size = pp_size.fit(train[['size']].values)\n",
    "    train['size'] = pp_size.transform(train[['size']].values)\n",
    "    valid['size'] = pp_size.transform(valid[['size']].values)\n",
    "\n",
    "    # x, y splits\n",
    "    X_train = train.drop(['date', 'weekly_sales', 'store'], axis=1)\n",
    "    y_train = train['weekly_sales']\n",
    "\n",
    "    X_train_array = X_train.values\n",
    "    y_train_array = np.array(y_train).reshape(-1, 1)\n",
    "\n",
    "    X_valid = valid.drop(['date', 'weekly_sales', 'store'], axis=1)\n",
    "    y_valid = valid['weekly_sales']\n",
    "\n",
    "    X_valid_array = X_valid.values\n",
    "    y_valid_array = np.array(y_valid).reshape(-1, 1)\n",
    "\n",
    "    # ml modeling\n",
    "    # xgboosting\n",
    "    xgb_model = XGBRegressor(max_depth=7)\n",
    "    xgb_model = xgb_model.fit(X_train, y_train)\n",
    "    predicts = xgb_model.predict(X_valid)\n",
    "\n",
    "    valid['predicts'] = predicts\n",
    "    valid['absolute_error'] = np.abs(valid['predicts'] - valid['weekly_sales'])\n",
    "    list_mae.append(valid['absolute_error'].mean())\n",
    "    valid['proportional_absolute_error'] = valid['absolute_error'] / valid['weekly_sales']\n",
    "    list_mape.append(valid['proportional_absolute_error'].mean())\n",
    "\n",
    "for i, j in enumerate(list_mape):\n",
    "    print(f'Fold {i} has a error {round(j, 2)}')\n",
    "print()\n",
    "print(f'O erro médio do algorítimo é {round(np.mean(list_mape), 2)} com {round(np.std(list_mape), 2)} de desvio padrão')"
   ]
  },
  {
   "cell_type": "markdown",
   "id": "593d78b5",
   "metadata": {},
   "source": [
    "## Best model"
   ]
  },
  {
   "cell_type": "code",
   "execution_count": 33,
   "id": "d69c1757",
   "metadata": {
    "ExecuteTime": {
     "end_time": "2023-09-17T19:17:27.264512Z",
     "start_time": "2023-09-17T19:17:27.258978Z"
    }
   },
   "outputs": [],
   "source": [
    "model = xgb_model"
   ]
  },
  {
   "cell_type": "markdown",
   "id": "04d83845",
   "metadata": {
    "heading_collapsed": true
   },
   "source": [
    "# 5.0 Exports"
   ]
  },
  {
   "cell_type": "code",
   "execution_count": 34,
   "id": "556d8185",
   "metadata": {
    "ExecuteTime": {
     "end_time": "2023-09-17T19:17:27.298455Z",
     "start_time": "2023-09-17T19:17:27.269005Z"
    },
    "hidden": true
   },
   "outputs": [],
   "source": [
    "pkl.dump(model, open('../src/models/model.pkl', 'wb'))"
   ]
  },
  {
   "cell_type": "code",
   "execution_count": 49,
   "id": "5fa87822",
   "metadata": {
    "ExecuteTime": {
     "end_time": "2023-09-17T19:22:42.874935Z",
     "start_time": "2023-09-17T19:22:42.868404Z"
    },
    "hidden": true
   },
   "outputs": [],
   "source": [
    "# pp_weekly_sales\n",
    "pkl.dump(pp_weekly_sales, open('../src/features/pp_weekly_sales.pkl', 'wb'))\n",
    "# map_isholiday\n",
    "pkl.dump(map_isholiday, open('../src/features/map_isholiday.pkl', 'wb'))\n",
    "# map_type\n",
    "pkl.dump(map_type, open('../src/features/map_type.pkl', 'wb'))\n",
    "# pp_temperature\n",
    "pkl.dump(pp_temperature, open('../src/features/pp_temperature.pkl', 'wb'))\n",
    "# pp_cpi\n",
    "pkl.dump(pp_cpi, open('../src/features/pp_cpi.pkl', 'wb'))\n",
    "# pp_fuel_price\n",
    "pkl.dump(pp_fuel_price, open('../src/features/pp_fuel_price.pkl', 'wb'))\n",
    "# pp_unemployment\n",
    "pkl.dump(pp_unemployment, open('../src/features/pp_unemployment.pkl', 'wb'))\n",
    "# pp_size\n",
    "pkl.dump(pp_size, open('../src/features/pp_size.pkl', 'wb'))"
   ]
  },
  {
   "cell_type": "markdown",
   "id": "a8460cdc",
   "metadata": {
    "heading_collapsed": true
   },
   "source": [
    "# 6.0 API"
   ]
  },
  {
   "cell_type": "markdown",
   "id": "f9f41876",
   "metadata": {
    "heading_collapsed": true,
    "hidden": true
   },
   "source": [
    "## API Request"
   ]
  },
  {
   "cell_type": "code",
   "execution_count": 50,
   "id": "8ec0e587",
   "metadata": {
    "ExecuteTime": {
     "end_time": "2023-09-17T19:22:46.015568Z",
     "start_time": "2023-09-17T19:22:45.465797Z"
    },
    "hidden": true,
    "scrolled": true
   },
   "outputs": [
    {
     "name": "stdout",
     "output_type": "stream",
     "text": [
      "200\n"
     ]
    },
    {
     "data": {
      "text/html": [
       "<div>\n",
       "<style scoped>\n",
       "    .dataframe tbody tr th:only-of-type {\n",
       "        vertical-align: middle;\n",
       "    }\n",
       "\n",
       "    .dataframe tbody tr th {\n",
       "        vertical-align: top;\n",
       "    }\n",
       "\n",
       "    .dataframe thead th {\n",
       "        text-align: right;\n",
       "    }\n",
       "</style>\n",
       "<table border=\"1\" class=\"dataframe\">\n",
       "  <thead>\n",
       "    <tr style=\"text-align: right;\">\n",
       "      <th></th>\n",
       "      <th>store</th>\n",
       "      <th>date</th>\n",
       "      <th>weekly_sales</th>\n",
       "      <th>isholiday</th>\n",
       "      <th>temperature</th>\n",
       "      <th>fuel_price</th>\n",
       "      <th>cpi</th>\n",
       "      <th>unemployment</th>\n",
       "      <th>type</th>\n",
       "      <th>size</th>\n",
       "      <th>predicts</th>\n",
       "    </tr>\n",
       "  </thead>\n",
       "  <tbody>\n",
       "    <tr>\n",
       "      <th>0</th>\n",
       "      <td>1</td>\n",
       "      <td>2010-02-05</td>\n",
       "      <td>1643690.90</td>\n",
       "      <td>0</td>\n",
       "      <td>42.31</td>\n",
       "      <td>2.572</td>\n",
       "      <td>211.096358</td>\n",
       "      <td>8.106</td>\n",
       "      <td>0</td>\n",
       "      <td>151315</td>\n",
       "      <td>906266.1875</td>\n",
       "    </tr>\n",
       "    <tr>\n",
       "      <th>1</th>\n",
       "      <td>1</td>\n",
       "      <td>2010-02-12</td>\n",
       "      <td>1641957.44</td>\n",
       "      <td>1</td>\n",
       "      <td>38.51</td>\n",
       "      <td>2.548</td>\n",
       "      <td>211.242170</td>\n",
       "      <td>8.106</td>\n",
       "      <td>0</td>\n",
       "      <td>151315</td>\n",
       "      <td>883700.9375</td>\n",
       "    </tr>\n",
       "    <tr>\n",
       "      <th>2</th>\n",
       "      <td>1</td>\n",
       "      <td>2010-02-19</td>\n",
       "      <td>1611968.17</td>\n",
       "      <td>0</td>\n",
       "      <td>39.93</td>\n",
       "      <td>2.514</td>\n",
       "      <td>211.289143</td>\n",
       "      <td>8.106</td>\n",
       "      <td>0</td>\n",
       "      <td>151315</td>\n",
       "      <td>815290.5000</td>\n",
       "    </tr>\n",
       "    <tr>\n",
       "      <th>3</th>\n",
       "      <td>1</td>\n",
       "      <td>2010-02-26</td>\n",
       "      <td>1409727.59</td>\n",
       "      <td>0</td>\n",
       "      <td>46.63</td>\n",
       "      <td>2.561</td>\n",
       "      <td>211.319643</td>\n",
       "      <td>8.106</td>\n",
       "      <td>0</td>\n",
       "      <td>151315</td>\n",
       "      <td>703740.3125</td>\n",
       "    </tr>\n",
       "    <tr>\n",
       "      <th>4</th>\n",
       "      <td>1</td>\n",
       "      <td>2010-03-05</td>\n",
       "      <td>1554806.68</td>\n",
       "      <td>0</td>\n",
       "      <td>46.50</td>\n",
       "      <td>2.625</td>\n",
       "      <td>211.350143</td>\n",
       "      <td>8.106</td>\n",
       "      <td>0</td>\n",
       "      <td>151315</td>\n",
       "      <td>762490.0625</td>\n",
       "    </tr>\n",
       "  </tbody>\n",
       "</table>\n",
       "</div>"
      ],
      "text/plain": [
       "   store       date  weekly_sales  isholiday  temperature  fuel_price  \\\n",
       "0      1 2010-02-05    1643690.90          0        42.31       2.572   \n",
       "1      1 2010-02-12    1641957.44          1        38.51       2.548   \n",
       "2      1 2010-02-19    1611968.17          0        39.93       2.514   \n",
       "3      1 2010-02-26    1409727.59          0        46.63       2.561   \n",
       "4      1 2010-03-05    1554806.68          0        46.50       2.625   \n",
       "\n",
       "          cpi  unemployment  type    size     predicts  \n",
       "0  211.096358         8.106     0  151315  906266.1875  \n",
       "1  211.242170         8.106     0  151315  883700.9375  \n",
       "2  211.289143         8.106     0  151315  815290.5000  \n",
       "3  211.319643         8.106     0  151315  703740.3125  \n",
       "4  211.350143         8.106     0  151315  762490.0625  "
      ]
     },
     "execution_count": 50,
     "metadata": {},
     "output_type": "execute_result"
    }
   ],
   "source": [
    "# data = X_train.sample(500).to_json(orient='records')\n",
    "data = df_raw.to_json(orient='records', date_format='iso')\n",
    "url = 'http://192.168.0.20:5000/predict'\n",
    "header = {'Content-type':'application/json'}\n",
    "\n",
    "df_request = requests.post(data=data, headers=header, url=url)\n",
    "print(df_request.status_code)\n",
    "\n",
    "df_request = pd.DataFrame(df_request.json(), columns=df_request.json()[0].keys())\n",
    "df_request['date'] = pd.to_datetime(df_request['date'])\n",
    "df_request.head()"
   ]
  },
  {
   "cell_type": "code",
   "execution_count": 58,
   "id": "443e1bd8",
   "metadata": {
    "ExecuteTime": {
     "end_time": "2023-09-17T19:24:39.309701Z",
     "start_time": "2023-09-17T19:24:39.302025Z"
    },
    "hidden": true
   },
   "outputs": [
    {
     "data": {
      "text/plain": [
       "0.10128479129101794"
      ]
     },
     "execution_count": 58,
     "metadata": {},
     "output_type": "execute_result"
    }
   ],
   "source": [
    "df_request['absolute_error'] =  np.abs(df_request['weekly_sales'] - df_request['predicts'])\n",
    "mae = df_request['absolute_error'].mean()\n",
    "df['percentage_absolute_error'] = df_request['absolute_error'] / df_request['weekly_sales']\n",
    "mape = df['percentage_absolute_error'].mean()\n",
    "mape"
   ]
  }
 ],
 "metadata": {
  "kernelspec": {
   "display_name": "Python 3 (ipykernel)",
   "language": "python",
   "name": "python3"
  },
  "language_info": {
   "codemirror_mode": {
    "name": "ipython",
    "version": 3
   },
   "file_extension": ".py",
   "mimetype": "text/x-python",
   "name": "python",
   "nbconvert_exporter": "python",
   "pygments_lexer": "ipython3",
   "version": "3.10.12"
  }
 },
 "nbformat": 4,
 "nbformat_minor": 5
}
