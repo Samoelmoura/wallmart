{
 "cells": [
  {
   "cell_type": "markdown",
   "id": "ad613fb7",
   "metadata": {
    "heading_collapsed": true
   },
   "source": [
    "# 0.0 Imports"
   ]
  },
  {
   "cell_type": "code",
   "execution_count": 77,
   "id": "ce3f3615",
   "metadata": {
    "ExecuteTime": {
     "end_time": "2023-10-21T00:58:22.503609Z",
     "start_time": "2023-10-21T00:58:22.499833Z"
    },
    "hidden": true
   },
   "outputs": [],
   "source": [
    "import pandas as pd\n",
    "import seaborn as sns\n",
    "import numpy as np\n",
    "import matplotlib.pyplot as plt\n",
    "import sklearn.preprocessing as pp\n",
    "from sklearn.linear_model import LinearRegression\n",
    "from sklearn.ensemble import RandomForestRegressor\n",
    "from xgboost import XGBRegressor\n",
    "import pickle as pkl\n",
    "import requests\n",
    "from random import randint"
   ]
  },
  {
   "cell_type": "markdown",
   "id": "7636dedd",
   "metadata": {
    "heading_collapsed": true,
    "hidden": true
   },
   "source": [
    "## 0.1 Datasets"
   ]
  },
  {
   "cell_type": "code",
   "execution_count": 2,
   "id": "cd936846",
   "metadata": {
    "ExecuteTime": {
     "end_time": "2023-10-21T00:20:30.101551Z",
     "start_time": "2023-10-21T00:20:29.940845Z"
    },
    "hidden": true
   },
   "outputs": [],
   "source": [
    "features = pd.read_csv('../data/raw/features.csv')\n",
    "stores = pd.read_csv('../data/raw/stores.csv')\n",
    "train = pd.read_csv('../data/raw/train.csv')"
   ]
  },
  {
   "cell_type": "markdown",
   "id": "4812e5a5",
   "metadata": {},
   "source": [
    "# 1.0 Data Description"
   ]
  },
  {
   "cell_type": "markdown",
   "id": "812f6391",
   "metadata": {
    "heading_collapsed": true
   },
   "source": [
    "## 1.1 Looking Datasets"
   ]
  },
  {
   "cell_type": "code",
   "execution_count": 3,
   "id": "f24b12db",
   "metadata": {
    "ExecuteTime": {
     "end_time": "2023-10-21T00:20:30.124152Z",
     "start_time": "2023-10-21T00:20:30.103698Z"
    },
    "hidden": true
   },
   "outputs": [
    {
     "data": {
      "text/html": [
       "<div>\n",
       "<style scoped>\n",
       "    .dataframe tbody tr th:only-of-type {\n",
       "        vertical-align: middle;\n",
       "    }\n",
       "\n",
       "    .dataframe tbody tr th {\n",
       "        vertical-align: top;\n",
       "    }\n",
       "\n",
       "    .dataframe thead th {\n",
       "        text-align: right;\n",
       "    }\n",
       "</style>\n",
       "<table border=\"1\" class=\"dataframe\">\n",
       "  <thead>\n",
       "    <tr style=\"text-align: right;\">\n",
       "      <th></th>\n",
       "      <th>Store</th>\n",
       "      <th>Date</th>\n",
       "      <th>Temperature</th>\n",
       "      <th>Fuel_Price</th>\n",
       "      <th>MarkDown1</th>\n",
       "      <th>MarkDown2</th>\n",
       "      <th>MarkDown3</th>\n",
       "      <th>MarkDown4</th>\n",
       "      <th>MarkDown5</th>\n",
       "      <th>CPI</th>\n",
       "      <th>Unemployment</th>\n",
       "      <th>IsHoliday</th>\n",
       "    </tr>\n",
       "  </thead>\n",
       "  <tbody>\n",
       "    <tr>\n",
       "      <th>0</th>\n",
       "      <td>1</td>\n",
       "      <td>2010-02-05</td>\n",
       "      <td>42.31</td>\n",
       "      <td>2.572</td>\n",
       "      <td>NaN</td>\n",
       "      <td>NaN</td>\n",
       "      <td>NaN</td>\n",
       "      <td>NaN</td>\n",
       "      <td>NaN</td>\n",
       "      <td>211.096358</td>\n",
       "      <td>8.106</td>\n",
       "      <td>False</td>\n",
       "    </tr>\n",
       "    <tr>\n",
       "      <th>1</th>\n",
       "      <td>1</td>\n",
       "      <td>2010-02-12</td>\n",
       "      <td>38.51</td>\n",
       "      <td>2.548</td>\n",
       "      <td>NaN</td>\n",
       "      <td>NaN</td>\n",
       "      <td>NaN</td>\n",
       "      <td>NaN</td>\n",
       "      <td>NaN</td>\n",
       "      <td>211.242170</td>\n",
       "      <td>8.106</td>\n",
       "      <td>True</td>\n",
       "    </tr>\n",
       "    <tr>\n",
       "      <th>2</th>\n",
       "      <td>1</td>\n",
       "      <td>2010-02-19</td>\n",
       "      <td>39.93</td>\n",
       "      <td>2.514</td>\n",
       "      <td>NaN</td>\n",
       "      <td>NaN</td>\n",
       "      <td>NaN</td>\n",
       "      <td>NaN</td>\n",
       "      <td>NaN</td>\n",
       "      <td>211.289143</td>\n",
       "      <td>8.106</td>\n",
       "      <td>False</td>\n",
       "    </tr>\n",
       "    <tr>\n",
       "      <th>3</th>\n",
       "      <td>1</td>\n",
       "      <td>2010-02-26</td>\n",
       "      <td>46.63</td>\n",
       "      <td>2.561</td>\n",
       "      <td>NaN</td>\n",
       "      <td>NaN</td>\n",
       "      <td>NaN</td>\n",
       "      <td>NaN</td>\n",
       "      <td>NaN</td>\n",
       "      <td>211.319643</td>\n",
       "      <td>8.106</td>\n",
       "      <td>False</td>\n",
       "    </tr>\n",
       "    <tr>\n",
       "      <th>4</th>\n",
       "      <td>1</td>\n",
       "      <td>2010-03-05</td>\n",
       "      <td>46.50</td>\n",
       "      <td>2.625</td>\n",
       "      <td>NaN</td>\n",
       "      <td>NaN</td>\n",
       "      <td>NaN</td>\n",
       "      <td>NaN</td>\n",
       "      <td>NaN</td>\n",
       "      <td>211.350143</td>\n",
       "      <td>8.106</td>\n",
       "      <td>False</td>\n",
       "    </tr>\n",
       "  </tbody>\n",
       "</table>\n",
       "</div>"
      ],
      "text/plain": [
       "   Store        Date  Temperature  Fuel_Price  MarkDown1  MarkDown2  \\\n",
       "0      1  2010-02-05        42.31       2.572        NaN        NaN   \n",
       "1      1  2010-02-12        38.51       2.548        NaN        NaN   \n",
       "2      1  2010-02-19        39.93       2.514        NaN        NaN   \n",
       "3      1  2010-02-26        46.63       2.561        NaN        NaN   \n",
       "4      1  2010-03-05        46.50       2.625        NaN        NaN   \n",
       "\n",
       "   MarkDown3  MarkDown4  MarkDown5         CPI  Unemployment  IsHoliday  \n",
       "0        NaN        NaN        NaN  211.096358         8.106      False  \n",
       "1        NaN        NaN        NaN  211.242170         8.106       True  \n",
       "2        NaN        NaN        NaN  211.289143         8.106      False  \n",
       "3        NaN        NaN        NaN  211.319643         8.106      False  \n",
       "4        NaN        NaN        NaN  211.350143         8.106      False  "
      ]
     },
     "execution_count": 3,
     "metadata": {},
     "output_type": "execute_result"
    }
   ],
   "source": [
    "features.head()"
   ]
  },
  {
   "cell_type": "code",
   "execution_count": 4,
   "id": "1c82d152",
   "metadata": {
    "ExecuteTime": {
     "end_time": "2023-10-21T00:20:30.136576Z",
     "start_time": "2023-10-21T00:20:30.127383Z"
    },
    "hidden": true
   },
   "outputs": [
    {
     "data": {
      "text/html": [
       "<div>\n",
       "<style scoped>\n",
       "    .dataframe tbody tr th:only-of-type {\n",
       "        vertical-align: middle;\n",
       "    }\n",
       "\n",
       "    .dataframe tbody tr th {\n",
       "        vertical-align: top;\n",
       "    }\n",
       "\n",
       "    .dataframe thead th {\n",
       "        text-align: right;\n",
       "    }\n",
       "</style>\n",
       "<table border=\"1\" class=\"dataframe\">\n",
       "  <thead>\n",
       "    <tr style=\"text-align: right;\">\n",
       "      <th></th>\n",
       "      <th>Store</th>\n",
       "      <th>Type</th>\n",
       "      <th>Size</th>\n",
       "    </tr>\n",
       "  </thead>\n",
       "  <tbody>\n",
       "    <tr>\n",
       "      <th>0</th>\n",
       "      <td>1</td>\n",
       "      <td>A</td>\n",
       "      <td>151315</td>\n",
       "    </tr>\n",
       "    <tr>\n",
       "      <th>1</th>\n",
       "      <td>2</td>\n",
       "      <td>A</td>\n",
       "      <td>202307</td>\n",
       "    </tr>\n",
       "    <tr>\n",
       "      <th>2</th>\n",
       "      <td>3</td>\n",
       "      <td>B</td>\n",
       "      <td>37392</td>\n",
       "    </tr>\n",
       "    <tr>\n",
       "      <th>3</th>\n",
       "      <td>4</td>\n",
       "      <td>A</td>\n",
       "      <td>205863</td>\n",
       "    </tr>\n",
       "    <tr>\n",
       "      <th>4</th>\n",
       "      <td>5</td>\n",
       "      <td>B</td>\n",
       "      <td>34875</td>\n",
       "    </tr>\n",
       "  </tbody>\n",
       "</table>\n",
       "</div>"
      ],
      "text/plain": [
       "   Store Type    Size\n",
       "0      1    A  151315\n",
       "1      2    A  202307\n",
       "2      3    B   37392\n",
       "3      4    A  205863\n",
       "4      5    B   34875"
      ]
     },
     "execution_count": 4,
     "metadata": {},
     "output_type": "execute_result"
    }
   ],
   "source": [
    "stores.head()"
   ]
  },
  {
   "cell_type": "code",
   "execution_count": 5,
   "id": "49e0b588",
   "metadata": {
    "ExecuteTime": {
     "end_time": "2023-10-21T00:20:30.146116Z",
     "start_time": "2023-10-21T00:20:30.138037Z"
    },
    "hidden": true,
    "scrolled": true
   },
   "outputs": [
    {
     "data": {
      "text/html": [
       "<div>\n",
       "<style scoped>\n",
       "    .dataframe tbody tr th:only-of-type {\n",
       "        vertical-align: middle;\n",
       "    }\n",
       "\n",
       "    .dataframe tbody tr th {\n",
       "        vertical-align: top;\n",
       "    }\n",
       "\n",
       "    .dataframe thead th {\n",
       "        text-align: right;\n",
       "    }\n",
       "</style>\n",
       "<table border=\"1\" class=\"dataframe\">\n",
       "  <thead>\n",
       "    <tr style=\"text-align: right;\">\n",
       "      <th></th>\n",
       "      <th>Store</th>\n",
       "      <th>Dept</th>\n",
       "      <th>Date</th>\n",
       "      <th>Weekly_Sales</th>\n",
       "      <th>IsHoliday</th>\n",
       "    </tr>\n",
       "  </thead>\n",
       "  <tbody>\n",
       "    <tr>\n",
       "      <th>0</th>\n",
       "      <td>1</td>\n",
       "      <td>1</td>\n",
       "      <td>2010-02-05</td>\n",
       "      <td>24924.50</td>\n",
       "      <td>False</td>\n",
       "    </tr>\n",
       "    <tr>\n",
       "      <th>1</th>\n",
       "      <td>1</td>\n",
       "      <td>1</td>\n",
       "      <td>2010-02-12</td>\n",
       "      <td>46039.49</td>\n",
       "      <td>True</td>\n",
       "    </tr>\n",
       "    <tr>\n",
       "      <th>2</th>\n",
       "      <td>1</td>\n",
       "      <td>1</td>\n",
       "      <td>2010-02-19</td>\n",
       "      <td>41595.55</td>\n",
       "      <td>False</td>\n",
       "    </tr>\n",
       "    <tr>\n",
       "      <th>3</th>\n",
       "      <td>1</td>\n",
       "      <td>1</td>\n",
       "      <td>2010-02-26</td>\n",
       "      <td>19403.54</td>\n",
       "      <td>False</td>\n",
       "    </tr>\n",
       "    <tr>\n",
       "      <th>4</th>\n",
       "      <td>1</td>\n",
       "      <td>1</td>\n",
       "      <td>2010-03-05</td>\n",
       "      <td>21827.90</td>\n",
       "      <td>False</td>\n",
       "    </tr>\n",
       "  </tbody>\n",
       "</table>\n",
       "</div>"
      ],
      "text/plain": [
       "   Store  Dept        Date  Weekly_Sales  IsHoliday\n",
       "0      1     1  2010-02-05      24924.50      False\n",
       "1      1     1  2010-02-12      46039.49       True\n",
       "2      1     1  2010-02-19      41595.55      False\n",
       "3      1     1  2010-02-26      19403.54      False\n",
       "4      1     1  2010-03-05      21827.90      False"
      ]
     },
     "execution_count": 5,
     "metadata": {},
     "output_type": "execute_result"
    }
   ],
   "source": [
    "train.head()"
   ]
  },
  {
   "cell_type": "markdown",
   "id": "efa08006",
   "metadata": {
    "heading_collapsed": true
   },
   "source": [
    "## 1.2 Data Dimension"
   ]
  },
  {
   "cell_type": "code",
   "execution_count": 6,
   "id": "8cd4abda",
   "metadata": {
    "ExecuteTime": {
     "end_time": "2023-10-21T00:20:30.155171Z",
     "start_time": "2023-10-21T00:20:30.150059Z"
    },
    "hidden": true
   },
   "outputs": [
    {
     "data": {
      "text/plain": [
       "(421570, 5)"
      ]
     },
     "execution_count": 6,
     "metadata": {},
     "output_type": "execute_result"
    }
   ],
   "source": [
    "train.shape"
   ]
  },
  {
   "cell_type": "code",
   "execution_count": 7,
   "id": "56af5b41",
   "metadata": {
    "ExecuteTime": {
     "end_time": "2023-10-21T00:20:30.161178Z",
     "start_time": "2023-10-21T00:20:30.156907Z"
    },
    "hidden": true
   },
   "outputs": [
    {
     "data": {
      "text/plain": [
       "(45, 3)"
      ]
     },
     "execution_count": 7,
     "metadata": {},
     "output_type": "execute_result"
    }
   ],
   "source": [
    "stores.shape"
   ]
  },
  {
   "cell_type": "code",
   "execution_count": 8,
   "id": "77c72dc7",
   "metadata": {
    "ExecuteTime": {
     "end_time": "2023-10-21T00:20:30.167364Z",
     "start_time": "2023-10-21T00:20:30.162411Z"
    },
    "hidden": true
   },
   "outputs": [
    {
     "data": {
      "text/plain": [
       "(8190, 12)"
      ]
     },
     "execution_count": 8,
     "metadata": {},
     "output_type": "execute_result"
    }
   ],
   "source": [
    "features.shape"
   ]
  },
  {
   "cell_type": "markdown",
   "id": "73b6baba",
   "metadata": {
    "heading_collapsed": true
   },
   "source": [
    "## 1.3 Change Column Names"
   ]
  },
  {
   "cell_type": "code",
   "execution_count": 9,
   "id": "c88b73c5",
   "metadata": {
    "ExecuteTime": {
     "end_time": "2023-10-21T00:20:30.173114Z",
     "start_time": "2023-10-21T00:20:30.168758Z"
    },
    "hidden": true
   },
   "outputs": [],
   "source": [
    "temp = []\n",
    "for i in features.columns:\n",
    "    temp.append(i.lower())\n",
    "features.columns = temp"
   ]
  },
  {
   "cell_type": "code",
   "execution_count": 10,
   "id": "13df97a2",
   "metadata": {
    "ExecuteTime": {
     "end_time": "2023-10-21T00:20:30.179749Z",
     "start_time": "2023-10-21T00:20:30.175405Z"
    },
    "hidden": true
   },
   "outputs": [],
   "source": [
    "temp = []\n",
    "for i in stores.columns:\n",
    "    temp.append(i.lower())\n",
    "stores.columns = temp"
   ]
  },
  {
   "cell_type": "code",
   "execution_count": 11,
   "id": "15ace80f",
   "metadata": {
    "ExecuteTime": {
     "end_time": "2023-10-21T00:20:30.188339Z",
     "start_time": "2023-10-21T00:20:30.182002Z"
    },
    "hidden": true
   },
   "outputs": [],
   "source": [
    "temp = []\n",
    "for i in train.columns:\n",
    "    temp.append(i.lower())\n",
    "train.columns = temp"
   ]
  },
  {
   "cell_type": "markdown",
   "id": "9f1f4814",
   "metadata": {
    "heading_collapsed": true
   },
   "source": [
    "## 1.4 Merging Data"
   ]
  },
  {
   "cell_type": "code",
   "execution_count": 12,
   "id": "df22afd4",
   "metadata": {
    "ExecuteTime": {
     "end_time": "2023-10-21T00:20:30.337916Z",
     "start_time": "2023-10-21T00:20:30.193400Z"
    },
    "hidden": true
   },
   "outputs": [],
   "source": [
    "df = train.merge(features.drop('isholiday', axis=1), on=['store', 'date'], how='left')\n",
    "\n",
    "df = df.merge(stores, on='store', how='left')"
   ]
  },
  {
   "cell_type": "code",
   "execution_count": 13,
   "id": "21e339fe",
   "metadata": {
    "ExecuteTime": {
     "end_time": "2023-10-21T00:20:30.355405Z",
     "start_time": "2023-10-21T00:20:30.339851Z"
    },
    "hidden": true
   },
   "outputs": [
    {
     "data": {
      "text/html": [
       "<div>\n",
       "<style scoped>\n",
       "    .dataframe tbody tr th:only-of-type {\n",
       "        vertical-align: middle;\n",
       "    }\n",
       "\n",
       "    .dataframe tbody tr th {\n",
       "        vertical-align: top;\n",
       "    }\n",
       "\n",
       "    .dataframe thead th {\n",
       "        text-align: right;\n",
       "    }\n",
       "</style>\n",
       "<table border=\"1\" class=\"dataframe\">\n",
       "  <thead>\n",
       "    <tr style=\"text-align: right;\">\n",
       "      <th></th>\n",
       "      <th>store</th>\n",
       "      <th>dept</th>\n",
       "      <th>date</th>\n",
       "      <th>weekly_sales</th>\n",
       "      <th>isholiday</th>\n",
       "      <th>temperature</th>\n",
       "      <th>fuel_price</th>\n",
       "      <th>markdown1</th>\n",
       "      <th>markdown2</th>\n",
       "      <th>markdown3</th>\n",
       "      <th>markdown4</th>\n",
       "      <th>markdown5</th>\n",
       "      <th>cpi</th>\n",
       "      <th>unemployment</th>\n",
       "      <th>type</th>\n",
       "      <th>size</th>\n",
       "    </tr>\n",
       "  </thead>\n",
       "  <tbody>\n",
       "    <tr>\n",
       "      <th>0</th>\n",
       "      <td>1</td>\n",
       "      <td>1</td>\n",
       "      <td>2010-02-05</td>\n",
       "      <td>24924.50</td>\n",
       "      <td>False</td>\n",
       "      <td>42.31</td>\n",
       "      <td>2.572</td>\n",
       "      <td>NaN</td>\n",
       "      <td>NaN</td>\n",
       "      <td>NaN</td>\n",
       "      <td>NaN</td>\n",
       "      <td>NaN</td>\n",
       "      <td>211.096358</td>\n",
       "      <td>8.106</td>\n",
       "      <td>A</td>\n",
       "      <td>151315</td>\n",
       "    </tr>\n",
       "    <tr>\n",
       "      <th>1</th>\n",
       "      <td>1</td>\n",
       "      <td>1</td>\n",
       "      <td>2010-02-12</td>\n",
       "      <td>46039.49</td>\n",
       "      <td>True</td>\n",
       "      <td>38.51</td>\n",
       "      <td>2.548</td>\n",
       "      <td>NaN</td>\n",
       "      <td>NaN</td>\n",
       "      <td>NaN</td>\n",
       "      <td>NaN</td>\n",
       "      <td>NaN</td>\n",
       "      <td>211.242170</td>\n",
       "      <td>8.106</td>\n",
       "      <td>A</td>\n",
       "      <td>151315</td>\n",
       "    </tr>\n",
       "    <tr>\n",
       "      <th>2</th>\n",
       "      <td>1</td>\n",
       "      <td>1</td>\n",
       "      <td>2010-02-19</td>\n",
       "      <td>41595.55</td>\n",
       "      <td>False</td>\n",
       "      <td>39.93</td>\n",
       "      <td>2.514</td>\n",
       "      <td>NaN</td>\n",
       "      <td>NaN</td>\n",
       "      <td>NaN</td>\n",
       "      <td>NaN</td>\n",
       "      <td>NaN</td>\n",
       "      <td>211.289143</td>\n",
       "      <td>8.106</td>\n",
       "      <td>A</td>\n",
       "      <td>151315</td>\n",
       "    </tr>\n",
       "    <tr>\n",
       "      <th>3</th>\n",
       "      <td>1</td>\n",
       "      <td>1</td>\n",
       "      <td>2010-02-26</td>\n",
       "      <td>19403.54</td>\n",
       "      <td>False</td>\n",
       "      <td>46.63</td>\n",
       "      <td>2.561</td>\n",
       "      <td>NaN</td>\n",
       "      <td>NaN</td>\n",
       "      <td>NaN</td>\n",
       "      <td>NaN</td>\n",
       "      <td>NaN</td>\n",
       "      <td>211.319643</td>\n",
       "      <td>8.106</td>\n",
       "      <td>A</td>\n",
       "      <td>151315</td>\n",
       "    </tr>\n",
       "    <tr>\n",
       "      <th>4</th>\n",
       "      <td>1</td>\n",
       "      <td>1</td>\n",
       "      <td>2010-03-05</td>\n",
       "      <td>21827.90</td>\n",
       "      <td>False</td>\n",
       "      <td>46.50</td>\n",
       "      <td>2.625</td>\n",
       "      <td>NaN</td>\n",
       "      <td>NaN</td>\n",
       "      <td>NaN</td>\n",
       "      <td>NaN</td>\n",
       "      <td>NaN</td>\n",
       "      <td>211.350143</td>\n",
       "      <td>8.106</td>\n",
       "      <td>A</td>\n",
       "      <td>151315</td>\n",
       "    </tr>\n",
       "  </tbody>\n",
       "</table>\n",
       "</div>"
      ],
      "text/plain": [
       "   store  dept        date  weekly_sales  isholiday  temperature  fuel_price  \\\n",
       "0      1     1  2010-02-05      24924.50      False        42.31       2.572   \n",
       "1      1     1  2010-02-12      46039.49       True        38.51       2.548   \n",
       "2      1     1  2010-02-19      41595.55      False        39.93       2.514   \n",
       "3      1     1  2010-02-26      19403.54      False        46.63       2.561   \n",
       "4      1     1  2010-03-05      21827.90      False        46.50       2.625   \n",
       "\n",
       "   markdown1  markdown2  markdown3  markdown4  markdown5         cpi  \\\n",
       "0        NaN        NaN        NaN        NaN        NaN  211.096358   \n",
       "1        NaN        NaN        NaN        NaN        NaN  211.242170   \n",
       "2        NaN        NaN        NaN        NaN        NaN  211.289143   \n",
       "3        NaN        NaN        NaN        NaN        NaN  211.319643   \n",
       "4        NaN        NaN        NaN        NaN        NaN  211.350143   \n",
       "\n",
       "   unemployment type    size  \n",
       "0         8.106    A  151315  \n",
       "1         8.106    A  151315  \n",
       "2         8.106    A  151315  \n",
       "3         8.106    A  151315  \n",
       "4         8.106    A  151315  "
      ]
     },
     "execution_count": 13,
     "metadata": {},
     "output_type": "execute_result"
    }
   ],
   "source": [
    "df.head()"
   ]
  },
  {
   "cell_type": "markdown",
   "id": "91a8ed55",
   "metadata": {
    "heading_collapsed": true
   },
   "source": [
    "## 1.5 Check Na"
   ]
  },
  {
   "cell_type": "code",
   "execution_count": 14,
   "id": "aa1bd243",
   "metadata": {
    "ExecuteTime": {
     "end_time": "2023-10-21T00:20:30.393499Z",
     "start_time": "2023-10-21T00:20:30.358880Z"
    },
    "hidden": true,
    "scrolled": true
   },
   "outputs": [
    {
     "data": {
      "text/plain": [
       "store           0.000000\n",
       "dept            0.000000\n",
       "date            0.000000\n",
       "weekly_sales    0.000000\n",
       "isholiday       0.000000\n",
       "temperature     0.000000\n",
       "fuel_price      0.000000\n",
       "markdown1       0.642572\n",
       "markdown2       0.736110\n",
       "markdown3       0.674808\n",
       "markdown4       0.679847\n",
       "markdown5       0.640790\n",
       "cpi             0.000000\n",
       "unemployment    0.000000\n",
       "type            0.000000\n",
       "size            0.000000\n",
       "dtype: float64"
      ]
     },
     "execution_count": 14,
     "metadata": {},
     "output_type": "execute_result"
    }
   ],
   "source": [
    "df.isna().sum() / df.shape[0] "
   ]
  },
  {
   "cell_type": "markdown",
   "id": "a99b8129",
   "metadata": {
    "heading_collapsed": true
   },
   "source": [
    "## 1.6 Removing Nas"
   ]
  },
  {
   "cell_type": "code",
   "execution_count": 15,
   "id": "ea11961b",
   "metadata": {
    "ExecuteTime": {
     "end_time": "2023-10-21T00:20:30.417149Z",
     "start_time": "2023-10-21T00:20:30.395690Z"
    },
    "hidden": true
   },
   "outputs": [],
   "source": [
    "df.drop('markdown1 markdown2 markdown3 markdown4 markdown5'.split(), axis=1, inplace=True)"
   ]
  },
  {
   "cell_type": "code",
   "execution_count": 16,
   "id": "7ed003c7",
   "metadata": {
    "ExecuteTime": {
     "end_time": "2023-10-21T00:20:30.475713Z",
     "start_time": "2023-10-21T00:20:30.421115Z"
    },
    "hidden": true
   },
   "outputs": [],
   "source": [
    "df_raw = df.copy()"
   ]
  },
  {
   "cell_type": "code",
   "execution_count": 17,
   "id": "1adbc61f",
   "metadata": {
    "ExecuteTime": {
     "end_time": "2023-10-21T00:20:30.500534Z",
     "start_time": "2023-10-21T00:20:30.477274Z"
    },
    "hidden": true
   },
   "outputs": [
    {
     "data": {
      "text/html": [
       "<div>\n",
       "<style scoped>\n",
       "    .dataframe tbody tr th:only-of-type {\n",
       "        vertical-align: middle;\n",
       "    }\n",
       "\n",
       "    .dataframe tbody tr th {\n",
       "        vertical-align: top;\n",
       "    }\n",
       "\n",
       "    .dataframe thead th {\n",
       "        text-align: right;\n",
       "    }\n",
       "</style>\n",
       "<table border=\"1\" class=\"dataframe\">\n",
       "  <thead>\n",
       "    <tr style=\"text-align: right;\">\n",
       "      <th></th>\n",
       "      <th>store</th>\n",
       "      <th>dept</th>\n",
       "      <th>date</th>\n",
       "      <th>weekly_sales</th>\n",
       "      <th>isholiday</th>\n",
       "      <th>temperature</th>\n",
       "      <th>fuel_price</th>\n",
       "      <th>cpi</th>\n",
       "      <th>unemployment</th>\n",
       "      <th>type</th>\n",
       "      <th>size</th>\n",
       "    </tr>\n",
       "  </thead>\n",
       "  <tbody>\n",
       "    <tr>\n",
       "      <th>0</th>\n",
       "      <td>1</td>\n",
       "      <td>1</td>\n",
       "      <td>2010-02-05</td>\n",
       "      <td>24924.50</td>\n",
       "      <td>False</td>\n",
       "      <td>42.31</td>\n",
       "      <td>2.572</td>\n",
       "      <td>211.096358</td>\n",
       "      <td>8.106</td>\n",
       "      <td>A</td>\n",
       "      <td>151315</td>\n",
       "    </tr>\n",
       "    <tr>\n",
       "      <th>1</th>\n",
       "      <td>1</td>\n",
       "      <td>1</td>\n",
       "      <td>2010-02-12</td>\n",
       "      <td>46039.49</td>\n",
       "      <td>True</td>\n",
       "      <td>38.51</td>\n",
       "      <td>2.548</td>\n",
       "      <td>211.242170</td>\n",
       "      <td>8.106</td>\n",
       "      <td>A</td>\n",
       "      <td>151315</td>\n",
       "    </tr>\n",
       "    <tr>\n",
       "      <th>2</th>\n",
       "      <td>1</td>\n",
       "      <td>1</td>\n",
       "      <td>2010-02-19</td>\n",
       "      <td>41595.55</td>\n",
       "      <td>False</td>\n",
       "      <td>39.93</td>\n",
       "      <td>2.514</td>\n",
       "      <td>211.289143</td>\n",
       "      <td>8.106</td>\n",
       "      <td>A</td>\n",
       "      <td>151315</td>\n",
       "    </tr>\n",
       "    <tr>\n",
       "      <th>3</th>\n",
       "      <td>1</td>\n",
       "      <td>1</td>\n",
       "      <td>2010-02-26</td>\n",
       "      <td>19403.54</td>\n",
       "      <td>False</td>\n",
       "      <td>46.63</td>\n",
       "      <td>2.561</td>\n",
       "      <td>211.319643</td>\n",
       "      <td>8.106</td>\n",
       "      <td>A</td>\n",
       "      <td>151315</td>\n",
       "    </tr>\n",
       "    <tr>\n",
       "      <th>4</th>\n",
       "      <td>1</td>\n",
       "      <td>1</td>\n",
       "      <td>2010-03-05</td>\n",
       "      <td>21827.90</td>\n",
       "      <td>False</td>\n",
       "      <td>46.50</td>\n",
       "      <td>2.625</td>\n",
       "      <td>211.350143</td>\n",
       "      <td>8.106</td>\n",
       "      <td>A</td>\n",
       "      <td>151315</td>\n",
       "    </tr>\n",
       "  </tbody>\n",
       "</table>\n",
       "</div>"
      ],
      "text/plain": [
       "   store  dept        date  weekly_sales  isholiday  temperature  fuel_price  \\\n",
       "0      1     1  2010-02-05      24924.50      False        42.31       2.572   \n",
       "1      1     1  2010-02-12      46039.49       True        38.51       2.548   \n",
       "2      1     1  2010-02-19      41595.55      False        39.93       2.514   \n",
       "3      1     1  2010-02-26      19403.54      False        46.63       2.561   \n",
       "4      1     1  2010-03-05      21827.90      False        46.50       2.625   \n",
       "\n",
       "          cpi  unemployment type    size  \n",
       "0  211.096358         8.106    A  151315  \n",
       "1  211.242170         8.106    A  151315  \n",
       "2  211.289143         8.106    A  151315  \n",
       "3  211.319643         8.106    A  151315  \n",
       "4  211.350143         8.106    A  151315  "
      ]
     },
     "execution_count": 17,
     "metadata": {},
     "output_type": "execute_result"
    }
   ],
   "source": [
    "df.head()"
   ]
  },
  {
   "cell_type": "markdown",
   "id": "ceb20cb5",
   "metadata": {
    "heading_collapsed": true
   },
   "source": [
    "## 1.7 Datatypes"
   ]
  },
  {
   "cell_type": "code",
   "execution_count": 18,
   "id": "60b56ad2",
   "metadata": {
    "ExecuteTime": {
     "end_time": "2023-10-21T00:20:30.512478Z",
     "start_time": "2023-10-21T00:20:30.505809Z"
    },
    "hidden": true
   },
   "outputs": [
    {
     "data": {
      "text/plain": [
       "store             int64\n",
       "dept              int64\n",
       "date             object\n",
       "weekly_sales    float64\n",
       "isholiday          bool\n",
       "temperature     float64\n",
       "fuel_price      float64\n",
       "cpi             float64\n",
       "unemployment    float64\n",
       "type             object\n",
       "size              int64\n",
       "dtype: object"
      ]
     },
     "execution_count": 18,
     "metadata": {},
     "output_type": "execute_result"
    }
   ],
   "source": [
    "df.dtypes"
   ]
  },
  {
   "cell_type": "markdown",
   "id": "91cc98ee",
   "metadata": {
    "heading_collapsed": true
   },
   "source": [
    "## 1.8 Changing Datatypes"
   ]
  },
  {
   "cell_type": "code",
   "execution_count": 19,
   "id": "b123786d",
   "metadata": {
    "ExecuteTime": {
     "end_time": "2023-10-21T00:20:30.563654Z",
     "start_time": "2023-10-21T00:20:30.519568Z"
    },
    "hidden": true
   },
   "outputs": [],
   "source": [
    "df['date'] = pd.to_datetime(df['date'])\n",
    "\n",
    "df['isholiday'] = df['isholiday'].astype(int)"
   ]
  },
  {
   "cell_type": "code",
   "execution_count": 20,
   "id": "9220dfb0",
   "metadata": {
    "ExecuteTime": {
     "end_time": "2023-10-21T00:20:30.588569Z",
     "start_time": "2023-10-21T00:20:30.566849Z"
    },
    "hidden": true
   },
   "outputs": [
    {
     "data": {
      "text/plain": [
       "type\n",
       "A    215478\n",
       "B    163495\n",
       "C     42597\n",
       "Name: count, dtype: int64"
      ]
     },
     "execution_count": 20,
     "metadata": {},
     "output_type": "execute_result"
    }
   ],
   "source": [
    "df['type'].value_counts()"
   ]
  },
  {
   "cell_type": "code",
   "execution_count": 21,
   "id": "b8e645bf",
   "metadata": {
    "ExecuteTime": {
     "end_time": "2023-10-21T00:20:30.690489Z",
     "start_time": "2023-10-21T00:20:30.591066Z"
    },
    "hidden": true
   },
   "outputs": [],
   "source": [
    "df['type'] = df['type'].apply(lambda x: 0 if x == 'A' else (1 if x == 'B' else 2))"
   ]
  },
  {
   "cell_type": "markdown",
   "id": "dcdabe55",
   "metadata": {
    "heading_collapsed": true
   },
   "source": [
    "## 1.9 Changing Granularity"
   ]
  },
  {
   "cell_type": "code",
   "execution_count": 24,
   "id": "3e3eb096",
   "metadata": {
    "ExecuteTime": {
     "end_time": "2023-10-21T00:24:18.188929Z",
     "start_time": "2023-10-21T00:24:18.135525Z"
    },
    "hidden": true
   },
   "outputs": [],
   "source": [
    "df = df.groupby(['store', 'date']).agg({'weekly_sales':'sum', 'isholiday':'first', 'temperature':'first', 'fuel_price':'first', 'cpi':'first', 'unemployment':'first', 'type':'first', 'size':'first'}).reset_index()\n",
    "df_raw = df.groupby(['store', 'date']).agg({'weekly_sales':'sum', 'isholiday':'first', 'temperature':'first', 'fuel_price':'first', 'cpi':'first', 'unemployment':'first', 'type':'first', 'size':'first'}).reset_index()"
   ]
  },
  {
   "cell_type": "markdown",
   "id": "12564449",
   "metadata": {},
   "source": [
    "## 1.10 Descriptive Statistical"
   ]
  },
  {
   "cell_type": "code",
   "execution_count": 50,
   "id": "efb7f975",
   "metadata": {
    "ExecuteTime": {
     "end_time": "2023-10-21T00:45:35.935722Z",
     "start_time": "2023-10-21T00:45:35.931052Z"
    }
   },
   "outputs": [],
   "source": [
    "def descp_stasts(df, col):\n",
    "    a = df[col].mean()\n",
    "    b = df[col].median()\n",
    "    c = (df[col].mean() - df[col].median()) / df[col].mean()\n",
    "    d = df[col].min()\n",
    "    e = df[col].max()\n",
    "    f = df[col].max() - df[col].min()\n",
    "    g = df[col].std()\n",
    "    h = df[col].std() / df[col].mean()\n",
    "    i = df[col].skew()\n",
    "    j = df[col].kurtosis()\n",
    "    k = np.percentile(df[col], 25)\n",
    "    l = np.percentile(df[col], 50)\n",
    "    m = np.percentile(df[col], 75)\n",
    "\n",
    "    temp = pd.DataFrame([a, b, c, d, e, f, g, h, i, j, k, l, m], index='mean median coef_desloc min max range std coef_disp skew kurtosis q1 q2 q3'.split(), columns=[col])\n",
    "    temp = round(temp, 2)\n",
    "    return temp"
   ]
  },
  {
   "cell_type": "code",
   "execution_count": 55,
   "id": "28e64644",
   "metadata": {
    "ExecuteTime": {
     "end_time": "2023-10-21T00:47:56.651908Z",
     "start_time": "2023-10-21T00:47:56.642503Z"
    }
   },
   "outputs": [],
   "source": [
    "def plot_stats(df, col):\n",
    "    plt.figure(figsize=(3, 2))\n",
    "    plt.subplot(3, 1, 1)\n",
    "    sns.kdeplot(data=df, x=col)\n",
    "    sns.despine()\n",
    "    plt.title('densityplot')\n",
    "    plt.xlabel('')\n",
    "    plt.ylabel('')\n",
    "\n",
    "    plt.figure(figsize=(3, 3))\n",
    "    plt.subplot(3, 1, 2)\n",
    "    sns.boxplot(data=df, x=col)\n",
    "    sns.despine()\n",
    "    plt.title('boxplot')\n",
    "    plt.xlabel('')\n",
    "    plt.ylabel('')\n",
    "\n",
    "    plt.figure(figsize=(3, 3))\n",
    "    plt.subplot(3, 1, 3)\n",
    "    sns.histplot(data=df, x=col)\n",
    "    sns.despine()\n",
    "    plt.title('histplot')\n",
    "    plt.xlabel('')\n",
    "    plt.ylabel('');"
   ]
  },
  {
   "cell_type": "code",
   "execution_count": 75,
   "id": "3a28cf60",
   "metadata": {
    "ExecuteTime": {
     "end_time": "2023-10-21T00:58:00.963176Z",
     "start_time": "2023-10-21T00:58:00.958389Z"
    }
   },
   "outputs": [],
   "source": [
    "def plot_stats_stores(df, col):\n",
    "    for i in range(1, 5):\n",
    "        rand = randint(df['store'].min(), df['store'].max())\n",
    "        temp = df.loc[df['store']==rand]\n",
    "        print(f'Store {rand}')\n",
    "        plt.subplot(5, 1, i)\n",
    "        sns.kdeplot(data=temp, x=col)\n",
    "        sns.despine()\n",
    "        plt.xlabel('')\n",
    "        plt.ylabel('')\n",
    "        plt.show();"
   ]
  },
  {
   "cell_type": "code",
   "execution_count": 159,
   "id": "0635275f",
   "metadata": {
    "ExecuteTime": {
     "end_time": "2023-10-21T01:22:28.264123Z",
     "start_time": "2023-10-21T01:22:28.260024Z"
    }
   },
   "outputs": [],
   "source": [
    "def plot_stats_stores_(df, col, xlimmin, xlimmax):\n",
    "    for i in range(1, 5):\n",
    "        rand = randint(df['store'].min(), df['store'].max())\n",
    "        temp = df.loc[df['store']==rand]\n",
    "        print(f'Store {rand}')\n",
    "        plt.subplot(5, 1, i)\n",
    "        sns.kdeplot(data=temp, x=col)\n",
    "        sns.despine()\n",
    "        plt.xlabel('')\n",
    "        plt.ylabel('')\n",
    "        plt.xlim(xlimmin, xlimmax)\n",
    "        plt.show();"
   ]
  },
  {
   "cell_type": "markdown",
   "id": "956b36f4",
   "metadata": {},
   "source": [
    "### 1.10.1 Numerical Attributes"
   ]
  },
  {
   "cell_type": "markdown",
   "id": "6e4fbfa9",
   "metadata": {
    "heading_collapsed": true
   },
   "source": [
    "#### cpi"
   ]
  },
  {
   "cell_type": "code",
   "execution_count": 155,
   "id": "4ebfb2ac",
   "metadata": {
    "ExecuteTime": {
     "end_time": "2023-10-21T01:18:20.471955Z",
     "start_time": "2023-10-21T01:18:20.461521Z"
    },
    "cell_style": "split",
    "hidden": true
   },
   "outputs": [
    {
     "data": {
      "text/html": [
       "<div>\n",
       "<style scoped>\n",
       "    .dataframe tbody tr th:only-of-type {\n",
       "        vertical-align: middle;\n",
       "    }\n",
       "\n",
       "    .dataframe tbody tr th {\n",
       "        vertical-align: top;\n",
       "    }\n",
       "\n",
       "    .dataframe thead th {\n",
       "        text-align: right;\n",
       "    }\n",
       "</style>\n",
       "<table border=\"1\" class=\"dataframe\">\n",
       "  <thead>\n",
       "    <tr style=\"text-align: right;\">\n",
       "      <th></th>\n",
       "      <th>cpi</th>\n",
       "    </tr>\n",
       "  </thead>\n",
       "  <tbody>\n",
       "    <tr>\n",
       "      <th>mean</th>\n",
       "      <td>171.58</td>\n",
       "    </tr>\n",
       "    <tr>\n",
       "      <th>median</th>\n",
       "      <td>182.62</td>\n",
       "    </tr>\n",
       "    <tr>\n",
       "      <th>coef_desloc</th>\n",
       "      <td>-0.06</td>\n",
       "    </tr>\n",
       "    <tr>\n",
       "      <th>min</th>\n",
       "      <td>126.06</td>\n",
       "    </tr>\n",
       "    <tr>\n",
       "      <th>max</th>\n",
       "      <td>227.23</td>\n",
       "    </tr>\n",
       "    <tr>\n",
       "      <th>range</th>\n",
       "      <td>101.17</td>\n",
       "    </tr>\n",
       "    <tr>\n",
       "      <th>std</th>\n",
       "      <td>39.36</td>\n",
       "    </tr>\n",
       "    <tr>\n",
       "      <th>coef_disp</th>\n",
       "      <td>0.23</td>\n",
       "    </tr>\n",
       "    <tr>\n",
       "      <th>skew</th>\n",
       "      <td>0.06</td>\n",
       "    </tr>\n",
       "    <tr>\n",
       "      <th>kurtosis</th>\n",
       "      <td>-1.84</td>\n",
       "    </tr>\n",
       "    <tr>\n",
       "      <th>q1</th>\n",
       "      <td>131.74</td>\n",
       "    </tr>\n",
       "    <tr>\n",
       "      <th>q2</th>\n",
       "      <td>182.62</td>\n",
       "    </tr>\n",
       "    <tr>\n",
       "      <th>q3</th>\n",
       "      <td>212.74</td>\n",
       "    </tr>\n",
       "  </tbody>\n",
       "</table>\n",
       "</div>"
      ],
      "text/plain": [
       "                cpi\n",
       "mean         171.58\n",
       "median       182.62\n",
       "coef_desloc   -0.06\n",
       "min          126.06\n",
       "max          227.23\n",
       "range        101.17\n",
       "std           39.36\n",
       "coef_disp      0.23\n",
       "skew           0.06\n",
       "kurtosis      -1.84\n",
       "q1           131.74\n",
       "q2           182.62\n",
       "q3           212.74"
      ]
     },
     "execution_count": 155,
     "metadata": {},
     "output_type": "execute_result"
    }
   ],
   "source": [
    "temp = descp_stasts(df, 'cpi')\n",
    "temp"
   ]
  },
  {
   "cell_type": "code",
   "execution_count": 156,
   "id": "c86f57a4",
   "metadata": {
    "ExecuteTime": {
     "end_time": "2023-10-21T01:18:20.947720Z",
     "start_time": "2023-10-21T01:18:20.473534Z"
    },
    "cell_style": "split",
    "hidden": true
   },
   "outputs": [
    {
     "data": {
      "image/png": "[encoded data removed]",
      "text/plain": [
       "<Figure size 300x200 with 1 Axes>"
      ]
     },
     "metadata": {},
     "output_type": "display_data"
    },
    {
     "data": {
      "image/png": "[encoded data removed]",
      "text/plain": [
       "<Figure size 300x300 with 1 Axes>"
      ]
     },
     "metadata": {},
     "output_type": "display_data"
    },
    {
     "data": {
      "image/png": "[encoded data removed]",
      "text/plain": [
       "<Figure size 300x300 with 1 Axes>"
      ]
     },
     "metadata": {},
     "output_type": "display_data"
    }
   ],
   "source": [
    "plot_stats(df, 'cpi')"
   ]
  },
  {
   "cell_type": "code",
   "execution_count": 157,
   "id": "fc5d5d15",
   "metadata": {
    "ExecuteTime": {
     "end_time": "2023-10-21T01:18:20.996270Z",
     "start_time": "2023-10-21T01:18:20.950354Z"
    },
    "hidden": true
   },
   "outputs": [
    {
     "data": {
      "text/html": [
       "<div>\n",
       "<style scoped>\n",
       "    .dataframe tbody tr th:only-of-type {\n",
       "        vertical-align: middle;\n",
       "    }\n",
       "\n",
       "    .dataframe tbody tr th {\n",
       "        vertical-align: top;\n",
       "    }\n",
       "\n",
       "    .dataframe thead th {\n",
       "        text-align: right;\n",
       "    }\n",
       "</style>\n",
       "<table border=\"1\" class=\"dataframe\">\n",
       "  <thead>\n",
       "    <tr style=\"text-align: right;\">\n",
       "      <th></th>\n",
       "      <th>store 25</th>\n",
       "      <th>store 23</th>\n",
       "      <th>store 26</th>\n",
       "      <th>store 5</th>\n",
       "      <th>store 6</th>\n",
       "      <th>store 37</th>\n",
       "      <th>store 38</th>\n",
       "      <th>store 26</th>\n",
       "      <th>store 34</th>\n",
       "    </tr>\n",
       "  </thead>\n",
       "  <tbody>\n",
       "    <tr>\n",
       "      <th>mean</th>\n",
       "      <td>209.04</td>\n",
       "      <td>135.09</td>\n",
       "      <td>135.09</td>\n",
       "      <td>216.57</td>\n",
       "      <td>217.55</td>\n",
       "      <td>214.73</td>\n",
       "      <td>128.68</td>\n",
       "      <td>135.09</td>\n",
       "      <td>128.68</td>\n",
       "    </tr>\n",
       "    <tr>\n",
       "      <th>median</th>\n",
       "      <td>208.56</td>\n",
       "      <td>135.08</td>\n",
       "      <td>135.08</td>\n",
       "      <td>216.03</td>\n",
       "      <td>217.01</td>\n",
       "      <td>214.19</td>\n",
       "      <td>129.08</td>\n",
       "      <td>135.08</td>\n",
       "      <td>129.08</td>\n",
       "    </tr>\n",
       "    <tr>\n",
       "      <th>coef_desloc</th>\n",
       "      <td>0.00</td>\n",
       "      <td>0.00</td>\n",
       "      <td>0.00</td>\n",
       "      <td>0.00</td>\n",
       "      <td>0.00</td>\n",
       "      <td>0.00</td>\n",
       "      <td>-0.00</td>\n",
       "      <td>0.00</td>\n",
       "      <td>-0.00</td>\n",
       "    </tr>\n",
       "    <tr>\n",
       "      <th>min</th>\n",
       "      <td>203.61</td>\n",
       "      <td>131.53</td>\n",
       "      <td>131.53</td>\n",
       "      <td>210.89</td>\n",
       "      <td>211.84</td>\n",
       "      <td>209.12</td>\n",
       "      <td>126.06</td>\n",
       "      <td>131.53</td>\n",
       "      <td>126.06</td>\n",
       "    </tr>\n",
       "    <tr>\n",
       "      <th>max</th>\n",
       "      <td>216.15</td>\n",
       "      <td>138.91</td>\n",
       "      <td>138.91</td>\n",
       "      <td>224.04</td>\n",
       "      <td>225.07</td>\n",
       "      <td>222.11</td>\n",
       "      <td>131.19</td>\n",
       "      <td>138.91</td>\n",
       "      <td>131.19</td>\n",
       "    </tr>\n",
       "    <tr>\n",
       "      <th>range</th>\n",
       "      <td>12.54</td>\n",
       "      <td>7.38</td>\n",
       "      <td>7.38</td>\n",
       "      <td>13.15</td>\n",
       "      <td>13.23</td>\n",
       "      <td>13.00</td>\n",
       "      <td>5.13</td>\n",
       "      <td>7.38</td>\n",
       "      <td>5.13</td>\n",
       "    </tr>\n",
       "    <tr>\n",
       "      <th>std</th>\n",
       "      <td>4.18</td>\n",
       "      <td>2.38</td>\n",
       "      <td>2.38</td>\n",
       "      <td>4.36</td>\n",
       "      <td>4.39</td>\n",
       "      <td>4.32</td>\n",
       "      <td>1.86</td>\n",
       "      <td>2.38</td>\n",
       "      <td>1.86</td>\n",
       "    </tr>\n",
       "    <tr>\n",
       "      <th>coef_disp</th>\n",
       "      <td>0.02</td>\n",
       "      <td>0.02</td>\n",
       "      <td>0.02</td>\n",
       "      <td>0.02</td>\n",
       "      <td>0.02</td>\n",
       "      <td>0.02</td>\n",
       "      <td>0.01</td>\n",
       "      <td>0.02</td>\n",
       "      <td>0.01</td>\n",
       "    </tr>\n",
       "    <tr>\n",
       "      <th>skew</th>\n",
       "      <td>0.26</td>\n",
       "      <td>0.06</td>\n",
       "      <td>0.06</td>\n",
       "      <td>0.27</td>\n",
       "      <td>0.27</td>\n",
       "      <td>0.27</td>\n",
       "      <td>-0.17</td>\n",
       "      <td>0.06</td>\n",
       "      <td>-0.17</td>\n",
       "    </tr>\n",
       "    <tr>\n",
       "      <th>kurtosis</th>\n",
       "      <td>-1.46</td>\n",
       "      <td>-1.54</td>\n",
       "      <td>-1.54</td>\n",
       "      <td>-1.46</td>\n",
       "      <td>-1.46</td>\n",
       "      <td>-1.46</td>\n",
       "      <td>-1.55</td>\n",
       "      <td>-1.54</td>\n",
       "      <td>-1.55</td>\n",
       "    </tr>\n",
       "    <tr>\n",
       "      <th>q1</th>\n",
       "      <td>204.77</td>\n",
       "      <td>132.76</td>\n",
       "      <td>132.76</td>\n",
       "      <td>212.11</td>\n",
       "      <td>213.07</td>\n",
       "      <td>210.31</td>\n",
       "      <td>126.59</td>\n",
       "      <td>132.76</td>\n",
       "      <td>126.59</td>\n",
       "    </tr>\n",
       "    <tr>\n",
       "      <th>q2</th>\n",
       "      <td>208.56</td>\n",
       "      <td>135.08</td>\n",
       "      <td>135.08</td>\n",
       "      <td>216.03</td>\n",
       "      <td>217.01</td>\n",
       "      <td>214.19</td>\n",
       "      <td>129.08</td>\n",
       "      <td>135.08</td>\n",
       "      <td>129.08</td>\n",
       "    </tr>\n",
       "    <tr>\n",
       "      <th>q3</th>\n",
       "      <td>213.37</td>\n",
       "      <td>137.30</td>\n",
       "      <td>137.30</td>\n",
       "      <td>221.12</td>\n",
       "      <td>222.13</td>\n",
       "      <td>219.22</td>\n",
       "      <td>130.50</td>\n",
       "      <td>137.30</td>\n",
       "      <td>130.50</td>\n",
       "    </tr>\n",
       "  </tbody>\n",
       "</table>\n",
       "</div>"
      ],
      "text/plain": [
       "             store 25  store 23  store 26  store 5  store 6  store 37  \\\n",
       "mean           209.04    135.09    135.09   216.57   217.55    214.73   \n",
       "median         208.56    135.08    135.08   216.03   217.01    214.19   \n",
       "coef_desloc      0.00      0.00      0.00     0.00     0.00      0.00   \n",
       "min            203.61    131.53    131.53   210.89   211.84    209.12   \n",
       "max            216.15    138.91    138.91   224.04   225.07    222.11   \n",
       "range           12.54      7.38      7.38    13.15    13.23     13.00   \n",
       "std              4.18      2.38      2.38     4.36     4.39      4.32   \n",
       "coef_disp        0.02      0.02      0.02     0.02     0.02      0.02   \n",
       "skew             0.26      0.06      0.06     0.27     0.27      0.27   \n",
       "kurtosis        -1.46     -1.54     -1.54    -1.46    -1.46     -1.46   \n",
       "q1             204.77    132.76    132.76   212.11   213.07    210.31   \n",
       "q2             208.56    135.08    135.08   216.03   217.01    214.19   \n",
       "q3             213.37    137.30    137.30   221.12   222.13    219.22   \n",
       "\n",
       "             store 38  store 26  store 34  \n",
       "mean           128.68    135.09    128.68  \n",
       "median         129.08    135.08    129.08  \n",
       "coef_desloc     -0.00      0.00     -0.00  \n",
       "min            126.06    131.53    126.06  \n",
       "max            131.19    138.91    131.19  \n",
       "range            5.13      7.38      5.13  \n",
       "std              1.86      2.38      1.86  \n",
       "coef_disp        0.01      0.02      0.01  \n",
       "skew            -0.17      0.06     -0.17  \n",
       "kurtosis        -1.55     -1.54     -1.55  \n",
       "q1             126.59    132.76    126.59  \n",
       "q2             129.08    135.08    129.08  \n",
       "q3             130.50    137.30    130.50  "
      ]
     },
     "execution_count": 157,
     "metadata": {},
     "output_type": "execute_result"
    }
   ],
   "source": [
    "cols = pd.DataFrame()\n",
    "for i in range(1, 10):\n",
    "    rand = randint(df['store'].min(), df['store'].max())\n",
    "    temp = df.loc[df['store']==rand]\n",
    "    temp_ = descp_stasts(temp, 'cpi')\n",
    "    temp_.columns = [f'store {rand}']\n",
    "    cols = pd.concat([cols, temp_], axis=1)\n",
    "cols"
   ]
  },
  {
   "cell_type": "code",
   "execution_count": 158,
   "id": "d097d7c1",
   "metadata": {
    "ExecuteTime": {
     "end_time": "2023-10-21T01:18:21.693030Z",
     "start_time": "2023-10-21T01:18:20.998670Z"
    },
    "hidden": true
   },
   "outputs": [
    {
     "name": "stdout",
     "output_type": "stream",
     "text": [
      "Store 9\n"
     ]
    },
    {
     "data": {
      "image/png": "[encoded data removed]",
      "text/plain": [
       "<Figure size 640x480 with 1 Axes>"
      ]
     },
     "metadata": {},
     "output_type": "display_data"
    },
    {
     "name": "stdout",
     "output_type": "stream",
     "text": [
      "Store 27\n"
     ]
    },
    {
     "data": {
      "image/png": "[encoded data removed]",
      "text/plain": [
       "<Figure size 640x480 with 1 Axes>"
      ]
     },
     "metadata": {},
     "output_type": "display_data"
    },
    {
     "name": "stdout",
     "output_type": "stream",
     "text": [
      "Store 32\n"
     ]
    },
    {
     "data": {
      "image/png": "[encoded data removed]",
      "text/plain": [
       "<Figure size 640x480 with 1 Axes>"
      ]
     },
     "metadata": {},
     "output_type": "display_data"
    },
    {
     "name": "stdout",
     "output_type": "stream",
     "text": [
      "Store 25\n"
     ]
    },
    {
     "data": {
      "image/png": "[encoded data removed]",
      "text/plain": [
       "<Figure size 640x480 with 1 Axes>"
      ]
     },
     "metadata": {},
     "output_type": "display_data"
    }
   ],
   "source": [
    "plot_stats_stores(df, 'cpi')"
   ]
  },
  {
   "cell_type": "code",
   "execution_count": 161,
   "id": "7715e08f",
   "metadata": {
    "ExecuteTime": {
     "end_time": "2023-10-21T01:23:13.016191Z",
     "start_time": "2023-10-21T01:23:12.457825Z"
    },
    "hidden": true
   },
   "outputs": [
    {
     "name": "stdout",
     "output_type": "stream",
     "text": [
      "Store 43\n"
     ]
    },
    {
     "data": {
      "image/png": "[encoded data removed]",
      "text/plain": [
       "<Figure size 640x480 with 1 Axes>"
      ]
     },
     "metadata": {},
     "output_type": "display_data"
    },
    {
     "name": "stdout",
     "output_type": "stream",
     "text": [
      "Store 15\n"
     ]
    },
    {
     "data": {
      "image/png": "[encoded data removed]",
      "text/plain": [
       "<Figure size 640x480 with 1 Axes>"
      ]
     },
     "metadata": {},
     "output_type": "display_data"
    },
    {
     "name": "stdout",
     "output_type": "stream",
     "text": [
      "Store 3\n"
     ]
    },
    {
     "data": {
      "image/png": "[encoded data removed]",
      "text/plain": [
       "<Figure size 640x480 with 1 Axes>"
      ]
     },
     "metadata": {},
     "output_type": "display_data"
    },
    {
     "name": "stdout",
     "output_type": "stream",
     "text": [
      "Store 23\n"
     ]
    },
    {
     "data": {
      "image/png": "[encoded data removed]",
      "text/plain": [
       "<Figure size 640x480 with 1 Axes>"
      ]
     },
     "metadata": {},
     "output_type": "display_data"
    }
   ],
   "source": [
    "plot_stats_stores_(df, 'cpi', 120, 230)"
   ]
  },
  {
   "cell_type": "markdown",
   "id": "c70e887e",
   "metadata": {
    "heading_collapsed": true
   },
   "source": [
    "#### temperature"
   ]
  },
  {
   "cell_type": "code",
   "execution_count": 162,
   "id": "6b74cd54",
   "metadata": {
    "ExecuteTime": {
     "end_time": "2023-10-21T01:25:18.712843Z",
     "start_time": "2023-10-21T01:25:18.701998Z"
    },
    "cell_style": "split",
    "hidden": true
   },
   "outputs": [
    {
     "data": {
      "text/html": [
       "<div>\n",
       "<style scoped>\n",
       "    .dataframe tbody tr th:only-of-type {\n",
       "        vertical-align: middle;\n",
       "    }\n",
       "\n",
       "    .dataframe tbody tr th {\n",
       "        vertical-align: top;\n",
       "    }\n",
       "\n",
       "    .dataframe thead th {\n",
       "        text-align: right;\n",
       "    }\n",
       "</style>\n",
       "<table border=\"1\" class=\"dataframe\">\n",
       "  <thead>\n",
       "    <tr style=\"text-align: right;\">\n",
       "      <th></th>\n",
       "      <th>temperature</th>\n",
       "    </tr>\n",
       "  </thead>\n",
       "  <tbody>\n",
       "    <tr>\n",
       "      <th>mean</th>\n",
       "      <td>60.66</td>\n",
       "    </tr>\n",
       "    <tr>\n",
       "      <th>median</th>\n",
       "      <td>62.67</td>\n",
       "    </tr>\n",
       "    <tr>\n",
       "      <th>coef_desloc</th>\n",
       "      <td>-0.03</td>\n",
       "    </tr>\n",
       "    <tr>\n",
       "      <th>min</th>\n",
       "      <td>-2.06</td>\n",
       "    </tr>\n",
       "    <tr>\n",
       "      <th>max</th>\n",
       "      <td>100.14</td>\n",
       "    </tr>\n",
       "    <tr>\n",
       "      <th>range</th>\n",
       "      <td>102.20</td>\n",
       "    </tr>\n",
       "    <tr>\n",
       "      <th>std</th>\n",
       "      <td>18.44</td>\n",
       "    </tr>\n",
       "    <tr>\n",
       "      <th>coef_disp</th>\n",
       "      <td>0.30</td>\n",
       "    </tr>\n",
       "    <tr>\n",
       "      <th>skew</th>\n",
       "      <td>-0.34</td>\n",
       "    </tr>\n",
       "    <tr>\n",
       "      <th>kurtosis</th>\n",
       "      <td>-0.61</td>\n",
       "    </tr>\n",
       "    <tr>\n",
       "      <th>q1</th>\n",
       "      <td>47.46</td>\n",
       "    </tr>\n",
       "    <tr>\n",
       "      <th>q2</th>\n",
       "      <td>62.67</td>\n",
       "    </tr>\n",
       "    <tr>\n",
       "      <th>q3</th>\n",
       "      <td>74.94</td>\n",
       "    </tr>\n",
       "  </tbody>\n",
       "</table>\n",
       "</div>"
      ],
      "text/plain": [
       "             temperature\n",
       "mean               60.66\n",
       "median             62.67\n",
       "coef_desloc        -0.03\n",
       "min                -2.06\n",
       "max               100.14\n",
       "range             102.20\n",
       "std                18.44\n",
       "coef_disp           0.30\n",
       "skew               -0.34\n",
       "kurtosis           -0.61\n",
       "q1                 47.46\n",
       "q2                 62.67\n",
       "q3                 74.94"
      ]
     },
     "execution_count": 162,
     "metadata": {},
     "output_type": "execute_result"
    }
   ],
   "source": [
    "temp = descp_stasts(df, 'temperature')\n",
    "temp"
   ]
  },
  {
   "cell_type": "code",
   "execution_count": 163,
   "id": "3af8c83a",
   "metadata": {
    "ExecuteTime": {
     "end_time": "2023-10-21T01:25:25.181364Z",
     "start_time": "2023-10-21T01:25:24.723851Z"
    },
    "cell_style": "split",
    "hidden": true
   },
   "outputs": [
    {
     "data": {
      "image/png": "[encoded data removed]",
      "text/plain": [
       "<Figure size 300x200 with 1 Axes>"
      ]
     },
     "metadata": {},
     "output_type": "display_data"
    },
    {
     "data": {
      "image/png": "[encoded data removed]",
      "text/plain": [
       "<Figure size 300x300 with 1 Axes>"
      ]
     },
     "metadata": {},
     "output_type": "display_data"
    },
    {
     "data": {
      "image/png": "[encoded data removed]",
      "text/plain": [
       "<Figure size 300x300 with 1 Axes>"
      ]
     },
     "metadata": {},
     "output_type": "display_data"
    }
   ],
   "source": [
    "plot_stats(df, 'temperature')"
   ]
  },
  {
   "cell_type": "code",
   "execution_count": 164,
   "id": "ad51e7d8",
   "metadata": {
    "ExecuteTime": {
     "end_time": "2023-10-21T01:25:32.507180Z",
     "start_time": "2023-10-21T01:25:32.453883Z"
    },
    "hidden": true
   },
   "outputs": [
    {
     "data": {
      "text/html": [
       "<div>\n",
       "<style scoped>\n",
       "    .dataframe tbody tr th:only-of-type {\n",
       "        vertical-align: middle;\n",
       "    }\n",
       "\n",
       "    .dataframe tbody tr th {\n",
       "        vertical-align: top;\n",
       "    }\n",
       "\n",
       "    .dataframe thead th {\n",
       "        text-align: right;\n",
       "    }\n",
       "</style>\n",
       "<table border=\"1\" class=\"dataframe\">\n",
       "  <thead>\n",
       "    <tr style=\"text-align: right;\">\n",
       "      <th></th>\n",
       "      <th>store 29</th>\n",
       "      <th>store 27</th>\n",
       "      <th>store 27</th>\n",
       "      <th>store 39</th>\n",
       "      <th>store 38</th>\n",
       "      <th>store 30</th>\n",
       "      <th>store 37</th>\n",
       "      <th>store 11</th>\n",
       "      <th>store 26</th>\n",
       "    </tr>\n",
       "  </thead>\n",
       "  <tbody>\n",
       "    <tr>\n",
       "      <th>mean</th>\n",
       "      <td>54.90</td>\n",
       "      <td>57.31</td>\n",
       "      <td>57.31</td>\n",
       "      <td>70.60</td>\n",
       "      <td>70.26</td>\n",
       "      <td>68.85</td>\n",
       "      <td>71.16</td>\n",
       "      <td>72.48</td>\n",
       "      <td>43.66</td>\n",
       "    </tr>\n",
       "    <tr>\n",
       "      <th>median</th>\n",
       "      <td>56.44</td>\n",
       "      <td>58.38</td>\n",
       "      <td>58.38</td>\n",
       "      <td>72.36</td>\n",
       "      <td>68.66</td>\n",
       "      <td>70.19</td>\n",
       "      <td>73.57</td>\n",
       "      <td>73.77</td>\n",
       "      <td>46.81</td>\n",
       "    </tr>\n",
       "    <tr>\n",
       "      <th>coef_desloc</th>\n",
       "      <td>-0.03</td>\n",
       "      <td>-0.02</td>\n",
       "      <td>-0.02</td>\n",
       "      <td>-0.02</td>\n",
       "      <td>0.02</td>\n",
       "      <td>-0.02</td>\n",
       "      <td>-0.03</td>\n",
       "      <td>-0.02</td>\n",
       "      <td>-0.07</td>\n",
       "    </tr>\n",
       "    <tr>\n",
       "      <th>min</th>\n",
       "      <td>20.61</td>\n",
       "      <td>23.64</td>\n",
       "      <td>23.64</td>\n",
       "      <td>40.34</td>\n",
       "      <td>37.64</td>\n",
       "      <td>34.14</td>\n",
       "      <td>41.16</td>\n",
       "      <td>44.61</td>\n",
       "      <td>5.54</td>\n",
       "    </tr>\n",
       "    <tr>\n",
       "      <th>max</th>\n",
       "      <td>79.22</td>\n",
       "      <td>82.69</td>\n",
       "      <td>82.69</td>\n",
       "      <td>88.65</td>\n",
       "      <td>99.22</td>\n",
       "      <td>94.22</td>\n",
       "      <td>87.64</td>\n",
       "      <td>91.44</td>\n",
       "      <td>71.08</td>\n",
       "    </tr>\n",
       "    <tr>\n",
       "      <th>range</th>\n",
       "      <td>58.61</td>\n",
       "      <td>59.05</td>\n",
       "      <td>59.05</td>\n",
       "      <td>48.31</td>\n",
       "      <td>61.58</td>\n",
       "      <td>60.08</td>\n",
       "      <td>46.48</td>\n",
       "      <td>46.83</td>\n",
       "      <td>65.54</td>\n",
       "    </tr>\n",
       "    <tr>\n",
       "      <th>std</th>\n",
       "      <td>15.66</td>\n",
       "      <td>16.02</td>\n",
       "      <td>16.02</td>\n",
       "      <td>12.40</td>\n",
       "      <td>16.63</td>\n",
       "      <td>15.67</td>\n",
       "      <td>12.09</td>\n",
       "      <td>12.60</td>\n",
       "      <td>16.75</td>\n",
       "    </tr>\n",
       "    <tr>\n",
       "      <th>coef_disp</th>\n",
       "      <td>0.29</td>\n",
       "      <td>0.28</td>\n",
       "      <td>0.28</td>\n",
       "      <td>0.18</td>\n",
       "      <td>0.24</td>\n",
       "      <td>0.23</td>\n",
       "      <td>0.17</td>\n",
       "      <td>0.17</td>\n",
       "      <td>0.38</td>\n",
       "    </tr>\n",
       "    <tr>\n",
       "      <th>skew</th>\n",
       "      <td>-0.26</td>\n",
       "      <td>-0.25</td>\n",
       "      <td>-0.25</td>\n",
       "      <td>-0.55</td>\n",
       "      <td>-0.03</td>\n",
       "      <td>-0.33</td>\n",
       "      <td>-0.57</td>\n",
       "      <td>-0.47</td>\n",
       "      <td>-0.28</td>\n",
       "    </tr>\n",
       "    <tr>\n",
       "      <th>kurtosis</th>\n",
       "      <td>-1.11</td>\n",
       "      <td>-1.12</td>\n",
       "      <td>-1.12</td>\n",
       "      <td>-0.73</td>\n",
       "      <td>-1.33</td>\n",
       "      <td>-0.92</td>\n",
       "      <td>-0.73</td>\n",
       "      <td>-0.90</td>\n",
       "      <td>-1.13</td>\n",
       "    </tr>\n",
       "    <tr>\n",
       "      <th>q1</th>\n",
       "      <td>43.10</td>\n",
       "      <td>45.18</td>\n",
       "      <td>45.18</td>\n",
       "      <td>61.63</td>\n",
       "      <td>53.98</td>\n",
       "      <td>56.76</td>\n",
       "      <td>62.46</td>\n",
       "      <td>62.95</td>\n",
       "      <td>29.06</td>\n",
       "    </tr>\n",
       "    <tr>\n",
       "      <th>q2</th>\n",
       "      <td>56.44</td>\n",
       "      <td>58.38</td>\n",
       "      <td>58.38</td>\n",
       "      <td>72.36</td>\n",
       "      <td>68.66</td>\n",
       "      <td>70.19</td>\n",
       "      <td>73.57</td>\n",
       "      <td>73.77</td>\n",
       "      <td>46.81</td>\n",
       "    </tr>\n",
       "    <tr>\n",
       "      <th>q3</th>\n",
       "      <td>69.40</td>\n",
       "      <td>71.73</td>\n",
       "      <td>71.73</td>\n",
       "      <td>81.34</td>\n",
       "      <td>85.42</td>\n",
       "      <td>82.54</td>\n",
       "      <td>81.81</td>\n",
       "      <td>83.35</td>\n",
       "      <td>59.16</td>\n",
       "    </tr>\n",
       "  </tbody>\n",
       "</table>\n",
       "</div>"
      ],
      "text/plain": [
       "             store 29  store 27  store 27  store 39  store 38  store 30  \\\n",
       "mean            54.90     57.31     57.31     70.60     70.26     68.85   \n",
       "median          56.44     58.38     58.38     72.36     68.66     70.19   \n",
       "coef_desloc     -0.03     -0.02     -0.02     -0.02      0.02     -0.02   \n",
       "min             20.61     23.64     23.64     40.34     37.64     34.14   \n",
       "max             79.22     82.69     82.69     88.65     99.22     94.22   \n",
       "range           58.61     59.05     59.05     48.31     61.58     60.08   \n",
       "std             15.66     16.02     16.02     12.40     16.63     15.67   \n",
       "coef_disp        0.29      0.28      0.28      0.18      0.24      0.23   \n",
       "skew            -0.26     -0.25     -0.25     -0.55     -0.03     -0.33   \n",
       "kurtosis        -1.11     -1.12     -1.12     -0.73     -1.33     -0.92   \n",
       "q1              43.10     45.18     45.18     61.63     53.98     56.76   \n",
       "q2              56.44     58.38     58.38     72.36     68.66     70.19   \n",
       "q3              69.40     71.73     71.73     81.34     85.42     82.54   \n",
       "\n",
       "             store 37  store 11  store 26  \n",
       "mean            71.16     72.48     43.66  \n",
       "median          73.57     73.77     46.81  \n",
       "coef_desloc     -0.03     -0.02     -0.07  \n",
       "min             41.16     44.61      5.54  \n",
       "max             87.64     91.44     71.08  \n",
       "range           46.48     46.83     65.54  \n",
       "std             12.09     12.60     16.75  \n",
       "coef_disp        0.17      0.17      0.38  \n",
       "skew            -0.57     -0.47     -0.28  \n",
       "kurtosis        -0.73     -0.90     -1.13  \n",
       "q1              62.46     62.95     29.06  \n",
       "q2              73.57     73.77     46.81  \n",
       "q3              81.81     83.35     59.16  "
      ]
     },
     "execution_count": 164,
     "metadata": {},
     "output_type": "execute_result"
    }
   ],
   "source": [
    "cols = pd.DataFrame()\n",
    "for i in range(1, 10):\n",
    "    rand = randint(df['store'].min(), df['store'].max())\n",
    "    temp = df.loc[df['store']==rand]\n",
    "    temp_ = descp_stasts(temp, 'temperature')\n",
    "    temp_.columns = [f'store {rand}']\n",
    "    cols = pd.concat([cols, temp_], axis=1)\n",
    "cols"
   ]
  },
  {
   "cell_type": "code",
   "execution_count": 165,
   "id": "893e13a5",
   "metadata": {
    "ExecuteTime": {
     "end_time": "2023-10-21T01:25:39.942082Z",
     "start_time": "2023-10-21T01:25:39.330885Z"
    },
    "hidden": true
   },
   "outputs": [
    {
     "name": "stdout",
     "output_type": "stream",
     "text": [
      "Store 27\n"
     ]
    },
    {
     "data": {
      "image/png": "[encoded data removed]",
      "text/plain": [
       "<Figure size 640x480 with 1 Axes>"
      ]
     },
     "metadata": {},
     "output_type": "display_data"
    },
    {
     "name": "stdout",
     "output_type": "stream",
     "text": [
      "Store 30\n"
     ]
    },
    {
     "data": {
      "image/png": "[encoded data removed]",
      "text/plain": [
       "<Figure size 640x480 with 1 Axes>"
      ]
     },
     "metadata": {},
     "output_type": "display_data"
    },
    {
     "name": "stdout",
     "output_type": "stream",
     "text": [
      "Store 1\n"
     ]
    },
    {
     "data": {
      "image/png": "[encoded data removed]",
      "text/plain": [
       "<Figure size 640x480 with 1 Axes>"
      ]
     },
     "metadata": {},
     "output_type": "display_data"
    },
    {
     "name": "stdout",
     "output_type": "stream",
     "text": [
      "Store 36\n"
     ]
    },
    {
     "data": {
      "image/png": "[encoded data removed]",
      "text/plain": [
       "<Figure size 640x480 with 1 Axes>"
      ]
     },
     "metadata": {},
     "output_type": "display_data"
    }
   ],
   "source": [
    "plot_stats_stores(df, 'temperature')"
   ]
  },
  {
   "cell_type": "code",
   "execution_count": 166,
   "id": "36d75356",
   "metadata": {
    "ExecuteTime": {
     "end_time": "2023-10-21T01:26:00.779287Z",
     "start_time": "2023-10-21T01:26:00.231849Z"
    },
    "hidden": true
   },
   "outputs": [
    {
     "name": "stdout",
     "output_type": "stream",
     "text": [
      "Store 12\n"
     ]
    },
    {
     "data": {
      "image/png": "[encoded data removed]",
      "text/plain": [
       "<Figure size 640x480 with 1 Axes>"
      ]
     },
     "metadata": {},
     "output_type": "display_data"
    },
    {
     "name": "stdout",
     "output_type": "stream",
     "text": [
      "Store 4\n"
     ]
    },
    {
     "data": {
      "image/png": "[encoded data removed]",
      "text/plain": [
       "<Figure size 640x480 with 1 Axes>"
      ]
     },
     "metadata": {},
     "output_type": "display_data"
    },
    {
     "name": "stdout",
     "output_type": "stream",
     "text": [
      "Store 23\n"
     ]
    },
    {
     "data": {
      "image/png": "[encoded data removed]",
      "text/plain": [
       "<Figure size 640x480 with 1 Axes>"
      ]
     },
     "metadata": {},
     "output_type": "display_data"
    },
    {
     "name": "stdout",
     "output_type": "stream",
     "text": [
      "Store 15\n"
     ]
    },
    {
     "data": {
      "image/png": "[encoded data removed]",
      "text/plain": [
       "<Figure size 640x480 with 1 Axes>"
      ]
     },
     "metadata": {},
     "output_type": "display_data"
    }
   ],
   "source": [
    "plot_stats_stores_(df, 'temperature', -2, 102)"
   ]
  },
  {
   "cell_type": "markdown",
   "id": "42987c70",
   "metadata": {
    "heading_collapsed": true
   },
   "source": [
    "# 2.0 Feature Engineering"
   ]
  },
  {
   "cell_type": "code",
   "execution_count": 23,
   "id": "a4f1e0c1",
   "metadata": {
    "ExecuteTime": {
     "end_time": "2023-09-17T19:17:25.565800Z",
     "start_time": "2023-09-17T19:17:25.552685Z"
    },
    "hidden": true
   },
   "outputs": [
    {
     "data": {
      "text/html": [
       "<div>\n",
       "<style scoped>\n",
       "    .dataframe tbody tr th:only-of-type {\n",
       "        vertical-align: middle;\n",
       "    }\n",
       "\n",
       "    .dataframe tbody tr th {\n",
       "        vertical-align: top;\n",
       "    }\n",
       "\n",
       "    .dataframe thead th {\n",
       "        text-align: right;\n",
       "    }\n",
       "</style>\n",
       "<table border=\"1\" class=\"dataframe\">\n",
       "  <thead>\n",
       "    <tr style=\"text-align: right;\">\n",
       "      <th></th>\n",
       "      <th>store</th>\n",
       "      <th>date</th>\n",
       "      <th>weekly_sales</th>\n",
       "      <th>isholiday</th>\n",
       "      <th>temperature</th>\n",
       "      <th>fuel_price</th>\n",
       "      <th>cpi</th>\n",
       "      <th>unemployment</th>\n",
       "      <th>type</th>\n",
       "      <th>size</th>\n",
       "    </tr>\n",
       "  </thead>\n",
       "  <tbody>\n",
       "    <tr>\n",
       "      <th>0</th>\n",
       "      <td>1</td>\n",
       "      <td>2010-02-05</td>\n",
       "      <td>1643690.90</td>\n",
       "      <td>0</td>\n",
       "      <td>42.31</td>\n",
       "      <td>2.572</td>\n",
       "      <td>211.096358</td>\n",
       "      <td>8.106</td>\n",
       "      <td>0</td>\n",
       "      <td>151315</td>\n",
       "    </tr>\n",
       "    <tr>\n",
       "      <th>1</th>\n",
       "      <td>1</td>\n",
       "      <td>2010-02-12</td>\n",
       "      <td>1641957.44</td>\n",
       "      <td>1</td>\n",
       "      <td>38.51</td>\n",
       "      <td>2.548</td>\n",
       "      <td>211.242170</td>\n",
       "      <td>8.106</td>\n",
       "      <td>0</td>\n",
       "      <td>151315</td>\n",
       "    </tr>\n",
       "    <tr>\n",
       "      <th>2</th>\n",
       "      <td>1</td>\n",
       "      <td>2010-02-19</td>\n",
       "      <td>1611968.17</td>\n",
       "      <td>0</td>\n",
       "      <td>39.93</td>\n",
       "      <td>2.514</td>\n",
       "      <td>211.289143</td>\n",
       "      <td>8.106</td>\n",
       "      <td>0</td>\n",
       "      <td>151315</td>\n",
       "    </tr>\n",
       "    <tr>\n",
       "      <th>3</th>\n",
       "      <td>1</td>\n",
       "      <td>2010-02-26</td>\n",
       "      <td>1409727.59</td>\n",
       "      <td>0</td>\n",
       "      <td>46.63</td>\n",
       "      <td>2.561</td>\n",
       "      <td>211.319643</td>\n",
       "      <td>8.106</td>\n",
       "      <td>0</td>\n",
       "      <td>151315</td>\n",
       "    </tr>\n",
       "    <tr>\n",
       "      <th>4</th>\n",
       "      <td>1</td>\n",
       "      <td>2010-03-05</td>\n",
       "      <td>1554806.68</td>\n",
       "      <td>0</td>\n",
       "      <td>46.50</td>\n",
       "      <td>2.625</td>\n",
       "      <td>211.350143</td>\n",
       "      <td>8.106</td>\n",
       "      <td>0</td>\n",
       "      <td>151315</td>\n",
       "    </tr>\n",
       "  </tbody>\n",
       "</table>\n",
       "</div>"
      ],
      "text/plain": [
       "   store       date  weekly_sales  isholiday  temperature  fuel_price  \\\n",
       "0      1 2010-02-05    1643690.90          0        42.31       2.572   \n",
       "1      1 2010-02-12    1641957.44          1        38.51       2.548   \n",
       "2      1 2010-02-19    1611968.17          0        39.93       2.514   \n",
       "3      1 2010-02-26    1409727.59          0        46.63       2.561   \n",
       "4      1 2010-03-05    1554806.68          0        46.50       2.625   \n",
       "\n",
       "          cpi  unemployment  type    size  \n",
       "0  211.096358         8.106     0  151315  \n",
       "1  211.242170         8.106     0  151315  \n",
       "2  211.289143         8.106     0  151315  \n",
       "3  211.319643         8.106     0  151315  \n",
       "4  211.350143         8.106     0  151315  "
      ]
     },
     "execution_count": 23,
     "metadata": {},
     "output_type": "execute_result"
    }
   ],
   "source": [
    "df_raw.head()"
   ]
  },
  {
   "cell_type": "code",
   "execution_count": null,
   "id": "2f444d8b",
   "metadata": {
    "hidden": true
   },
   "outputs": [],
   "source": []
  },
  {
   "cell_type": "markdown",
   "id": "fd912af9",
   "metadata": {
    "heading_collapsed": true
   },
   "source": [
    "# 3.0 Data Preparation"
   ]
  },
  {
   "cell_type": "markdown",
   "id": "636fdd09",
   "metadata": {
    "heading_collapsed": true,
    "hidden": true
   },
   "source": [
    "## Target"
   ]
  },
  {
   "cell_type": "code",
   "execution_count": 24,
   "id": "363eb428",
   "metadata": {
    "ExecuteTime": {
     "end_time": "2023-09-17T19:17:25.575420Z",
     "start_time": "2023-09-17T19:17:25.568626Z"
    },
    "hidden": true
   },
   "outputs": [],
   "source": [
    "pp_weekly_sales = pp.MinMaxScaler()\n",
    "pp_weekly_sales = pp_weekly_sales.fit(df[['weekly_sales']].values)\n",
    "df['weekly_sales'] = pp_weekly_sales.transform(df[['weekly_sales']].values)"
   ]
  },
  {
   "cell_type": "markdown",
   "id": "87d33ae2",
   "metadata": {
    "heading_collapsed": true,
    "hidden": true
   },
   "source": [
    "## Features"
   ]
  },
  {
   "cell_type": "markdown",
   "id": "16fcc763",
   "metadata": {
    "heading_collapsed": true,
    "hidden": true
   },
   "source": [
    "### Categorical Attributes"
   ]
  },
  {
   "cell_type": "code",
   "execution_count": 25,
   "id": "ece8db57",
   "metadata": {
    "ExecuteTime": {
     "end_time": "2023-09-17T19:17:25.585035Z",
     "start_time": "2023-09-17T19:17:25.577592Z"
    },
    "hidden": true
   },
   "outputs": [],
   "source": [
    "# 'isholiday',\n",
    "map_isholiday = df.groupby('isholiday').agg({'weekly_sales':'mean'})['weekly_sales'] # target encoding\n",
    "df['isholiday'] = df['isholiday'].map(map_isholiday)\n",
    "\n",
    "# 'type',\n",
    "map_type = df.groupby('type').agg({'weekly_sales':'mean'})['weekly_sales'] # target encoding\n",
    "df['type'] = df['type'].map(map_type)"
   ]
  },
  {
   "cell_type": "markdown",
   "id": "2e33a2f9",
   "metadata": {
    "heading_collapsed": true,
    "hidden": true
   },
   "source": [
    "### Numerical Attributes"
   ]
  },
  {
   "cell_type": "code",
   "execution_count": 26,
   "id": "aac6f6f0",
   "metadata": {
    "ExecuteTime": {
     "end_time": "2023-09-17T19:17:25.606254Z",
     "start_time": "2023-09-17T19:17:25.587104Z"
    },
    "hidden": true,
    "scrolled": true
   },
   "outputs": [],
   "source": [
    "# 'temperature',\n",
    "pp_temperature = pp.MinMaxScaler()\n",
    "pp_temperature = pp_temperature.fit(df[['temperature']].values)\n",
    "df['temperature'] = pp_temperature.transform(df[['temperature']].values)\n",
    "\n",
    "# 'fuel_price',\n",
    "pp_fuel_price = pp.MinMaxScaler()\n",
    "pp_fuel_price = pp_fuel_price.fit(df[['fuel_price']].values)\n",
    "df['fuel_price'] = pp_fuel_price.transform(df[['fuel_price']].values)\n",
    "\n",
    "# 'cpi',\n",
    "pp_cpi = pp.MinMaxScaler()\n",
    "pp_cpi = pp_cpi.fit(df[['cpi']].values)\n",
    "df['cpi'] = pp_cpi.transform(df[['cpi']].values)\n",
    "\n",
    "# 'unemployment',\n",
    "pp_unemployment = pp.MinMaxScaler()\n",
    "pp_unemployment = pp_unemployment.fit(df[['unemployment']].values)\n",
    "df['unemployment'] = pp_unemployment.transform(df[['unemployment']].values)\n",
    "\n",
    "# 'size']\n",
    "pp_size = pp.MinMaxScaler()\n",
    "pp_size = pp_size.fit(df[['size']].values)\n",
    "df['size'] = pp_size.transform(df[['size']].values)"
   ]
  },
  {
   "cell_type": "markdown",
   "id": "da10ec01",
   "metadata": {
    "heading_collapsed": true,
    "hidden": true
   },
   "source": [
    "## Splits"
   ]
  },
  {
   "cell_type": "code",
   "execution_count": 27,
   "id": "8516ce2c",
   "metadata": {
    "ExecuteTime": {
     "end_time": "2023-09-17T19:17:25.614386Z",
     "start_time": "2023-09-17T19:17:25.607426Z"
    },
    "hidden": true
   },
   "outputs": [],
   "source": [
    "train = df[df['date'] < df['date'].max() - pd.Timedelta(6, 'w')]\n",
    "test = df[df['date'] >= df['date'].max() - pd.Timedelta(6, 'w')]"
   ]
  },
  {
   "cell_type": "code",
   "execution_count": 28,
   "id": "6f86a1d9",
   "metadata": {
    "ExecuteTime": {
     "end_time": "2023-09-17T19:17:25.623730Z",
     "start_time": "2023-09-17T19:17:25.618272Z"
    },
    "hidden": true
   },
   "outputs": [],
   "source": [
    "X_train = train.drop(['date', 'weekly_sales', 'store'], axis=1)\n",
    "y_train = train['weekly_sales']\n",
    "\n",
    "X_train_array = X_train.values\n",
    "y_train_array = np.array(y_train).reshape(-1, 1)"
   ]
  },
  {
   "cell_type": "code",
   "execution_count": 29,
   "id": "10a65b12",
   "metadata": {
    "ExecuteTime": {
     "end_time": "2023-09-17T19:17:25.632816Z",
     "start_time": "2023-09-17T19:17:25.626420Z"
    },
    "hidden": true
   },
   "outputs": [],
   "source": [
    "X_test = test.drop(['date', 'weekly_sales', 'store'], axis=1)\n",
    "y_test = test['weekly_sales']\n",
    "\n",
    "X_test_array = X_test.values\n",
    "y_test_array = np.array(y_test).reshape(-1, 1)"
   ]
  },
  {
   "cell_type": "markdown",
   "id": "25127fd2",
   "metadata": {
    "heading_collapsed": true
   },
   "source": [
    "# 4.0 ML Modeling"
   ]
  },
  {
   "cell_type": "markdown",
   "id": "fe5bfcef",
   "metadata": {
    "heading_collapsed": true,
    "hidden": true
   },
   "source": [
    "## Linear Regression"
   ]
  },
  {
   "cell_type": "code",
   "execution_count": 30,
   "id": "55b243f5",
   "metadata": {
    "ExecuteTime": {
     "end_time": "2023-09-17T19:17:25.649350Z",
     "start_time": "2023-09-17T19:17:25.635534Z"
    },
    "hidden": true,
    "scrolled": false
   },
   "outputs": [
    {
     "name": "stderr",
     "output_type": "stream",
     "text": [
      "/tmp/ipykernel_16251/478003382.py:5: SettingWithCopyWarning: \n",
      "A value is trying to be set on a copy of a slice from a DataFrame.\n",
      "Try using .loc[row_indexer,col_indexer] = value instead\n",
      "\n",
      "See the caveats in the documentation: https://pandas.pydata.org/pandas-docs/stable/user_guide/indexing.html#returning-a-view-versus-a-copy\n",
      "  test['predicts'] = predicts\n",
      "/tmp/ipykernel_16251/478003382.py:6: SettingWithCopyWarning: \n",
      "A value is trying to be set on a copy of a slice from a DataFrame.\n",
      "Try using .loc[row_indexer,col_indexer] = value instead\n",
      "\n",
      "See the caveats in the documentation: https://pandas.pydata.org/pandas-docs/stable/user_guide/indexing.html#returning-a-view-versus-a-copy\n",
      "  test['absolute_error'] = np.abs(test['predicts'] - test['weekly_sales'])\n",
      "/tmp/ipykernel_16251/478003382.py:8: SettingWithCopyWarning: \n",
      "A value is trying to be set on a copy of a slice from a DataFrame.\n",
      "Try using .loc[row_indexer,col_indexer] = value instead\n",
      "\n",
      "See the caveats in the documentation: https://pandas.pydata.org/pandas-docs/stable/user_guide/indexing.html#returning-a-view-versus-a-copy\n",
      "  test['proportional_absolute_error'] = test['absolute_error'] / test['weekly_sales']\n"
     ]
    },
    {
     "data": {
      "text/plain": [
       "0.3951442206249105"
      ]
     },
     "execution_count": 30,
     "metadata": {},
     "output_type": "execute_result"
    }
   ],
   "source": [
    "lr_model = LinearRegression()\n",
    "lr_model = lr_model.fit(X_train, y_train)\n",
    "predicts = lr_model.predict(X_test)\n",
    "\n",
    "test['predicts'] = predicts\n",
    "test['absolute_error'] = np.abs(test['predicts'] - test['weekly_sales'])\n",
    "mae = test['absolute_error'].mean()\n",
    "test['proportional_absolute_error'] = test['absolute_error'] / test['weekly_sales']\n",
    "mape = test['proportional_absolute_error'].mean()\n",
    "\n",
    "mape"
   ]
  },
  {
   "cell_type": "markdown",
   "id": "c3278f8e",
   "metadata": {
    "heading_collapsed": true,
    "hidden": true
   },
   "source": [
    "## Random Forest"
   ]
  },
  {
   "cell_type": "code",
   "execution_count": 31,
   "id": "6c0d460e",
   "metadata": {
    "ExecuteTime": {
     "end_time": "2023-09-17T19:17:26.734670Z",
     "start_time": "2023-09-17T19:17:25.650858Z"
    },
    "hidden": true,
    "scrolled": false
   },
   "outputs": [
    {
     "name": "stderr",
     "output_type": "stream",
     "text": [
      "/tmp/ipykernel_16251/1417689200.py:5: SettingWithCopyWarning: \n",
      "A value is trying to be set on a copy of a slice from a DataFrame.\n",
      "Try using .loc[row_indexer,col_indexer] = value instead\n",
      "\n",
      "See the caveats in the documentation: https://pandas.pydata.org/pandas-docs/stable/user_guide/indexing.html#returning-a-view-versus-a-copy\n",
      "  test['predicts'] = predicts\n",
      "/tmp/ipykernel_16251/1417689200.py:6: SettingWithCopyWarning: \n",
      "A value is trying to be set on a copy of a slice from a DataFrame.\n",
      "Try using .loc[row_indexer,col_indexer] = value instead\n",
      "\n",
      "See the caveats in the documentation: https://pandas.pydata.org/pandas-docs/stable/user_guide/indexing.html#returning-a-view-versus-a-copy\n",
      "  test['absolute_error'] = np.abs(test['predicts'] - test['weekly_sales'])\n",
      "/tmp/ipykernel_16251/1417689200.py:8: SettingWithCopyWarning: \n",
      "A value is trying to be set on a copy of a slice from a DataFrame.\n",
      "Try using .loc[row_indexer,col_indexer] = value instead\n",
      "\n",
      "See the caveats in the documentation: https://pandas.pydata.org/pandas-docs/stable/user_guide/indexing.html#returning-a-view-versus-a-copy\n",
      "  test['proportional_absolute_error'] = test['absolute_error'] / test['weekly_sales']\n"
     ]
    },
    {
     "data": {
      "text/plain": [
       "0.1515314808717979"
      ]
     },
     "execution_count": 31,
     "metadata": {},
     "output_type": "execute_result"
    }
   ],
   "source": [
    "rf_model = RandomForestRegressor(max_depth=7)\n",
    "rf_model = rf_model.fit(X_train, y_train)\n",
    "predicts = rf_model.predict(X_test)\n",
    "\n",
    "test['predicts'] = predicts\n",
    "test['absolute_error'] = np.abs(test['predicts'] - test['weekly_sales'])\n",
    "mae = test['absolute_error'].mean()\n",
    "test['proportional_absolute_error'] = test['absolute_error'] / test['weekly_sales']\n",
    "mape = test['proportional_absolute_error'].mean()\n",
    "\n",
    "mape"
   ]
  },
  {
   "cell_type": "markdown",
   "id": "09608bb0",
   "metadata": {
    "heading_collapsed": true,
    "hidden": true
   },
   "source": [
    "## XGBoost Regressor"
   ]
  },
  {
   "cell_type": "code",
   "execution_count": 32,
   "id": "f96f4900",
   "metadata": {
    "ExecuteTime": {
     "end_time": "2023-09-17T19:17:27.255005Z",
     "start_time": "2023-09-17T19:17:26.737735Z"
    },
    "hidden": true,
    "scrolled": false
   },
   "outputs": [
    {
     "name": "stderr",
     "output_type": "stream",
     "text": [
      "/tmp/ipykernel_16251/56048586.py:5: SettingWithCopyWarning: \n",
      "A value is trying to be set on a copy of a slice from a DataFrame.\n",
      "Try using .loc[row_indexer,col_indexer] = value instead\n",
      "\n",
      "See the caveats in the documentation: https://pandas.pydata.org/pandas-docs/stable/user_guide/indexing.html#returning-a-view-versus-a-copy\n",
      "  test['predicts'] = predicts\n",
      "/tmp/ipykernel_16251/56048586.py:6: SettingWithCopyWarning: \n",
      "A value is trying to be set on a copy of a slice from a DataFrame.\n",
      "Try using .loc[row_indexer,col_indexer] = value instead\n",
      "\n",
      "See the caveats in the documentation: https://pandas.pydata.org/pandas-docs/stable/user_guide/indexing.html#returning-a-view-versus-a-copy\n",
      "  test['absolute_error'] = np.abs(test['predicts'] - test['weekly_sales'])\n",
      "/tmp/ipykernel_16251/56048586.py:8: SettingWithCopyWarning: \n",
      "A value is trying to be set on a copy of a slice from a DataFrame.\n",
      "Try using .loc[row_indexer,col_indexer] = value instead\n",
      "\n",
      "See the caveats in the documentation: https://pandas.pydata.org/pandas-docs/stable/user_guide/indexing.html#returning-a-view-versus-a-copy\n",
      "  test['proportional_absolute_error'] = test['absolute_error'] / test['weekly_sales']\n"
     ]
    },
    {
     "data": {
      "text/plain": [
       "0.13032780535369384"
      ]
     },
     "execution_count": 32,
     "metadata": {},
     "output_type": "execute_result"
    }
   ],
   "source": [
    "xgb_model = XGBRegressor(max_depth=7)\n",
    "xgb_model = xgb_model.fit(X_train, y_train)\n",
    "predicts = xgb_model.predict(X_test)\n",
    "\n",
    "test['predicts'] = predicts\n",
    "test['absolute_error'] = np.abs(test['predicts'] - test['weekly_sales'])\n",
    "mae = test['absolute_error'].mean()\n",
    "test['proportional_absolute_error'] = test['absolute_error'] / test['weekly_sales']\n",
    "mape = test['proportional_absolute_error'].mean()\n",
    "\n",
    "mape"
   ]
  },
  {
   "cell_type": "markdown",
   "id": "593d78b5",
   "metadata": {
    "heading_collapsed": true,
    "hidden": true
   },
   "source": [
    "## Best model"
   ]
  },
  {
   "cell_type": "code",
   "execution_count": 33,
   "id": "d69c1757",
   "metadata": {
    "ExecuteTime": {
     "end_time": "2023-09-17T19:17:27.264512Z",
     "start_time": "2023-09-17T19:17:27.258978Z"
    },
    "hidden": true
   },
   "outputs": [],
   "source": [
    "model = xgb_model"
   ]
  },
  {
   "cell_type": "markdown",
   "id": "04d83845",
   "metadata": {
    "heading_collapsed": true
   },
   "source": [
    "# 5.0 Exports"
   ]
  },
  {
   "cell_type": "code",
   "execution_count": 34,
   "id": "556d8185",
   "metadata": {
    "ExecuteTime": {
     "end_time": "2023-09-17T19:17:27.298455Z",
     "start_time": "2023-09-17T19:17:27.269005Z"
    },
    "hidden": true
   },
   "outputs": [],
   "source": [
    "pkl.dump(model, open('../src/models/model.pkl', 'wb'))"
   ]
  },
  {
   "cell_type": "code",
   "execution_count": 49,
   "id": "5fa87822",
   "metadata": {
    "ExecuteTime": {
     "end_time": "2023-09-17T19:22:42.874935Z",
     "start_time": "2023-09-17T19:22:42.868404Z"
    },
    "hidden": true
   },
   "outputs": [],
   "source": [
    "# pp_weekly_sales\n",
    "pkl.dump(pp_weekly_sales, open('../src/features/pp_weekly_sales.pkl', 'wb'))\n",
    "# map_isholiday\n",
    "pkl.dump(map_isholiday, open('../src/features/map_isholiday.pkl', 'wb'))\n",
    "# map_type\n",
    "pkl.dump(map_type, open('../src/features/map_type.pkl', 'wb'))\n",
    "# pp_temperature\n",
    "pkl.dump(pp_temperature, open('../src/features/pp_temperature.pkl', 'wb'))\n",
    "# pp_cpi\n",
    "pkl.dump(pp_cpi, open('../src/features/pp_cpi.pkl', 'wb'))\n",
    "# pp_fuel_price\n",
    "pkl.dump(pp_fuel_price, open('../src/features/pp_fuel_price.pkl', 'wb'))\n",
    "# pp_unemployment\n",
    "pkl.dump(pp_unemployment, open('../src/features/pp_unemployment.pkl', 'wb'))\n",
    "# pp_size\n",
    "pkl.dump(pp_size, open('../src/features/pp_size.pkl', 'wb'))"
   ]
  },
  {
   "cell_type": "markdown",
   "id": "a8460cdc",
   "metadata": {
    "heading_collapsed": true
   },
   "source": [
    "# 6.0 API"
   ]
  },
  {
   "cell_type": "markdown",
   "id": "f9f41876",
   "metadata": {
    "heading_collapsed": true,
    "hidden": true
   },
   "source": [
    "## API Request"
   ]
  },
  {
   "cell_type": "code",
   "execution_count": 50,
   "id": "8ec0e587",
   "metadata": {
    "ExecuteTime": {
     "end_time": "2023-09-17T19:22:46.015568Z",
     "start_time": "2023-09-17T19:22:45.465797Z"
    },
    "hidden": true,
    "scrolled": true
   },
   "outputs": [
    {
     "name": "stdout",
     "output_type": "stream",
     "text": [
      "200\n"
     ]
    },
    {
     "data": {
      "text/html": [
       "<div>\n",
       "<style scoped>\n",
       "    .dataframe tbody tr th:only-of-type {\n",
       "        vertical-align: middle;\n",
       "    }\n",
       "\n",
       "    .dataframe tbody tr th {\n",
       "        vertical-align: top;\n",
       "    }\n",
       "\n",
       "    .dataframe thead th {\n",
       "        text-align: right;\n",
       "    }\n",
       "</style>\n",
       "<table border=\"1\" class=\"dataframe\">\n",
       "  <thead>\n",
       "    <tr style=\"text-align: right;\">\n",
       "      <th></th>\n",
       "      <th>store</th>\n",
       "      <th>date</th>\n",
       "      <th>weekly_sales</th>\n",
       "      <th>isholiday</th>\n",
       "      <th>temperature</th>\n",
       "      <th>fuel_price</th>\n",
       "      <th>cpi</th>\n",
       "      <th>unemployment</th>\n",
       "      <th>type</th>\n",
       "      <th>size</th>\n",
       "      <th>predicts</th>\n",
       "    </tr>\n",
       "  </thead>\n",
       "  <tbody>\n",
       "    <tr>\n",
       "      <th>0</th>\n",
       "      <td>1</td>\n",
       "      <td>2010-02-05</td>\n",
       "      <td>1643690.90</td>\n",
       "      <td>0</td>\n",
       "      <td>42.31</td>\n",
       "      <td>2.572</td>\n",
       "      <td>211.096358</td>\n",
       "      <td>8.106</td>\n",
       "      <td>0</td>\n",
       "      <td>151315</td>\n",
       "      <td>906266.1875</td>\n",
       "    </tr>\n",
       "    <tr>\n",
       "      <th>1</th>\n",
       "      <td>1</td>\n",
       "      <td>2010-02-12</td>\n",
       "      <td>1641957.44</td>\n",
       "      <td>1</td>\n",
       "      <td>38.51</td>\n",
       "      <td>2.548</td>\n",
       "      <td>211.242170</td>\n",
       "      <td>8.106</td>\n",
       "      <td>0</td>\n",
       "      <td>151315</td>\n",
       "      <td>883700.9375</td>\n",
       "    </tr>\n",
       "    <tr>\n",
       "      <th>2</th>\n",
       "      <td>1</td>\n",
       "      <td>2010-02-19</td>\n",
       "      <td>1611968.17</td>\n",
       "      <td>0</td>\n",
       "      <td>39.93</td>\n",
       "      <td>2.514</td>\n",
       "      <td>211.289143</td>\n",
       "      <td>8.106</td>\n",
       "      <td>0</td>\n",
       "      <td>151315</td>\n",
       "      <td>815290.5000</td>\n",
       "    </tr>\n",
       "    <tr>\n",
       "      <th>3</th>\n",
       "      <td>1</td>\n",
       "      <td>2010-02-26</td>\n",
       "      <td>1409727.59</td>\n",
       "      <td>0</td>\n",
       "      <td>46.63</td>\n",
       "      <td>2.561</td>\n",
       "      <td>211.319643</td>\n",
       "      <td>8.106</td>\n",
       "      <td>0</td>\n",
       "      <td>151315</td>\n",
       "      <td>703740.3125</td>\n",
       "    </tr>\n",
       "    <tr>\n",
       "      <th>4</th>\n",
       "      <td>1</td>\n",
       "      <td>2010-03-05</td>\n",
       "      <td>1554806.68</td>\n",
       "      <td>0</td>\n",
       "      <td>46.50</td>\n",
       "      <td>2.625</td>\n",
       "      <td>211.350143</td>\n",
       "      <td>8.106</td>\n",
       "      <td>0</td>\n",
       "      <td>151315</td>\n",
       "      <td>762490.0625</td>\n",
       "    </tr>\n",
       "  </tbody>\n",
       "</table>\n",
       "</div>"
      ],
      "text/plain": [
       "   store       date  weekly_sales  isholiday  temperature  fuel_price  \\\n",
       "0      1 2010-02-05    1643690.90          0        42.31       2.572   \n",
       "1      1 2010-02-12    1641957.44          1        38.51       2.548   \n",
       "2      1 2010-02-19    1611968.17          0        39.93       2.514   \n",
       "3      1 2010-02-26    1409727.59          0        46.63       2.561   \n",
       "4      1 2010-03-05    1554806.68          0        46.50       2.625   \n",
       "\n",
       "          cpi  unemployment  type    size     predicts  \n",
       "0  211.096358         8.106     0  151315  906266.1875  \n",
       "1  211.242170         8.106     0  151315  883700.9375  \n",
       "2  211.289143         8.106     0  151315  815290.5000  \n",
       "3  211.319643         8.106     0  151315  703740.3125  \n",
       "4  211.350143         8.106     0  151315  762490.0625  "
      ]
     },
     "execution_count": 50,
     "metadata": {},
     "output_type": "execute_result"
    }
   ],
   "source": [
    "# data = X_train.sample(500).to_json(orient='records')\n",
    "data = df_raw.to_json(orient='records', date_format='iso')\n",
    "url = 'http://192.168.0.20:5000/predict'\n",
    "header = {'Content-type':'application/json'}\n",
    "\n",
    "df_request = requests.post(data=data, headers=header, url=url)\n",
    "print(df_request.status_code)\n",
    "\n",
    "df_request = pd.DataFrame(df_request.json(), columns=df_request.json()[0].keys())\n",
    "df_request['date'] = pd.to_datetime(df_request['date'])\n",
    "df_request.head()"
   ]
  },
  {
   "cell_type": "code",
   "execution_count": 58,
   "id": "443e1bd8",
   "metadata": {
    "ExecuteTime": {
     "end_time": "2023-09-17T19:24:39.309701Z",
     "start_time": "2023-09-17T19:24:39.302025Z"
    },
    "hidden": true
   },
   "outputs": [
    {
     "data": {
      "text/plain": [
       "0.10128479129101794"
      ]
     },
     "execution_count": 58,
     "metadata": {},
     "output_type": "execute_result"
    }
   ],
   "source": [
    "df_request['absolute_error'] =  np.abs(df_request['weekly_sales'] - df_request['predicts'])\n",
    "mae = df_request['absolute_error'].mean()\n",
    "df['percentage_absolute_error'] = df_request['absolute_error'] / df_request['weekly_sales']\n",
    "mape = df['percentage_absolute_error'].mean()\n",
    "mape"
   ]
  }
 ],
 "metadata": {
  "kernelspec": {
   "display_name": "Python 3 (ipykernel)",
   "language": "python",
   "name": "python3"
  },
  "language_info": {
   "codemirror_mode": {
    "name": "ipython",
    "version": 3
   },
   "file_extension": ".py",
   "mimetype": "text/x-python",
   "name": "python",
   "nbconvert_exporter": "python",
   "pygments_lexer": "ipython3",
   "version": "3.10.12"
  }
 },
 "nbformat": 4,
 "nbformat_minor": 5
}
