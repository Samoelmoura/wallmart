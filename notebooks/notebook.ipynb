{
 "cells": [
  {
   "cell_type": "markdown",
   "id": "ad613fb7",
   "metadata": {
    "heading_collapsed": true
   },
   "source": [
    "# 0.0 Imports"
   ]
  },
  {
   "cell_type": "code",
   "execution_count": 1,
   "id": "ce3f3615",
   "metadata": {
    "ExecuteTime": {
     "end_time": "2023-09-17T19:17:24.760596Z",
     "start_time": "2023-09-17T19:17:23.434369Z"
    },
    "hidden": true
   },
   "outputs": [],
   "source": [
    "import pandas as pd\n",
    "import seaborn as sns\n",
    "import numpy as np\n",
    "import matplotlib.pyplot as plt\n",
    "import sklearn.preprocessing as pp\n",
    "from sklearn.linear_model import LinearRegression\n",
    "from sklearn.ensemble import RandomForestRegressor\n",
    "from xgboost import XGBRegressor\n",
    "import pickle as pkl\n",
    "import requests"
   ]
  },
  {
   "cell_type": "markdown",
   "id": "7636dedd",
   "metadata": {
    "heading_collapsed": true,
    "hidden": true
   },
   "source": [
    "## 0.1 Datasets"
   ]
  },
  {
   "cell_type": "code",
   "execution_count": 2,
   "id": "cd936846",
   "metadata": {
    "ExecuteTime": {
     "end_time": "2023-09-17T19:17:24.917745Z",
     "start_time": "2023-09-17T19:17:24.762763Z"
    },
    "hidden": true
   },
   "outputs": [],
   "source": [
    "features = pd.read_csv('../data/raw/features.csv')\n",
    "stores = pd.read_csv('../data/raw/stores.csv')\n",
    "train = pd.read_csv('../data/raw/train.csv')"
   ]
  },
  {
   "cell_type": "markdown",
   "id": "4812e5a5",
   "metadata": {
    "heading_collapsed": true
   },
   "source": [
    "# 1.0 Data Description"
   ]
  },
  {
   "cell_type": "markdown",
   "id": "812f6391",
   "metadata": {
    "heading_collapsed": true,
    "hidden": true
   },
   "source": [
    "## 1.1 Looking Datasets"
   ]
  },
  {
   "cell_type": "code",
   "execution_count": 3,
   "id": "f24b12db",
   "metadata": {
    "ExecuteTime": {
     "end_time": "2023-09-17T19:17:24.940464Z",
     "start_time": "2023-09-17T19:17:24.919453Z"
    },
    "hidden": true
   },
   "outputs": [
    {
     "data": {
      "text/html": [
       "<div>\n",
       "<style scoped>\n",
       "    .dataframe tbody tr th:only-of-type {\n",
       "        vertical-align: middle;\n",
       "    }\n",
       "\n",
       "    .dataframe tbody tr th {\n",
       "        vertical-align: top;\n",
       "    }\n",
       "\n",
       "    .dataframe thead th {\n",
       "        text-align: right;\n",
       "    }\n",
       "</style>\n",
       "<table border=\"1\" class=\"dataframe\">\n",
       "  <thead>\n",
       "    <tr style=\"text-align: right;\">\n",
       "      <th></th>\n",
       "      <th>Store</th>\n",
       "      <th>Date</th>\n",
       "      <th>Temperature</th>\n",
       "      <th>Fuel_Price</th>\n",
       "      <th>MarkDown1</th>\n",
       "      <th>MarkDown2</th>\n",
       "      <th>MarkDown3</th>\n",
       "      <th>MarkDown4</th>\n",
       "      <th>MarkDown5</th>\n",
       "      <th>CPI</th>\n",
       "      <th>Unemployment</th>\n",
       "      <th>IsHoliday</th>\n",
       "    </tr>\n",
       "  </thead>\n",
       "  <tbody>\n",
       "    <tr>\n",
       "      <th>0</th>\n",
       "      <td>1</td>\n",
       "      <td>2010-02-05</td>\n",
       "      <td>42.31</td>\n",
       "      <td>2.572</td>\n",
       "      <td>NaN</td>\n",
       "      <td>NaN</td>\n",
       "      <td>NaN</td>\n",
       "      <td>NaN</td>\n",
       "      <td>NaN</td>\n",
       "      <td>211.096358</td>\n",
       "      <td>8.106</td>\n",
       "      <td>False</td>\n",
       "    </tr>\n",
       "    <tr>\n",
       "      <th>1</th>\n",
       "      <td>1</td>\n",
       "      <td>2010-02-12</td>\n",
       "      <td>38.51</td>\n",
       "      <td>2.548</td>\n",
       "      <td>NaN</td>\n",
       "      <td>NaN</td>\n",
       "      <td>NaN</td>\n",
       "      <td>NaN</td>\n",
       "      <td>NaN</td>\n",
       "      <td>211.242170</td>\n",
       "      <td>8.106</td>\n",
       "      <td>True</td>\n",
       "    </tr>\n",
       "    <tr>\n",
       "      <th>2</th>\n",
       "      <td>1</td>\n",
       "      <td>2010-02-19</td>\n",
       "      <td>39.93</td>\n",
       "      <td>2.514</td>\n",
       "      <td>NaN</td>\n",
       "      <td>NaN</td>\n",
       "      <td>NaN</td>\n",
       "      <td>NaN</td>\n",
       "      <td>NaN</td>\n",
       "      <td>211.289143</td>\n",
       "      <td>8.106</td>\n",
       "      <td>False</td>\n",
       "    </tr>\n",
       "    <tr>\n",
       "      <th>3</th>\n",
       "      <td>1</td>\n",
       "      <td>2010-02-26</td>\n",
       "      <td>46.63</td>\n",
       "      <td>2.561</td>\n",
       "      <td>NaN</td>\n",
       "      <td>NaN</td>\n",
       "      <td>NaN</td>\n",
       "      <td>NaN</td>\n",
       "      <td>NaN</td>\n",
       "      <td>211.319643</td>\n",
       "      <td>8.106</td>\n",
       "      <td>False</td>\n",
       "    </tr>\n",
       "    <tr>\n",
       "      <th>4</th>\n",
       "      <td>1</td>\n",
       "      <td>2010-03-05</td>\n",
       "      <td>46.50</td>\n",
       "      <td>2.625</td>\n",
       "      <td>NaN</td>\n",
       "      <td>NaN</td>\n",
       "      <td>NaN</td>\n",
       "      <td>NaN</td>\n",
       "      <td>NaN</td>\n",
       "      <td>211.350143</td>\n",
       "      <td>8.106</td>\n",
       "      <td>False</td>\n",
       "    </tr>\n",
       "  </tbody>\n",
       "</table>\n",
       "</div>"
      ],
      "text/plain": [
       "   Store        Date  Temperature  Fuel_Price  MarkDown1  MarkDown2  \\\n",
       "0      1  2010-02-05        42.31       2.572        NaN        NaN   \n",
       "1      1  2010-02-12        38.51       2.548        NaN        NaN   \n",
       "2      1  2010-02-19        39.93       2.514        NaN        NaN   \n",
       "3      1  2010-02-26        46.63       2.561        NaN        NaN   \n",
       "4      1  2010-03-05        46.50       2.625        NaN        NaN   \n",
       "\n",
       "   MarkDown3  MarkDown4  MarkDown5         CPI  Unemployment  IsHoliday  \n",
       "0        NaN        NaN        NaN  211.096358         8.106      False  \n",
       "1        NaN        NaN        NaN  211.242170         8.106       True  \n",
       "2        NaN        NaN        NaN  211.289143         8.106      False  \n",
       "3        NaN        NaN        NaN  211.319643         8.106      False  \n",
       "4        NaN        NaN        NaN  211.350143         8.106      False  "
      ]
     },
     "execution_count": 3,
     "metadata": {},
     "output_type": "execute_result"
    }
   ],
   "source": [
    "features.head()"
   ]
  },
  {
   "cell_type": "code",
   "execution_count": 4,
   "id": "1c82d152",
   "metadata": {
    "ExecuteTime": {
     "end_time": "2023-09-17T19:17:24.948985Z",
     "start_time": "2023-09-17T19:17:24.942685Z"
    },
    "hidden": true
   },
   "outputs": [
    {
     "data": {
      "text/html": [
       "<div>\n",
       "<style scoped>\n",
       "    .dataframe tbody tr th:only-of-type {\n",
       "        vertical-align: middle;\n",
       "    }\n",
       "\n",
       "    .dataframe tbody tr th {\n",
       "        vertical-align: top;\n",
       "    }\n",
       "\n",
       "    .dataframe thead th {\n",
       "        text-align: right;\n",
       "    }\n",
       "</style>\n",
       "<table border=\"1\" class=\"dataframe\">\n",
       "  <thead>\n",
       "    <tr style=\"text-align: right;\">\n",
       "      <th></th>\n",
       "      <th>Store</th>\n",
       "      <th>Type</th>\n",
       "      <th>Size</th>\n",
       "    </tr>\n",
       "  </thead>\n",
       "  <tbody>\n",
       "    <tr>\n",
       "      <th>0</th>\n",
       "      <td>1</td>\n",
       "      <td>A</td>\n",
       "      <td>151315</td>\n",
       "    </tr>\n",
       "    <tr>\n",
       "      <th>1</th>\n",
       "      <td>2</td>\n",
       "      <td>A</td>\n",
       "      <td>202307</td>\n",
       "    </tr>\n",
       "    <tr>\n",
       "      <th>2</th>\n",
       "      <td>3</td>\n",
       "      <td>B</td>\n",
       "      <td>37392</td>\n",
       "    </tr>\n",
       "    <tr>\n",
       "      <th>3</th>\n",
       "      <td>4</td>\n",
       "      <td>A</td>\n",
       "      <td>205863</td>\n",
       "    </tr>\n",
       "    <tr>\n",
       "      <th>4</th>\n",
       "      <td>5</td>\n",
       "      <td>B</td>\n",
       "      <td>34875</td>\n",
       "    </tr>\n",
       "  </tbody>\n",
       "</table>\n",
       "</div>"
      ],
      "text/plain": [
       "   Store Type    Size\n",
       "0      1    A  151315\n",
       "1      2    A  202307\n",
       "2      3    B   37392\n",
       "3      4    A  205863\n",
       "4      5    B   34875"
      ]
     },
     "execution_count": 4,
     "metadata": {},
     "output_type": "execute_result"
    }
   ],
   "source": [
    "stores.head()"
   ]
  },
  {
   "cell_type": "code",
   "execution_count": 5,
   "id": "49e0b588",
   "metadata": {
    "ExecuteTime": {
     "end_time": "2023-09-17T19:17:24.968352Z",
     "start_time": "2023-09-17T19:17:24.952910Z"
    },
    "hidden": true,
    "scrolled": true
   },
   "outputs": [
    {
     "data": {
      "text/html": [
       "<div>\n",
       "<style scoped>\n",
       "    .dataframe tbody tr th:only-of-type {\n",
       "        vertical-align: middle;\n",
       "    }\n",
       "\n",
       "    .dataframe tbody tr th {\n",
       "        vertical-align: top;\n",
       "    }\n",
       "\n",
       "    .dataframe thead th {\n",
       "        text-align: right;\n",
       "    }\n",
       "</style>\n",
       "<table border=\"1\" class=\"dataframe\">\n",
       "  <thead>\n",
       "    <tr style=\"text-align: right;\">\n",
       "      <th></th>\n",
       "      <th>Store</th>\n",
       "      <th>Dept</th>\n",
       "      <th>Date</th>\n",
       "      <th>Weekly_Sales</th>\n",
       "      <th>IsHoliday</th>\n",
       "    </tr>\n",
       "  </thead>\n",
       "  <tbody>\n",
       "    <tr>\n",
       "      <th>0</th>\n",
       "      <td>1</td>\n",
       "      <td>1</td>\n",
       "      <td>2010-02-05</td>\n",
       "      <td>24924.50</td>\n",
       "      <td>False</td>\n",
       "    </tr>\n",
       "    <tr>\n",
       "      <th>1</th>\n",
       "      <td>1</td>\n",
       "      <td>1</td>\n",
       "      <td>2010-02-12</td>\n",
       "      <td>46039.49</td>\n",
       "      <td>True</td>\n",
       "    </tr>\n",
       "    <tr>\n",
       "      <th>2</th>\n",
       "      <td>1</td>\n",
       "      <td>1</td>\n",
       "      <td>2010-02-19</td>\n",
       "      <td>41595.55</td>\n",
       "      <td>False</td>\n",
       "    </tr>\n",
       "    <tr>\n",
       "      <th>3</th>\n",
       "      <td>1</td>\n",
       "      <td>1</td>\n",
       "      <td>2010-02-26</td>\n",
       "      <td>19403.54</td>\n",
       "      <td>False</td>\n",
       "    </tr>\n",
       "    <tr>\n",
       "      <th>4</th>\n",
       "      <td>1</td>\n",
       "      <td>1</td>\n",
       "      <td>2010-03-05</td>\n",
       "      <td>21827.90</td>\n",
       "      <td>False</td>\n",
       "    </tr>\n",
       "  </tbody>\n",
       "</table>\n",
       "</div>"
      ],
      "text/plain": [
       "   Store  Dept        Date  Weekly_Sales  IsHoliday\n",
       "0      1     1  2010-02-05      24924.50      False\n",
       "1      1     1  2010-02-12      46039.49       True\n",
       "2      1     1  2010-02-19      41595.55      False\n",
       "3      1     1  2010-02-26      19403.54      False\n",
       "4      1     1  2010-03-05      21827.90      False"
      ]
     },
     "execution_count": 5,
     "metadata": {},
     "output_type": "execute_result"
    }
   ],
   "source": [
    "train.head()"
   ]
  },
  {
   "cell_type": "markdown",
   "id": "efa08006",
   "metadata": {
    "heading_collapsed": true,
    "hidden": true
   },
   "source": [
    "## 1.2 Data Dimension"
   ]
  },
  {
   "cell_type": "code",
   "execution_count": 6,
   "id": "8cd4abda",
   "metadata": {
    "ExecuteTime": {
     "end_time": "2023-09-17T19:17:24.974361Z",
     "start_time": "2023-09-17T19:17:24.971231Z"
    },
    "hidden": true
   },
   "outputs": [
    {
     "data": {
      "text/plain": [
       "(421570, 5)"
      ]
     },
     "execution_count": 6,
     "metadata": {},
     "output_type": "execute_result"
    }
   ],
   "source": [
    "train.shape"
   ]
  },
  {
   "cell_type": "code",
   "execution_count": 7,
   "id": "56af5b41",
   "metadata": {
    "ExecuteTime": {
     "end_time": "2023-09-17T19:17:24.981130Z",
     "start_time": "2023-09-17T19:17:24.977023Z"
    },
    "hidden": true
   },
   "outputs": [
    {
     "data": {
      "text/plain": [
       "(45, 3)"
      ]
     },
     "execution_count": 7,
     "metadata": {},
     "output_type": "execute_result"
    }
   ],
   "source": [
    "stores.shape"
   ]
  },
  {
   "cell_type": "code",
   "execution_count": 8,
   "id": "77c72dc7",
   "metadata": {
    "ExecuteTime": {
     "end_time": "2023-09-17T19:17:24.988992Z",
     "start_time": "2023-09-17T19:17:24.982632Z"
    },
    "hidden": true
   },
   "outputs": [
    {
     "data": {
      "text/plain": [
       "(8190, 12)"
      ]
     },
     "execution_count": 8,
     "metadata": {},
     "output_type": "execute_result"
    }
   ],
   "source": [
    "features.shape"
   ]
  },
  {
   "cell_type": "markdown",
   "id": "73b6baba",
   "metadata": {
    "heading_collapsed": true,
    "hidden": true
   },
   "source": [
    "## 1.3 Change Column Names"
   ]
  },
  {
   "cell_type": "code",
   "execution_count": 9,
   "id": "c88b73c5",
   "metadata": {
    "ExecuteTime": {
     "end_time": "2023-09-17T19:17:24.994850Z",
     "start_time": "2023-09-17T19:17:24.991424Z"
    },
    "hidden": true
   },
   "outputs": [],
   "source": [
    "temp = []\n",
    "for i in features.columns:\n",
    "    temp.append(i.lower())\n",
    "features.columns = temp"
   ]
  },
  {
   "cell_type": "code",
   "execution_count": 10,
   "id": "13df97a2",
   "metadata": {
    "ExecuteTime": {
     "end_time": "2023-09-17T19:17:25.006632Z",
     "start_time": "2023-09-17T19:17:25.002917Z"
    },
    "hidden": true
   },
   "outputs": [],
   "source": [
    "temp = []\n",
    "for i in stores.columns:\n",
    "    temp.append(i.lower())\n",
    "stores.columns = temp"
   ]
  },
  {
   "cell_type": "code",
   "execution_count": 11,
   "id": "15ace80f",
   "metadata": {
    "ExecuteTime": {
     "end_time": "2023-09-17T19:17:25.017020Z",
     "start_time": "2023-09-17T19:17:25.011575Z"
    },
    "hidden": true
   },
   "outputs": [],
   "source": [
    "temp = []\n",
    "for i in train.columns:\n",
    "    temp.append(i.lower())\n",
    "train.columns = temp"
   ]
  },
  {
   "cell_type": "markdown",
   "id": "9f1f4814",
   "metadata": {
    "heading_collapsed": true,
    "hidden": true
   },
   "source": [
    "## 1.4 Merging Data"
   ]
  },
  {
   "cell_type": "code",
   "execution_count": 12,
   "id": "df22afd4",
   "metadata": {
    "ExecuteTime": {
     "end_time": "2023-09-17T19:17:25.183644Z",
     "start_time": "2023-09-17T19:17:25.020491Z"
    },
    "hidden": true
   },
   "outputs": [],
   "source": [
    "df = train.merge(features.drop('isholiday', axis=1), on=['store', 'date'], how='left')\n",
    "\n",
    "df = df.merge(stores, on='store', how='left')"
   ]
  },
  {
   "cell_type": "code",
   "execution_count": 13,
   "id": "21e339fe",
   "metadata": {
    "ExecuteTime": {
     "end_time": "2023-09-17T19:17:25.200550Z",
     "start_time": "2023-09-17T19:17:25.185014Z"
    },
    "hidden": true
   },
   "outputs": [
    {
     "data": {
      "text/html": [
       "<div>\n",
       "<style scoped>\n",
       "    .dataframe tbody tr th:only-of-type {\n",
       "        vertical-align: middle;\n",
       "    }\n",
       "\n",
       "    .dataframe tbody tr th {\n",
       "        vertical-align: top;\n",
       "    }\n",
       "\n",
       "    .dataframe thead th {\n",
       "        text-align: right;\n",
       "    }\n",
       "</style>\n",
       "<table border=\"1\" class=\"dataframe\">\n",
       "  <thead>\n",
       "    <tr style=\"text-align: right;\">\n",
       "      <th></th>\n",
       "      <th>store</th>\n",
       "      <th>dept</th>\n",
       "      <th>date</th>\n",
       "      <th>weekly_sales</th>\n",
       "      <th>isholiday</th>\n",
       "      <th>temperature</th>\n",
       "      <th>fuel_price</th>\n",
       "      <th>markdown1</th>\n",
       "      <th>markdown2</th>\n",
       "      <th>markdown3</th>\n",
       "      <th>markdown4</th>\n",
       "      <th>markdown5</th>\n",
       "      <th>cpi</th>\n",
       "      <th>unemployment</th>\n",
       "      <th>type</th>\n",
       "      <th>size</th>\n",
       "    </tr>\n",
       "  </thead>\n",
       "  <tbody>\n",
       "    <tr>\n",
       "      <th>0</th>\n",
       "      <td>1</td>\n",
       "      <td>1</td>\n",
       "      <td>2010-02-05</td>\n",
       "      <td>24924.50</td>\n",
       "      <td>False</td>\n",
       "      <td>42.31</td>\n",
       "      <td>2.572</td>\n",
       "      <td>NaN</td>\n",
       "      <td>NaN</td>\n",
       "      <td>NaN</td>\n",
       "      <td>NaN</td>\n",
       "      <td>NaN</td>\n",
       "      <td>211.096358</td>\n",
       "      <td>8.106</td>\n",
       "      <td>A</td>\n",
       "      <td>151315</td>\n",
       "    </tr>\n",
       "    <tr>\n",
       "      <th>1</th>\n",
       "      <td>1</td>\n",
       "      <td>1</td>\n",
       "      <td>2010-02-12</td>\n",
       "      <td>46039.49</td>\n",
       "      <td>True</td>\n",
       "      <td>38.51</td>\n",
       "      <td>2.548</td>\n",
       "      <td>NaN</td>\n",
       "      <td>NaN</td>\n",
       "      <td>NaN</td>\n",
       "      <td>NaN</td>\n",
       "      <td>NaN</td>\n",
       "      <td>211.242170</td>\n",
       "      <td>8.106</td>\n",
       "      <td>A</td>\n",
       "      <td>151315</td>\n",
       "    </tr>\n",
       "    <tr>\n",
       "      <th>2</th>\n",
       "      <td>1</td>\n",
       "      <td>1</td>\n",
       "      <td>2010-02-19</td>\n",
       "      <td>41595.55</td>\n",
       "      <td>False</td>\n",
       "      <td>39.93</td>\n",
       "      <td>2.514</td>\n",
       "      <td>NaN</td>\n",
       "      <td>NaN</td>\n",
       "      <td>NaN</td>\n",
       "      <td>NaN</td>\n",
       "      <td>NaN</td>\n",
       "      <td>211.289143</td>\n",
       "      <td>8.106</td>\n",
       "      <td>A</td>\n",
       "      <td>151315</td>\n",
       "    </tr>\n",
       "    <tr>\n",
       "      <th>3</th>\n",
       "      <td>1</td>\n",
       "      <td>1</td>\n",
       "      <td>2010-02-26</td>\n",
       "      <td>19403.54</td>\n",
       "      <td>False</td>\n",
       "      <td>46.63</td>\n",
       "      <td>2.561</td>\n",
       "      <td>NaN</td>\n",
       "      <td>NaN</td>\n",
       "      <td>NaN</td>\n",
       "      <td>NaN</td>\n",
       "      <td>NaN</td>\n",
       "      <td>211.319643</td>\n",
       "      <td>8.106</td>\n",
       "      <td>A</td>\n",
       "      <td>151315</td>\n",
       "    </tr>\n",
       "    <tr>\n",
       "      <th>4</th>\n",
       "      <td>1</td>\n",
       "      <td>1</td>\n",
       "      <td>2010-03-05</td>\n",
       "      <td>21827.90</td>\n",
       "      <td>False</td>\n",
       "      <td>46.50</td>\n",
       "      <td>2.625</td>\n",
       "      <td>NaN</td>\n",
       "      <td>NaN</td>\n",
       "      <td>NaN</td>\n",
       "      <td>NaN</td>\n",
       "      <td>NaN</td>\n",
       "      <td>211.350143</td>\n",
       "      <td>8.106</td>\n",
       "      <td>A</td>\n",
       "      <td>151315</td>\n",
       "    </tr>\n",
       "  </tbody>\n",
       "</table>\n",
       "</div>"
      ],
      "text/plain": [
       "   store  dept        date  weekly_sales  isholiday  temperature  fuel_price  \\\n",
       "0      1     1  2010-02-05      24924.50      False        42.31       2.572   \n",
       "1      1     1  2010-02-12      46039.49       True        38.51       2.548   \n",
       "2      1     1  2010-02-19      41595.55      False        39.93       2.514   \n",
       "3      1     1  2010-02-26      19403.54      False        46.63       2.561   \n",
       "4      1     1  2010-03-05      21827.90      False        46.50       2.625   \n",
       "\n",
       "   markdown1  markdown2  markdown3  markdown4  markdown5         cpi  \\\n",
       "0        NaN        NaN        NaN        NaN        NaN  211.096358   \n",
       "1        NaN        NaN        NaN        NaN        NaN  211.242170   \n",
       "2        NaN        NaN        NaN        NaN        NaN  211.289143   \n",
       "3        NaN        NaN        NaN        NaN        NaN  211.319643   \n",
       "4        NaN        NaN        NaN        NaN        NaN  211.350143   \n",
       "\n",
       "   unemployment type    size  \n",
       "0         8.106    A  151315  \n",
       "1         8.106    A  151315  \n",
       "2         8.106    A  151315  \n",
       "3         8.106    A  151315  \n",
       "4         8.106    A  151315  "
      ]
     },
     "execution_count": 13,
     "metadata": {},
     "output_type": "execute_result"
    }
   ],
   "source": [
    "df.head()"
   ]
  },
  {
   "cell_type": "markdown",
   "id": "91a8ed55",
   "metadata": {
    "heading_collapsed": true,
    "hidden": true
   },
   "source": [
    "## 1.5 Check Na"
   ]
  },
  {
   "cell_type": "code",
   "execution_count": 14,
   "id": "aa1bd243",
   "metadata": {
    "ExecuteTime": {
     "end_time": "2023-09-17T19:17:25.238323Z",
     "start_time": "2023-09-17T19:17:25.202438Z"
    },
    "hidden": true,
    "scrolled": true
   },
   "outputs": [
    {
     "data": {
      "text/plain": [
       "store           0.000000\n",
       "dept            0.000000\n",
       "date            0.000000\n",
       "weekly_sales    0.000000\n",
       "isholiday       0.000000\n",
       "temperature     0.000000\n",
       "fuel_price      0.000000\n",
       "markdown1       0.642572\n",
       "markdown2       0.736110\n",
       "markdown3       0.674808\n",
       "markdown4       0.679847\n",
       "markdown5       0.640790\n",
       "cpi             0.000000\n",
       "unemployment    0.000000\n",
       "type            0.000000\n",
       "size            0.000000\n",
       "dtype: float64"
      ]
     },
     "execution_count": 14,
     "metadata": {},
     "output_type": "execute_result"
    }
   ],
   "source": [
    "df.isna().sum() / df.shape[0] "
   ]
  },
  {
   "cell_type": "markdown",
   "id": "a99b8129",
   "metadata": {
    "heading_collapsed": true,
    "hidden": true
   },
   "source": [
    "## 1.6 Removing Nas"
   ]
  },
  {
   "cell_type": "code",
   "execution_count": 15,
   "id": "ea11961b",
   "metadata": {
    "ExecuteTime": {
     "end_time": "2023-09-17T19:17:25.259800Z",
     "start_time": "2023-09-17T19:17:25.239917Z"
    },
    "hidden": true
   },
   "outputs": [],
   "source": [
    "df.drop('markdown1 markdown2 markdown3 markdown4 markdown5'.split(), axis=1, inplace=True)"
   ]
  },
  {
   "cell_type": "code",
   "execution_count": 16,
   "id": "7ed003c7",
   "metadata": {
    "ExecuteTime": {
     "end_time": "2023-09-17T19:17:25.321920Z",
     "start_time": "2023-09-17T19:17:25.262031Z"
    },
    "hidden": true
   },
   "outputs": [],
   "source": [
    "df_raw = df.copy()"
   ]
  },
  {
   "cell_type": "code",
   "execution_count": 17,
   "id": "1adbc61f",
   "metadata": {
    "ExecuteTime": {
     "end_time": "2023-09-17T19:17:25.334761Z",
     "start_time": "2023-09-17T19:17:25.323936Z"
    },
    "hidden": true
   },
   "outputs": [
    {
     "data": {
      "text/html": [
       "<div>\n",
       "<style scoped>\n",
       "    .dataframe tbody tr th:only-of-type {\n",
       "        vertical-align: middle;\n",
       "    }\n",
       "\n",
       "    .dataframe tbody tr th {\n",
       "        vertical-align: top;\n",
       "    }\n",
       "\n",
       "    .dataframe thead th {\n",
       "        text-align: right;\n",
       "    }\n",
       "</style>\n",
       "<table border=\"1\" class=\"dataframe\">\n",
       "  <thead>\n",
       "    <tr style=\"text-align: right;\">\n",
       "      <th></th>\n",
       "      <th>store</th>\n",
       "      <th>dept</th>\n",
       "      <th>date</th>\n",
       "      <th>weekly_sales</th>\n",
       "      <th>isholiday</th>\n",
       "      <th>temperature</th>\n",
       "      <th>fuel_price</th>\n",
       "      <th>cpi</th>\n",
       "      <th>unemployment</th>\n",
       "      <th>type</th>\n",
       "      <th>size</th>\n",
       "    </tr>\n",
       "  </thead>\n",
       "  <tbody>\n",
       "    <tr>\n",
       "      <th>0</th>\n",
       "      <td>1</td>\n",
       "      <td>1</td>\n",
       "      <td>2010-02-05</td>\n",
       "      <td>24924.50</td>\n",
       "      <td>False</td>\n",
       "      <td>42.31</td>\n",
       "      <td>2.572</td>\n",
       "      <td>211.096358</td>\n",
       "      <td>8.106</td>\n",
       "      <td>A</td>\n",
       "      <td>151315</td>\n",
       "    </tr>\n",
       "    <tr>\n",
       "      <th>1</th>\n",
       "      <td>1</td>\n",
       "      <td>1</td>\n",
       "      <td>2010-02-12</td>\n",
       "      <td>46039.49</td>\n",
       "      <td>True</td>\n",
       "      <td>38.51</td>\n",
       "      <td>2.548</td>\n",
       "      <td>211.242170</td>\n",
       "      <td>8.106</td>\n",
       "      <td>A</td>\n",
       "      <td>151315</td>\n",
       "    </tr>\n",
       "    <tr>\n",
       "      <th>2</th>\n",
       "      <td>1</td>\n",
       "      <td>1</td>\n",
       "      <td>2010-02-19</td>\n",
       "      <td>41595.55</td>\n",
       "      <td>False</td>\n",
       "      <td>39.93</td>\n",
       "      <td>2.514</td>\n",
       "      <td>211.289143</td>\n",
       "      <td>8.106</td>\n",
       "      <td>A</td>\n",
       "      <td>151315</td>\n",
       "    </tr>\n",
       "    <tr>\n",
       "      <th>3</th>\n",
       "      <td>1</td>\n",
       "      <td>1</td>\n",
       "      <td>2010-02-26</td>\n",
       "      <td>19403.54</td>\n",
       "      <td>False</td>\n",
       "      <td>46.63</td>\n",
       "      <td>2.561</td>\n",
       "      <td>211.319643</td>\n",
       "      <td>8.106</td>\n",
       "      <td>A</td>\n",
       "      <td>151315</td>\n",
       "    </tr>\n",
       "    <tr>\n",
       "      <th>4</th>\n",
       "      <td>1</td>\n",
       "      <td>1</td>\n",
       "      <td>2010-03-05</td>\n",
       "      <td>21827.90</td>\n",
       "      <td>False</td>\n",
       "      <td>46.50</td>\n",
       "      <td>2.625</td>\n",
       "      <td>211.350143</td>\n",
       "      <td>8.106</td>\n",
       "      <td>A</td>\n",
       "      <td>151315</td>\n",
       "    </tr>\n",
       "  </tbody>\n",
       "</table>\n",
       "</div>"
      ],
      "text/plain": [
       "   store  dept        date  weekly_sales  isholiday  temperature  fuel_price  \\\n",
       "0      1     1  2010-02-05      24924.50      False        42.31       2.572   \n",
       "1      1     1  2010-02-12      46039.49       True        38.51       2.548   \n",
       "2      1     1  2010-02-19      41595.55      False        39.93       2.514   \n",
       "3      1     1  2010-02-26      19403.54      False        46.63       2.561   \n",
       "4      1     1  2010-03-05      21827.90      False        46.50       2.625   \n",
       "\n",
       "          cpi  unemployment type    size  \n",
       "0  211.096358         8.106    A  151315  \n",
       "1  211.242170         8.106    A  151315  \n",
       "2  211.289143         8.106    A  151315  \n",
       "3  211.319643         8.106    A  151315  \n",
       "4  211.350143         8.106    A  151315  "
      ]
     },
     "execution_count": 17,
     "metadata": {},
     "output_type": "execute_result"
    }
   ],
   "source": [
    "df.head()"
   ]
  },
  {
   "cell_type": "markdown",
   "id": "ceb20cb5",
   "metadata": {
    "heading_collapsed": true,
    "hidden": true
   },
   "source": [
    "## 1.7 Datatypes"
   ]
  },
  {
   "cell_type": "code",
   "execution_count": 18,
   "id": "60b56ad2",
   "metadata": {
    "ExecuteTime": {
     "end_time": "2023-09-17T19:17:25.342725Z",
     "start_time": "2023-09-17T19:17:25.336346Z"
    },
    "hidden": true
   },
   "outputs": [
    {
     "data": {
      "text/plain": [
       "store             int64\n",
       "dept              int64\n",
       "date             object\n",
       "weekly_sales    float64\n",
       "isholiday          bool\n",
       "temperature     float64\n",
       "fuel_price      float64\n",
       "cpi             float64\n",
       "unemployment    float64\n",
       "type             object\n",
       "size              int64\n",
       "dtype: object"
      ]
     },
     "execution_count": 18,
     "metadata": {},
     "output_type": "execute_result"
    }
   ],
   "source": [
    "df.dtypes"
   ]
  },
  {
   "cell_type": "markdown",
   "id": "91cc98ee",
   "metadata": {
    "heading_collapsed": true,
    "hidden": true
   },
   "source": [
    "## 1.8 Changing Datatypes"
   ]
  },
  {
   "cell_type": "code",
   "execution_count": 19,
   "id": "b123786d",
   "metadata": {
    "ExecuteTime": {
     "end_time": "2023-09-17T19:17:25.388380Z",
     "start_time": "2023-09-17T19:17:25.344565Z"
    },
    "hidden": true
   },
   "outputs": [],
   "source": [
    "df['date'] = pd.to_datetime(df['date'])\n",
    "\n",
    "df['isholiday'] = df['isholiday'].astype(int)"
   ]
  },
  {
   "cell_type": "code",
   "execution_count": 20,
   "id": "9220dfb0",
   "metadata": {
    "ExecuteTime": {
     "end_time": "2023-09-17T19:17:25.410197Z",
     "start_time": "2023-09-17T19:17:25.392172Z"
    },
    "hidden": true
   },
   "outputs": [
    {
     "data": {
      "text/plain": [
       "type\n",
       "A    215478\n",
       "B    163495\n",
       "C     42597\n",
       "Name: count, dtype: int64"
      ]
     },
     "execution_count": 20,
     "metadata": {},
     "output_type": "execute_result"
    }
   ],
   "source": [
    "df['type'].value_counts()"
   ]
  },
  {
   "cell_type": "code",
   "execution_count": 21,
   "id": "b8e645bf",
   "metadata": {
    "ExecuteTime": {
     "end_time": "2023-09-17T19:17:25.504181Z",
     "start_time": "2023-09-17T19:17:25.411924Z"
    },
    "hidden": true
   },
   "outputs": [],
   "source": [
    "df['type'] = df['type'].apply(lambda x: 0 if x == 'A' else (1 if x == 'B' else 2))"
   ]
  },
  {
   "cell_type": "markdown",
   "id": "12564449",
   "metadata": {
    "heading_collapsed": true,
    "hidden": true
   },
   "source": [
    "## 1.9 Descriptive Statistical"
   ]
  },
  {
   "cell_type": "code",
   "execution_count": null,
   "id": "4d6e0798",
   "metadata": {
    "hidden": true
   },
   "outputs": [],
   "source": []
  },
  {
   "cell_type": "markdown",
   "id": "42987c70",
   "metadata": {
    "heading_collapsed": true
   },
   "source": [
    "# .0 Feature Engineering"
   ]
  },
  {
   "cell_type": "code",
   "execution_count": 22,
   "id": "51ebff63",
   "metadata": {
    "ExecuteTime": {
     "end_time": "2023-09-17T19:17:25.551265Z",
     "start_time": "2023-09-17T19:17:25.505733Z"
    },
    "hidden": true
   },
   "outputs": [],
   "source": [
    "df = df.groupby(['store', 'date']).agg({'weekly_sales':'sum', 'isholiday':'first', 'temperature':'first', 'fuel_price':'first', 'cpi':'first', 'unemployment':'first', 'type':'first', 'size':'first'}).reset_index()\n",
    "df_raw = df.groupby(['store', 'date']).agg({'weekly_sales':'sum', 'isholiday':'first', 'temperature':'first', 'fuel_price':'first', 'cpi':'first', 'unemployment':'first', 'type':'first', 'size':'first'}).reset_index()"
   ]
  },
  {
   "cell_type": "code",
   "execution_count": 23,
   "id": "a4f1e0c1",
   "metadata": {
    "ExecuteTime": {
     "end_time": "2023-09-17T19:17:25.565800Z",
     "start_time": "2023-09-17T19:17:25.552685Z"
    },
    "hidden": true
   },
   "outputs": [
    {
     "data": {
      "text/html": [
       "<div>\n",
       "<style scoped>\n",
       "    .dataframe tbody tr th:only-of-type {\n",
       "        vertical-align: middle;\n",
       "    }\n",
       "\n",
       "    .dataframe tbody tr th {\n",
       "        vertical-align: top;\n",
       "    }\n",
       "\n",
       "    .dataframe thead th {\n",
       "        text-align: right;\n",
       "    }\n",
       "</style>\n",
       "<table border=\"1\" class=\"dataframe\">\n",
       "  <thead>\n",
       "    <tr style=\"text-align: right;\">\n",
       "      <th></th>\n",
       "      <th>store</th>\n",
       "      <th>date</th>\n",
       "      <th>weekly_sales</th>\n",
       "      <th>isholiday</th>\n",
       "      <th>temperature</th>\n",
       "      <th>fuel_price</th>\n",
       "      <th>cpi</th>\n",
       "      <th>unemployment</th>\n",
       "      <th>type</th>\n",
       "      <th>size</th>\n",
       "    </tr>\n",
       "  </thead>\n",
       "  <tbody>\n",
       "    <tr>\n",
       "      <th>0</th>\n",
       "      <td>1</td>\n",
       "      <td>2010-02-05</td>\n",
       "      <td>1643690.90</td>\n",
       "      <td>0</td>\n",
       "      <td>42.31</td>\n",
       "      <td>2.572</td>\n",
       "      <td>211.096358</td>\n",
       "      <td>8.106</td>\n",
       "      <td>0</td>\n",
       "      <td>151315</td>\n",
       "    </tr>\n",
       "    <tr>\n",
       "      <th>1</th>\n",
       "      <td>1</td>\n",
       "      <td>2010-02-12</td>\n",
       "      <td>1641957.44</td>\n",
       "      <td>1</td>\n",
       "      <td>38.51</td>\n",
       "      <td>2.548</td>\n",
       "      <td>211.242170</td>\n",
       "      <td>8.106</td>\n",
       "      <td>0</td>\n",
       "      <td>151315</td>\n",
       "    </tr>\n",
       "    <tr>\n",
       "      <th>2</th>\n",
       "      <td>1</td>\n",
       "      <td>2010-02-19</td>\n",
       "      <td>1611968.17</td>\n",
       "      <td>0</td>\n",
       "      <td>39.93</td>\n",
       "      <td>2.514</td>\n",
       "      <td>211.289143</td>\n",
       "      <td>8.106</td>\n",
       "      <td>0</td>\n",
       "      <td>151315</td>\n",
       "    </tr>\n",
       "    <tr>\n",
       "      <th>3</th>\n",
       "      <td>1</td>\n",
       "      <td>2010-02-26</td>\n",
       "      <td>1409727.59</td>\n",
       "      <td>0</td>\n",
       "      <td>46.63</td>\n",
       "      <td>2.561</td>\n",
       "      <td>211.319643</td>\n",
       "      <td>8.106</td>\n",
       "      <td>0</td>\n",
       "      <td>151315</td>\n",
       "    </tr>\n",
       "    <tr>\n",
       "      <th>4</th>\n",
       "      <td>1</td>\n",
       "      <td>2010-03-05</td>\n",
       "      <td>1554806.68</td>\n",
       "      <td>0</td>\n",
       "      <td>46.50</td>\n",
       "      <td>2.625</td>\n",
       "      <td>211.350143</td>\n",
       "      <td>8.106</td>\n",
       "      <td>0</td>\n",
       "      <td>151315</td>\n",
       "    </tr>\n",
       "  </tbody>\n",
       "</table>\n",
       "</div>"
      ],
      "text/plain": [
       "   store       date  weekly_sales  isholiday  temperature  fuel_price  \\\n",
       "0      1 2010-02-05    1643690.90          0        42.31       2.572   \n",
       "1      1 2010-02-12    1641957.44          1        38.51       2.548   \n",
       "2      1 2010-02-19    1611968.17          0        39.93       2.514   \n",
       "3      1 2010-02-26    1409727.59          0        46.63       2.561   \n",
       "4      1 2010-03-05    1554806.68          0        46.50       2.625   \n",
       "\n",
       "          cpi  unemployment  type    size  \n",
       "0  211.096358         8.106     0  151315  \n",
       "1  211.242170         8.106     0  151315  \n",
       "2  211.289143         8.106     0  151315  \n",
       "3  211.319643         8.106     0  151315  \n",
       "4  211.350143         8.106     0  151315  "
      ]
     },
     "execution_count": 23,
     "metadata": {},
     "output_type": "execute_result"
    }
   ],
   "source": [
    "df_raw.head()"
   ]
  },
  {
   "cell_type": "markdown",
   "id": "fd912af9",
   "metadata": {
    "heading_collapsed": true
   },
   "source": [
    "# .0 Data Preparation"
   ]
  },
  {
   "cell_type": "markdown",
   "id": "636fdd09",
   "metadata": {
    "heading_collapsed": true,
    "hidden": true
   },
   "source": [
    "## Target"
   ]
  },
  {
   "cell_type": "code",
   "execution_count": 24,
   "id": "363eb428",
   "metadata": {
    "ExecuteTime": {
     "end_time": "2023-09-17T19:17:25.575420Z",
     "start_time": "2023-09-17T19:17:25.568626Z"
    },
    "hidden": true
   },
   "outputs": [],
   "source": [
    "pp_weekly_sales = pp.MinMaxScaler()\n",
    "pp_weekly_sales = pp_weekly_sales.fit(df[['weekly_sales']].values)\n",
    "df['weekly_sales'] = pp_weekly_sales.transform(df[['weekly_sales']].values)"
   ]
  },
  {
   "cell_type": "markdown",
   "id": "87d33ae2",
   "metadata": {
    "heading_collapsed": true,
    "hidden": true
   },
   "source": [
    "## Features"
   ]
  },
  {
   "cell_type": "markdown",
   "id": "16fcc763",
   "metadata": {
    "heading_collapsed": true,
    "hidden": true
   },
   "source": [
    "### Categorical Attributes"
   ]
  },
  {
   "cell_type": "code",
   "execution_count": 25,
   "id": "ece8db57",
   "metadata": {
    "ExecuteTime": {
     "end_time": "2023-09-17T19:17:25.585035Z",
     "start_time": "2023-09-17T19:17:25.577592Z"
    },
    "hidden": true
   },
   "outputs": [],
   "source": [
    "# 'isholiday',\n",
    "map_isholiday = df.groupby('isholiday').agg({'weekly_sales':'mean'})['weekly_sales'] # target encoding\n",
    "df['isholiday'] = df['isholiday'].map(map_isholiday)\n",
    "\n",
    "# 'type',\n",
    "map_type = df.groupby('type').agg({'weekly_sales':'mean'})['weekly_sales'] # target encoding\n",
    "df['type'] = df['type'].map(map_type)"
   ]
  },
  {
   "cell_type": "markdown",
   "id": "2e33a2f9",
   "metadata": {
    "heading_collapsed": true,
    "hidden": true
   },
   "source": [
    "### Numerical Attributes"
   ]
  },
  {
   "cell_type": "code",
   "execution_count": 26,
   "id": "aac6f6f0",
   "metadata": {
    "ExecuteTime": {
     "end_time": "2023-09-17T19:17:25.606254Z",
     "start_time": "2023-09-17T19:17:25.587104Z"
    },
    "hidden": true,
    "scrolled": true
   },
   "outputs": [],
   "source": [
    "# 'temperature',\n",
    "pp_temperature = pp.MinMaxScaler()\n",
    "pp_temperature = pp_temperature.fit(df[['temperature']].values)\n",
    "df['temperature'] = pp_temperature.transform(df[['temperature']].values)\n",
    "\n",
    "# 'fuel_price',\n",
    "pp_fuel_price = pp.MinMaxScaler()\n",
    "pp_fuel_price = pp_fuel_price.fit(df[['fuel_price']].values)\n",
    "df['fuel_price'] = pp_fuel_price.transform(df[['fuel_price']].values)\n",
    "\n",
    "# 'cpi',\n",
    "pp_cpi = pp.MinMaxScaler()\n",
    "pp_cpi = pp_cpi.fit(df[['cpi']].values)\n",
    "df['cpi'] = pp_cpi.transform(df[['cpi']].values)\n",
    "\n",
    "# 'unemployment',\n",
    "pp_unemployment = pp.MinMaxScaler()\n",
    "pp_unemployment = pp_unemployment.fit(df[['unemployment']].values)\n",
    "df['unemployment'] = pp_unemployment.transform(df[['unemployment']].values)\n",
    "\n",
    "# 'size']\n",
    "pp_size = pp.MinMaxScaler()\n",
    "pp_size = pp_size.fit(df[['size']].values)\n",
    "df['size'] = pp_size.transform(df[['size']].values)"
   ]
  },
  {
   "cell_type": "markdown",
   "id": "da10ec01",
   "metadata": {
    "heading_collapsed": true,
    "hidden": true
   },
   "source": [
    "## Splits"
   ]
  },
  {
   "cell_type": "code",
   "execution_count": 27,
   "id": "8516ce2c",
   "metadata": {
    "ExecuteTime": {
     "end_time": "2023-09-17T19:17:25.614386Z",
     "start_time": "2023-09-17T19:17:25.607426Z"
    },
    "hidden": true
   },
   "outputs": [],
   "source": [
    "train = df[df['date'] < df['date'].max() - pd.Timedelta(6, 'w')]\n",
    "test = df[df['date'] >= df['date'].max() - pd.Timedelta(6, 'w')]"
   ]
  },
  {
   "cell_type": "code",
   "execution_count": 28,
   "id": "6f86a1d9",
   "metadata": {
    "ExecuteTime": {
     "end_time": "2023-09-17T19:17:25.623730Z",
     "start_time": "2023-09-17T19:17:25.618272Z"
    },
    "hidden": true
   },
   "outputs": [],
   "source": [
    "X_train = train.drop(['date', 'weekly_sales', 'store'], axis=1)\n",
    "y_train = train['weekly_sales']\n",
    "\n",
    "X_train_array = X_train.values\n",
    "y_train_array = np.array(y_train).reshape(-1, 1)"
   ]
  },
  {
   "cell_type": "code",
   "execution_count": 29,
   "id": "10a65b12",
   "metadata": {
    "ExecuteTime": {
     "end_time": "2023-09-17T19:17:25.632816Z",
     "start_time": "2023-09-17T19:17:25.626420Z"
    },
    "hidden": true
   },
   "outputs": [],
   "source": [
    "X_test = test.drop(['date', 'weekly_sales', 'store'], axis=1)\n",
    "y_test = test['weekly_sales']\n",
    "\n",
    "X_test_array = X_test.values\n",
    "y_test_array = np.array(y_test).reshape(-1, 1)"
   ]
  },
  {
   "cell_type": "markdown",
   "id": "25127fd2",
   "metadata": {
    "heading_collapsed": true
   },
   "source": [
    "# .0 ML Modeling"
   ]
  },
  {
   "cell_type": "markdown",
   "id": "fe5bfcef",
   "metadata": {
    "heading_collapsed": true,
    "hidden": true
   },
   "source": [
    "## Linear Regression"
   ]
  },
  {
   "cell_type": "code",
   "execution_count": 30,
   "id": "55b243f5",
   "metadata": {
    "ExecuteTime": {
     "end_time": "2023-09-17T19:17:25.649350Z",
     "start_time": "2023-09-17T19:17:25.635534Z"
    },
    "hidden": true,
    "scrolled": false
   },
   "outputs": [
    {
     "name": "stderr",
     "output_type": "stream",
     "text": [
      "/tmp/ipykernel_16251/478003382.py:5: SettingWithCopyWarning: \n",
      "A value is trying to be set on a copy of a slice from a DataFrame.\n",
      "Try using .loc[row_indexer,col_indexer] = value instead\n",
      "\n",
      "See the caveats in the documentation: https://pandas.pydata.org/pandas-docs/stable/user_guide/indexing.html#returning-a-view-versus-a-copy\n",
      "  test['predicts'] = predicts\n",
      "/tmp/ipykernel_16251/478003382.py:6: SettingWithCopyWarning: \n",
      "A value is trying to be set on a copy of a slice from a DataFrame.\n",
      "Try using .loc[row_indexer,col_indexer] = value instead\n",
      "\n",
      "See the caveats in the documentation: https://pandas.pydata.org/pandas-docs/stable/user_guide/indexing.html#returning-a-view-versus-a-copy\n",
      "  test['absolute_error'] = np.abs(test['predicts'] - test['weekly_sales'])\n",
      "/tmp/ipykernel_16251/478003382.py:8: SettingWithCopyWarning: \n",
      "A value is trying to be set on a copy of a slice from a DataFrame.\n",
      "Try using .loc[row_indexer,col_indexer] = value instead\n",
      "\n",
      "See the caveats in the documentation: https://pandas.pydata.org/pandas-docs/stable/user_guide/indexing.html#returning-a-view-versus-a-copy\n",
      "  test['proportional_absolute_error'] = test['absolute_error'] / test['weekly_sales']\n"
     ]
    },
    {
     "data": {
      "text/plain": [
       "0.3951442206249105"
      ]
     },
     "execution_count": 30,
     "metadata": {},
     "output_type": "execute_result"
    }
   ],
   "source": [
    "lr_model = LinearRegression()\n",
    "lr_model = lr_model.fit(X_train, y_train)\n",
    "predicts = lr_model.predict(X_test)\n",
    "\n",
    "test['predicts'] = predicts\n",
    "test['absolute_error'] = np.abs(test['predicts'] - test['weekly_sales'])\n",
    "mae = test['absolute_error'].mean()\n",
    "test['proportional_absolute_error'] = test['absolute_error'] / test['weekly_sales']\n",
    "mape = test['proportional_absolute_error'].mean()\n",
    "\n",
    "mape"
   ]
  },
  {
   "cell_type": "markdown",
   "id": "c3278f8e",
   "metadata": {
    "heading_collapsed": true,
    "hidden": true
   },
   "source": [
    "## Random Forest"
   ]
  },
  {
   "cell_type": "code",
   "execution_count": 31,
   "id": "6c0d460e",
   "metadata": {
    "ExecuteTime": {
     "end_time": "2023-09-17T19:17:26.734670Z",
     "start_time": "2023-09-17T19:17:25.650858Z"
    },
    "hidden": true,
    "scrolled": false
   },
   "outputs": [
    {
     "name": "stderr",
     "output_type": "stream",
     "text": [
      "/tmp/ipykernel_16251/1417689200.py:5: SettingWithCopyWarning: \n",
      "A value is trying to be set on a copy of a slice from a DataFrame.\n",
      "Try using .loc[row_indexer,col_indexer] = value instead\n",
      "\n",
      "See the caveats in the documentation: https://pandas.pydata.org/pandas-docs/stable/user_guide/indexing.html#returning-a-view-versus-a-copy\n",
      "  test['predicts'] = predicts\n",
      "/tmp/ipykernel_16251/1417689200.py:6: SettingWithCopyWarning: \n",
      "A value is trying to be set on a copy of a slice from a DataFrame.\n",
      "Try using .loc[row_indexer,col_indexer] = value instead\n",
      "\n",
      "See the caveats in the documentation: https://pandas.pydata.org/pandas-docs/stable/user_guide/indexing.html#returning-a-view-versus-a-copy\n",
      "  test['absolute_error'] = np.abs(test['predicts'] - test['weekly_sales'])\n",
      "/tmp/ipykernel_16251/1417689200.py:8: SettingWithCopyWarning: \n",
      "A value is trying to be set on a copy of a slice from a DataFrame.\n",
      "Try using .loc[row_indexer,col_indexer] = value instead\n",
      "\n",
      "See the caveats in the documentation: https://pandas.pydata.org/pandas-docs/stable/user_guide/indexing.html#returning-a-view-versus-a-copy\n",
      "  test['proportional_absolute_error'] = test['absolute_error'] / test['weekly_sales']\n"
     ]
    },
    {
     "data": {
      "text/plain": [
       "0.1515314808717979"
      ]
     },
     "execution_count": 31,
     "metadata": {},
     "output_type": "execute_result"
    }
   ],
   "source": [
    "rf_model = RandomForestRegressor(max_depth=7)\n",
    "rf_model = rf_model.fit(X_train, y_train)\n",
    "predicts = rf_model.predict(X_test)\n",
    "\n",
    "test['predicts'] = predicts\n",
    "test['absolute_error'] = np.abs(test['predicts'] - test['weekly_sales'])\n",
    "mae = test['absolute_error'].mean()\n",
    "test['proportional_absolute_error'] = test['absolute_error'] / test['weekly_sales']\n",
    "mape = test['proportional_absolute_error'].mean()\n",
    "\n",
    "mape"
   ]
  },
  {
   "cell_type": "markdown",
   "id": "09608bb0",
   "metadata": {
    "heading_collapsed": true,
    "hidden": true
   },
   "source": [
    "## XGBoost Regressor"
   ]
  },
  {
   "cell_type": "code",
   "execution_count": 32,
   "id": "f96f4900",
   "metadata": {
    "ExecuteTime": {
     "end_time": "2023-09-17T19:17:27.255005Z",
     "start_time": "2023-09-17T19:17:26.737735Z"
    },
    "hidden": true,
    "scrolled": false
   },
   "outputs": [
    {
     "name": "stderr",
     "output_type": "stream",
     "text": [
      "/tmp/ipykernel_16251/56048586.py:5: SettingWithCopyWarning: \n",
      "A value is trying to be set on a copy of a slice from a DataFrame.\n",
      "Try using .loc[row_indexer,col_indexer] = value instead\n",
      "\n",
      "See the caveats in the documentation: https://pandas.pydata.org/pandas-docs/stable/user_guide/indexing.html#returning-a-view-versus-a-copy\n",
      "  test['predicts'] = predicts\n",
      "/tmp/ipykernel_16251/56048586.py:6: SettingWithCopyWarning: \n",
      "A value is trying to be set on a copy of a slice from a DataFrame.\n",
      "Try using .loc[row_indexer,col_indexer] = value instead\n",
      "\n",
      "See the caveats in the documentation: https://pandas.pydata.org/pandas-docs/stable/user_guide/indexing.html#returning-a-view-versus-a-copy\n",
      "  test['absolute_error'] = np.abs(test['predicts'] - test['weekly_sales'])\n",
      "/tmp/ipykernel_16251/56048586.py:8: SettingWithCopyWarning: \n",
      "A value is trying to be set on a copy of a slice from a DataFrame.\n",
      "Try using .loc[row_indexer,col_indexer] = value instead\n",
      "\n",
      "See the caveats in the documentation: https://pandas.pydata.org/pandas-docs/stable/user_guide/indexing.html#returning-a-view-versus-a-copy\n",
      "  test['proportional_absolute_error'] = test['absolute_error'] / test['weekly_sales']\n"
     ]
    },
    {
     "data": {
      "text/plain": [
       "0.13032780535369384"
      ]
     },
     "execution_count": 32,
     "metadata": {},
     "output_type": "execute_result"
    }
   ],
   "source": [
    "xgb_model = XGBRegressor(max_depth=7)\n",
    "xgb_model = xgb_model.fit(X_train, y_train)\n",
    "predicts = xgb_model.predict(X_test)\n",
    "\n",
    "test['predicts'] = predicts\n",
    "test['absolute_error'] = np.abs(test['predicts'] - test['weekly_sales'])\n",
    "mae = test['absolute_error'].mean()\n",
    "test['proportional_absolute_error'] = test['absolute_error'] / test['weekly_sales']\n",
    "mape = test['proportional_absolute_error'].mean()\n",
    "\n",
    "mape"
   ]
  },
  {
   "cell_type": "markdown",
   "id": "593d78b5",
   "metadata": {
    "heading_collapsed": true,
    "hidden": true
   },
   "source": [
    "## Best model"
   ]
  },
  {
   "cell_type": "code",
   "execution_count": 33,
   "id": "d69c1757",
   "metadata": {
    "ExecuteTime": {
     "end_time": "2023-09-17T19:17:27.264512Z",
     "start_time": "2023-09-17T19:17:27.258978Z"
    },
    "hidden": true
   },
   "outputs": [],
   "source": [
    "model = xgb_model"
   ]
  },
  {
   "cell_type": "markdown",
   "id": "04d83845",
   "metadata": {
    "heading_collapsed": true
   },
   "source": [
    "# .0 Exports"
   ]
  },
  {
   "cell_type": "code",
   "execution_count": 34,
   "id": "556d8185",
   "metadata": {
    "ExecuteTime": {
     "end_time": "2023-09-17T19:17:27.298455Z",
     "start_time": "2023-09-17T19:17:27.269005Z"
    },
    "hidden": true
   },
   "outputs": [],
   "source": [
    "pkl.dump(model, open('../src/models/model.pkl', 'wb'))"
   ]
  },
  {
   "cell_type": "code",
   "execution_count": 49,
   "id": "5fa87822",
   "metadata": {
    "ExecuteTime": {
     "end_time": "2023-09-17T19:22:42.874935Z",
     "start_time": "2023-09-17T19:22:42.868404Z"
    },
    "hidden": true
   },
   "outputs": [],
   "source": [
    "# pp_weekly_sales\n",
    "pkl.dump(pp_weekly_sales, open('../src/features/pp_weekly_sales.pkl', 'wb'))\n",
    "# map_isholiday\n",
    "pkl.dump(map_isholiday, open('../src/features/map_isholiday.pkl', 'wb'))\n",
    "# map_type\n",
    "pkl.dump(map_type, open('../src/features/map_type.pkl', 'wb'))\n",
    "# pp_temperature\n",
    "pkl.dump(pp_temperature, open('../src/features/pp_temperature.pkl', 'wb'))\n",
    "# pp_cpi\n",
    "pkl.dump(pp_cpi, open('../src/features/pp_cpi.pkl', 'wb'))\n",
    "# pp_fuel_price\n",
    "pkl.dump(pp_fuel_price, open('../src/features/pp_fuel_price.pkl', 'wb'))\n",
    "# pp_unemployment\n",
    "pkl.dump(pp_unemployment, open('../src/features/pp_unemployment.pkl', 'wb'))\n",
    "# pp_size\n",
    "pkl.dump(pp_size, open('../src/features/pp_size.pkl', 'wb'))"
   ]
  },
  {
   "cell_type": "markdown",
   "id": "a8460cdc",
   "metadata": {
    "heading_collapsed": true
   },
   "source": [
    "# .0 API"
   ]
  },
  {
   "cell_type": "markdown",
   "id": "f9f41876",
   "metadata": {
    "heading_collapsed": true,
    "hidden": true
   },
   "source": [
    "## API Request"
   ]
  },
  {
   "cell_type": "code",
   "execution_count": 50,
   "id": "8ec0e587",
   "metadata": {
    "ExecuteTime": {
     "end_time": "2023-09-17T19:22:46.015568Z",
     "start_time": "2023-09-17T19:22:45.465797Z"
    },
    "hidden": true,
    "scrolled": true
   },
   "outputs": [
    {
     "name": "stdout",
     "output_type": "stream",
     "text": [
      "200\n"
     ]
    },
    {
     "data": {
      "text/html": [
       "<div>\n",
       "<style scoped>\n",
       "    .dataframe tbody tr th:only-of-type {\n",
       "        vertical-align: middle;\n",
       "    }\n",
       "\n",
       "    .dataframe tbody tr th {\n",
       "        vertical-align: top;\n",
       "    }\n",
       "\n",
       "    .dataframe thead th {\n",
       "        text-align: right;\n",
       "    }\n",
       "</style>\n",
       "<table border=\"1\" class=\"dataframe\">\n",
       "  <thead>\n",
       "    <tr style=\"text-align: right;\">\n",
       "      <th></th>\n",
       "      <th>store</th>\n",
       "      <th>date</th>\n",
       "      <th>weekly_sales</th>\n",
       "      <th>isholiday</th>\n",
       "      <th>temperature</th>\n",
       "      <th>fuel_price</th>\n",
       "      <th>cpi</th>\n",
       "      <th>unemployment</th>\n",
       "      <th>type</th>\n",
       "      <th>size</th>\n",
       "      <th>predicts</th>\n",
       "    </tr>\n",
       "  </thead>\n",
       "  <tbody>\n",
       "    <tr>\n",
       "      <th>0</th>\n",
       "      <td>1</td>\n",
       "      <td>2010-02-05</td>\n",
       "      <td>1643690.90</td>\n",
       "      <td>0</td>\n",
       "      <td>42.31</td>\n",
       "      <td>2.572</td>\n",
       "      <td>211.096358</td>\n",
       "      <td>8.106</td>\n",
       "      <td>0</td>\n",
       "      <td>151315</td>\n",
       "      <td>906266.1875</td>\n",
       "    </tr>\n",
       "    <tr>\n",
       "      <th>1</th>\n",
       "      <td>1</td>\n",
       "      <td>2010-02-12</td>\n",
       "      <td>1641957.44</td>\n",
       "      <td>1</td>\n",
       "      <td>38.51</td>\n",
       "      <td>2.548</td>\n",
       "      <td>211.242170</td>\n",
       "      <td>8.106</td>\n",
       "      <td>0</td>\n",
       "      <td>151315</td>\n",
       "      <td>883700.9375</td>\n",
       "    </tr>\n",
       "    <tr>\n",
       "      <th>2</th>\n",
       "      <td>1</td>\n",
       "      <td>2010-02-19</td>\n",
       "      <td>1611968.17</td>\n",
       "      <td>0</td>\n",
       "      <td>39.93</td>\n",
       "      <td>2.514</td>\n",
       "      <td>211.289143</td>\n",
       "      <td>8.106</td>\n",
       "      <td>0</td>\n",
       "      <td>151315</td>\n",
       "      <td>815290.5000</td>\n",
       "    </tr>\n",
       "    <tr>\n",
       "      <th>3</th>\n",
       "      <td>1</td>\n",
       "      <td>2010-02-26</td>\n",
       "      <td>1409727.59</td>\n",
       "      <td>0</td>\n",
       "      <td>46.63</td>\n",
       "      <td>2.561</td>\n",
       "      <td>211.319643</td>\n",
       "      <td>8.106</td>\n",
       "      <td>0</td>\n",
       "      <td>151315</td>\n",
       "      <td>703740.3125</td>\n",
       "    </tr>\n",
       "    <tr>\n",
       "      <th>4</th>\n",
       "      <td>1</td>\n",
       "      <td>2010-03-05</td>\n",
       "      <td>1554806.68</td>\n",
       "      <td>0</td>\n",
       "      <td>46.50</td>\n",
       "      <td>2.625</td>\n",
       "      <td>211.350143</td>\n",
       "      <td>8.106</td>\n",
       "      <td>0</td>\n",
       "      <td>151315</td>\n",
       "      <td>762490.0625</td>\n",
       "    </tr>\n",
       "  </tbody>\n",
       "</table>\n",
       "</div>"
      ],
      "text/plain": [
       "   store       date  weekly_sales  isholiday  temperature  fuel_price  \\\n",
       "0      1 2010-02-05    1643690.90          0        42.31       2.572   \n",
       "1      1 2010-02-12    1641957.44          1        38.51       2.548   \n",
       "2      1 2010-02-19    1611968.17          0        39.93       2.514   \n",
       "3      1 2010-02-26    1409727.59          0        46.63       2.561   \n",
       "4      1 2010-03-05    1554806.68          0        46.50       2.625   \n",
       "\n",
       "          cpi  unemployment  type    size     predicts  \n",
       "0  211.096358         8.106     0  151315  906266.1875  \n",
       "1  211.242170         8.106     0  151315  883700.9375  \n",
       "2  211.289143         8.106     0  151315  815290.5000  \n",
       "3  211.319643         8.106     0  151315  703740.3125  \n",
       "4  211.350143         8.106     0  151315  762490.0625  "
      ]
     },
     "execution_count": 50,
     "metadata": {},
     "output_type": "execute_result"
    }
   ],
   "source": [
    "# data = X_train.sample(500).to_json(orient='records')\n",
    "data = df_raw.to_json(orient='records', date_format='iso')\n",
    "url = 'http://192.168.0.20:5000/predict'\n",
    "header = {'Content-type':'application/json'}\n",
    "\n",
    "df_request = requests.post(data=data, headers=header, url=url)\n",
    "print(df_request.status_code)\n",
    "\n",
    "df_request = pd.DataFrame(df_request.json(), columns=df_request.json()[0].keys())\n",
    "df_request['date'] = pd.to_datetime(df_request['date'])\n",
    "df_request.head()"
   ]
  },
  {
   "cell_type": "code",
   "execution_count": 58,
   "id": "443e1bd8",
   "metadata": {
    "ExecuteTime": {
     "end_time": "2023-09-17T19:24:39.309701Z",
     "start_time": "2023-09-17T19:24:39.302025Z"
    },
    "hidden": true
   },
   "outputs": [
    {
     "data": {
      "text/plain": [
       "0.10128479129101794"
      ]
     },
     "execution_count": 58,
     "metadata": {},
     "output_type": "execute_result"
    }
   ],
   "source": [
    "df_request['absolute_error'] =  np.abs(df_request['weekly_sales'] - df_request['predicts'])\n",
    "mae = df_request['absolute_error'].mean()\n",
    "df['percentage_absolute_error'] = df_request['absolute_error'] / df_request['weekly_sales']\n",
    "mape = df['percentage_absolute_error'].mean()\n",
    "mape"
   ]
  }
 ],
 "metadata": {
  "kernelspec": {
   "display_name": "Python 3 (ipykernel)",
   "language": "python",
   "name": "python3"
  },
  "language_info": {
   "codemirror_mode": {
    "name": "ipython",
    "version": 3
   },
   "file_extension": ".py",
   "mimetype": "text/x-python",
   "name": "python",
   "nbconvert_exporter": "python",
   "pygments_lexer": "ipython3",
   "version": "3.10.12"
  }
 },
 "nbformat": 4,
 "nbformat_minor": 5
}
