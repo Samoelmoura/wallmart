{
 "cells": [
  {
   "cell_type": "code",
   "execution_count": 1,
   "id": "0e5a83ad",
   "metadata": {
    "ExecuteTime": {
     "end_time": "2023-12-07T13:52:13.457043Z",
     "start_time": "2023-12-07T13:52:13.166531Z"
    }
   },
   "outputs": [],
   "source": [
    "import pandas\n",
    "import requests\n",
    "import json\n",
    "import pandas as pd"
   ]
  },
  {
   "cell_type": "code",
   "execution_count": 2,
   "id": "df624a8c",
   "metadata": {
    "ExecuteTime": {
     "end_time": "2023-12-07T13:52:13.462276Z",
     "start_time": "2023-12-07T13:52:13.458974Z"
    }
   },
   "outputs": [],
   "source": [
    "temp = \"'0000' U.S. city averag '0100'Northeas '0110'New England '0120'Middle Atlantic '0200'Midwest '0230'East North Central '0240'West North Central '0300'South '0350'South Atlantic '0360'East South Central '0370'West South Central '0400'West '0480'Mountain '0490'Pacific 'A104'Pittsburgh, P 'A210'Cleveland-Akron, OH 'A212'Milwaukee-Racine, WI 'A213'Cincinnati-Hamilton, OH-KY-IN 'A214'Kansas City, MO-KS 'A311'Washington-Baltimore, DC-MD-VA-WV 'A421'Los Angeles-Riverside-Orange County, CA 'A425'Portland-Salem, OR-WA 'D000'Size Class  'D200'Midwest - Size Class D 'D300'South - Size Class D 'N000'Size Class B/ 'N100'Northeast - Size Class B/C 'N200'Midwest - Size Class B/C 'N300'South - Size Class B/C 'N400'West - Size Class B/C 'S000'Size Class  'S100'Northeast - Size Class A 'S11A'Boston-Cambridge-Newton, MA-N 'S12A'New York-Newark-Jersey City, NY-NJ-P 'S12B'Philadelphia-Camden-Wilmington, PA-NJ-DE-M 'S200'Midwest - Size Class A 'S23A'Chicago-Naperville-Elgin, IL-IN-WI 'S23B'Detroit-Warren-Dearborn, MI 'S24A'Minneapolis-St.Paul-Bloomington, MN-WI 'S24B'St. Louis, MO-IL 'S300'South - Size Class A 'S35A'Washington-Arlington-Alexandria, DC-VA-MD-WV 'S35B'Miami-Fort Lauderdale-West Palm Beach, FL 'S35C'Atlanta-Sandy Springs-Roswell, GA 'S35D'Tampa-St. Petersburg-Clearwater, FL 'S35E'Baltimore-Columbia-Towson, MD 'S37A'Dallas-Fort Worth-Arlington, TX 'S37B'Houston-The Woodlands-Sugar Land, TX 'S400'West - Size Class A 'S48A'Phoenix-Mesa-Scottsdale, AZ 'S48B'Denver-Aurora-Lakewood, CO 'S49A'Los Angeles-Long Beach-Anaheim, CA 'S49B'San Francisco-Oakland-Hayward, CA 'S49C'Riverside-San Bernardino-Ontario, CA 'S49D'Seattle-Tacoma-Bellevue WA 'S49E'San Diego-Carlsbad, CA 'S49F'Urban Hawaii 'S49G'Urban Alaska\""
   ]
  },
  {
   "cell_type": "code",
   "execution_count": 3,
   "id": "2609b5d7",
   "metadata": {
    "ExecuteTime": {
     "end_time": "2023-12-07T13:52:13.471160Z",
     "start_time": "2023-12-07T13:52:13.463778Z"
    }
   },
   "outputs": [
    {
     "data": {
      "text/plain": [
       "''"
      ]
     },
     "execution_count": 3,
     "metadata": {},
     "output_type": "execute_result"
    }
   ],
   "source": [
    "region, code = [], []\n",
    "for i, j in enumerate(temp.split(\"'\")):\n",
    "    if i % 2 == 0:\n",
    "        region.append(j)\n",
    "    else:\n",
    "        code.append(j)\n",
    "        \n",
    "region.pop(0)"
   ]
  },
  {
   "cell_type": "code",
   "execution_count": 4,
   "id": "605df21e",
   "metadata": {
    "ExecuteTime": {
     "end_time": "2023-12-07T13:52:13.476739Z",
     "start_time": "2023-12-07T13:52:13.472859Z"
    }
   },
   "outputs": [],
   "source": [
    "regions_dict = {}\n",
    "for i in range(len(region)):\n",
    "    regions_dict[f'{region[i]}'] = code[i]"
   ]
  },
  {
   "cell_type": "code",
   "execution_count": 5,
   "id": "93dc4e18",
   "metadata": {
    "ExecuteTime": {
     "end_time": "2023-12-07T13:52:13.486221Z",
     "start_time": "2023-12-07T13:52:13.478406Z"
    }
   },
   "outputs": [
    {
     "data": {
      "text/plain": [
       "{' U.S. city averag ': '0000',\n",
       " 'Northeas ': '0100',\n",
       " 'New England ': '0110',\n",
       " 'Middle Atlantic ': '0120',\n",
       " 'Midwest ': '0200',\n",
       " 'East North Central ': '0230',\n",
       " 'West North Central ': '0240',\n",
       " 'South ': '0300',\n",
       " 'South Atlantic ': '0350',\n",
       " 'East South Central ': '0360',\n",
       " 'West South Central ': '0370',\n",
       " 'West ': '0400',\n",
       " 'Mountain ': '0480',\n",
       " 'Pacific ': '0490',\n",
       " 'Pittsburgh, P ': 'A104',\n",
       " 'Cleveland-Akron, OH ': 'A210',\n",
       " 'Milwaukee-Racine, WI ': 'A212',\n",
       " 'Cincinnati-Hamilton, OH-KY-IN ': 'A213',\n",
       " 'Kansas City, MO-KS ': 'A214',\n",
       " 'Washington-Baltimore, DC-MD-VA-WV ': 'A311',\n",
       " 'Los Angeles-Riverside-Orange County, CA ': 'A421',\n",
       " 'Portland-Salem, OR-WA ': 'A425',\n",
       " 'Size Class  ': 'S000',\n",
       " 'Midwest - Size Class D ': 'D200',\n",
       " 'South - Size Class D ': 'D300',\n",
       " 'Size Class B/ ': 'N000',\n",
       " 'Northeast - Size Class B/C ': 'N100',\n",
       " 'Midwest - Size Class B/C ': 'N200',\n",
       " 'South - Size Class B/C ': 'N300',\n",
       " 'West - Size Class B/C ': 'N400',\n",
       " 'Northeast - Size Class A ': 'S100',\n",
       " 'Boston-Cambridge-Newton, MA-N ': 'S11A',\n",
       " 'New York-Newark-Jersey City, NY-NJ-P ': 'S12A',\n",
       " 'Philadelphia-Camden-Wilmington, PA-NJ-DE-M ': 'S12B',\n",
       " 'Midwest - Size Class A ': 'S200',\n",
       " 'Chicago-Naperville-Elgin, IL-IN-WI ': 'S23A',\n",
       " 'Detroit-Warren-Dearborn, MI ': 'S23B',\n",
       " 'Minneapolis-St.Paul-Bloomington, MN-WI ': 'S24A',\n",
       " 'St. Louis, MO-IL ': 'S24B',\n",
       " 'South - Size Class A ': 'S300',\n",
       " 'Washington-Arlington-Alexandria, DC-VA-MD-WV ': 'S35A',\n",
       " 'Miami-Fort Lauderdale-West Palm Beach, FL ': 'S35B',\n",
       " 'Atlanta-Sandy Springs-Roswell, GA ': 'S35C',\n",
       " 'Tampa-St. Petersburg-Clearwater, FL ': 'S35D',\n",
       " 'Baltimore-Columbia-Towson, MD ': 'S35E',\n",
       " 'Dallas-Fort Worth-Arlington, TX ': 'S37A',\n",
       " 'Houston-The Woodlands-Sugar Land, TX ': 'S37B',\n",
       " 'West - Size Class A ': 'S400',\n",
       " 'Phoenix-Mesa-Scottsdale, AZ ': 'S48A',\n",
       " 'Denver-Aurora-Lakewood, CO ': 'S48B',\n",
       " 'Los Angeles-Long Beach-Anaheim, CA ': 'S49A',\n",
       " 'San Francisco-Oakland-Hayward, CA ': 'S49B',\n",
       " 'Riverside-San Bernardino-Ontario, CA ': 'S49C',\n",
       " 'Seattle-Tacoma-Bellevue WA ': 'S49D',\n",
       " 'San Diego-Carlsbad, CA ': 'S49E',\n",
       " 'Urban Hawaii ': 'S49F',\n",
       " 'Urban Alaska': 'S49G'}"
      ]
     },
     "execution_count": 5,
     "metadata": {},
     "output_type": "execute_result"
    }
   ],
   "source": [
    "regions_dict"
   ]
  }
 ],
 "metadata": {
  "kernelspec": {
   "display_name": "Python 3 (ipykernel)",
   "language": "python",
   "name": "python3"
  },
  "language_info": {
   "codemirror_mode": {
    "name": "ipython",
    "version": 3
   },
   "file_extension": ".py",
   "mimetype": "text/x-python",
   "name": "python",
   "nbconvert_exporter": "python",
   "pygments_lexer": "ipython3",
   "version": "3.10.12"
  }
 },
 "nbformat": 4,
 "nbformat_minor": 5
}
