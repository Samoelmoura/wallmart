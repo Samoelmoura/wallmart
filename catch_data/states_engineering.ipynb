{
 "cells": [
  {
   "cell_type": "code",
   "execution_count": 1,
   "id": "225f08fa",
   "metadata": {
    "ExecuteTime": {
     "end_time": "2023-12-13T12:36:56.808597Z",
     "start_time": "2023-12-13T12:36:56.341002Z"
    }
   },
   "outputs": [],
   "source": [
    "import requests\n",
    "import json\n",
    "import pandas as pd\n",
    "import numpy as np"
   ]
  },
  {
   "cell_type": "code",
   "execution_count": 2,
   "id": "adc33f51",
   "metadata": {
    "ExecuteTime": {
     "end_time": "2023-12-05T15:16:55.860753Z",
     "start_time": "2023-12-05T15:16:55.848668Z"
    }
   },
   "outputs": [],
   "source": [
    "features = pd.read_csv('../data/raw/features.csv')\n",
    "states_code = pd.read_csv('../catch_data/data/states.csv')"
   ]
  },
  {
   "cell_type": "code",
   "execution_count": 2,
   "id": "3b303675",
   "metadata": {
    "ExecuteTime": {
     "end_time": "2023-12-13T12:36:58.025914Z",
     "start_time": "2023-12-13T12:36:58.020737Z"
    }
   },
   "outputs": [],
   "source": [
    "states_dict = {'ST0100000000000' : 'Alabama', 'ST0200000000000' : 'Alaska', 'ST0400000000000' : 'Arizona', 'ST0500000000000' : 'Arkansas', 'ST0600000000000' : 'California', 'ST0800000000000' : 'Colorado', 'ST0900000000000' : 'Connecticut', 'ST1000000000000' : 'Delaware', 'ST1100000000000' : 'District of Columbia', 'ST1200000000000' : 'Florida', 'ST1300000000000' : 'Georgia', 'ST1500000000000' : 'Hawaii', 'ST1600000000000' : 'Idaho', 'ST1700000000000' : 'Illinois', 'ST1800000000000' : 'Indiana', 'ST1900000000000' : 'Iowa', 'ST2000000000000' : 'Kansas', 'ST2100000000000' : 'Kentucky', 'ST2200000000000' : 'Louisiana', 'ST2300000000000' : 'Maine', 'ST2400000000000' : 'Maryland', 'ST2500000000000' : 'Massachusetts', 'ST2600000000000' : 'Michigan', 'ST2700000000000' : 'Minnesota', 'ST2800000000000' : 'Mississippi', 'ST2900000000000' : 'Missouri', 'ST3000000000000' : 'Montana', 'ST3100000000000' : 'Nebraska', 'ST3200000000000' : 'Nevada', 'ST3300000000000' : 'New Hampshire', 'ST3400000000000' : 'New Jersey', 'ST3500000000000' : 'New Mexico', 'ST3600000000000' : 'New York', 'ST3700000000000' : 'North Carolina', 'ST3800000000000' : 'North Dakota', 'ST3900000000000' : 'Ohio', 'ST4000000000000' : 'Oklahoma', 'ST4100000000000' : 'Oregon', 'ST4200000000000' : 'Pennsylvania', 'ST4400000000000' : 'Rhode Island', 'ST4500000000000' : 'South Carolina', 'ST4600000000000' : 'South Dakota', 'ST4700000000000' : 'Tennessee', 'ST4800000000000' : 'Texas', 'ST4900000000000' : 'Utah', 'ST5000000000000' : 'Vermont', 'ST5100000000000' : 'Virginia', 'ST5300000000000' : 'Washington', 'ST5400000000000' : 'West Virginia', 'ST5500000000000' : 'Wisconsin', 'ST5600000000000' : 'Wyoming', 'ST7200000000000' : 'Puerto Rico'}\n",
    "seriesids = []\n",
    "states = []\n",
    "new_states_dict = {}\n",
    "for key, value in states_dict.items():\n",
    "    new_key = 'LA' + 'S' + key + '03'\n",
    "    new_states_dict[new_key] = value\n",
    "    seriesids.append(new_key)\n",
    "    states.append(value)"
   ]
  },
  {
   "cell_type": "code",
   "execution_count": 4,
   "id": "c2629353",
   "metadata": {
    "ExecuteTime": {
     "end_time": "2023-12-05T15:21:18.905304Z",
     "start_time": "2023-12-05T15:16:55.868733Z"
    },
    "scrolled": false
   },
   "outputs": [],
   "source": [
    "api_key = 'bd259761a8aa4ad8a77810e12083dedf'\n",
    "headers = {'Content-type': 'application/json'}\n",
    "url = 'https://api.bls.gov/publicAPI/v2/timeseries/data/'\n",
    "\n",
    "data1 = json.dumps({\"seriesid\": seriesids[0:25], 'registrationkey': api_key, \"startyear\":\"2010\", \"endyear\":\"2012\"})\n",
    "p1 = requests.post(url=url, data=data1, headers=headers)\n",
    "data1 = p1.json()\n",
    "\n",
    "data2 = json.dumps({\"seriesid\": seriesids[25:], 'registrationkey': api_key, \"startyear\":\"2010\", \"endyear\":\"2012\"})\n",
    "p2 = requests.post(url=url, data=data2, headers=headers)\n",
    "data2 = p2.json()"
   ]
  },
  {
   "cell_type": "code",
   "execution_count": 5,
   "id": "6f516b2f",
   "metadata": {
    "ExecuteTime": {
     "end_time": "2023-12-05T15:21:19.035876Z",
     "start_time": "2023-12-05T15:21:18.908795Z"
    }
   },
   "outputs": [],
   "source": [
    "for i, j in enumerate(data1['Results']['series']):\n",
    "    if i == 0:\n",
    "        df = pd.DataFrame(data1['Results']['series'][i]['data'])\n",
    "        df.drop(['footnotes', 'period'], axis=1, inplace=True)\n",
    "        df['month'] = pd.to_datetime(df['periodName'], format='%B').dt.month\n",
    "        df.drop('periodName', axis=1, inplace=True)\n",
    "        df['state'] = states[i]\n",
    "    else:\n",
    "        temp = pd.DataFrame(data1['Results']['series'][i]['data'])\n",
    "        temp.drop(['footnotes', 'period'], axis=1, inplace=True)\n",
    "        temp['month'] = pd.to_datetime(temp['periodName'], format='%B').dt.month\n",
    "        temp.drop('periodName', axis=1, inplace=True)\n",
    "        temp['state'] = states[i]\n",
    "        df = pd.concat([df, temp])\n",
    "        \n",
    "\n",
    "for i, j in enumerate(data2['Results']['series']):\n",
    "    temp = pd.DataFrame(data2['Results']['series'][i]['data'])\n",
    "    temp.drop(['footnotes', 'period'], axis=1, inplace=True)\n",
    "    temp['month'] = pd.to_datetime(temp['periodName'], format='%B').dt.month\n",
    "    temp.drop('periodName', axis=1, inplace=True)\n",
    "    i += 25\n",
    "    temp['state'] = states[i]\n",
    "    df = pd.concat([df, temp])"
   ]
  },
  {
   "cell_type": "code",
   "execution_count": 6,
   "id": "7db8b397",
   "metadata": {
    "ExecuteTime": {
     "end_time": "2023-12-05T15:21:19.084027Z",
     "start_time": "2023-12-05T15:21:19.037552Z"
    }
   },
   "outputs": [
    {
     "name": "stderr",
     "output_type": "stream",
     "text": [
      "/tmp/ipykernel_7727/1851118240.py:2: FutureWarning: Series.__getitem__ treating keys as positions is deprecated. In a future version, integer keys will always be treated as labels (consistent with DataFrame behavior). To access a value by position, use `ser.iloc[pos]`\n",
      "  df['date'] = df[['year', 'month']].apply(lambda x: str(x[0]) + '-' + str(x[1]), axis=1)\n"
     ]
    }
   ],
   "source": [
    "df['value'] = df['value'].astype(float)\n",
    "df['date'] = df[['year', 'month']].apply(lambda x: str(x[0]) + '-' + str(x[1]), axis=1)\n",
    "df['date'] = pd.to_datetime(df['date'])\n",
    "df['date'] = df['date'].dt.strftime('%Y-%m')\n",
    "df = df.loc[df['date']>='2010-02']\n",
    "df = df.loc[df['date']<='2013-07']\n",
    "df.drop(['year', 'month'], axis=1, inplace=True)\n",
    "df.sort_values('date', inplace=True)"
   ]
  },
  {
   "cell_type": "code",
   "execution_count": 7,
   "id": "503328f4",
   "metadata": {
    "ExecuteTime": {
     "end_time": "2023-12-05T15:21:19.129622Z",
     "start_time": "2023-12-05T15:21:19.085423Z"
    }
   },
   "outputs": [],
   "source": [
    "cols = []\n",
    "for i in features.columns:\n",
    "    cols.append(i.lower())\n",
    "features.columns = cols\n",
    "\n",
    "features['date'] = pd.to_datetime(features['date'])\n",
    "features['date'].dt.strftime('%Y-%m')\n",
    "features['year'] = features['date'].dt.year\n",
    "features['month'] = features['date'].dt.month\n",
    "features = features.groupby(['store', 'year', 'month']).agg({'unemployment':'first', 'date':'first'}).reset_index().drop(['year', 'month'], axis=1)\n",
    "features['date'] = features['date'].dt.strftime('%Y-%m')\n",
    "features.sort_values(['date', 'store'], inplace=True)"
   ]
  },
  {
   "cell_type": "code",
   "execution_count": 8,
   "id": "c2efbbe5",
   "metadata": {
    "ExecuteTime": {
     "end_time": "2023-12-05T15:21:19.186540Z",
     "start_time": "2023-12-05T15:21:19.130951Z"
    }
   },
   "outputs": [],
   "source": [
    "df_pivot = df.pivot_table(index='date', columns='state', values='value').reset_index()\n",
    "df2 = features.merge(df_pivot, on='date', how='left')\n",
    "proba_list = []\n",
    "stores = dict()\n",
    "for store in df2['store'].unique():\n",
    "    temp = df2.loc[df2['store']==store].drop(['date', 'store'], axis=1).corr()['unemployment'][1:].sort_values(ascending=False)\n",
    "    stores[store] = [temp.head(1).index[0], temp.head(1).values[0]]\n",
    "    proba_list.append(temp.head(1).values[0])"
   ]
  },
  {
   "cell_type": "code",
   "execution_count": 9,
   "id": "ae1d7774",
   "metadata": {
    "ExecuteTime": {
     "end_time": "2023-12-05T15:21:19.194535Z",
     "start_time": "2023-12-05T15:21:19.187956Z"
    }
   },
   "outputs": [
    {
     "data": {
      "text/plain": [
       "{1: ['Hawaii', 0.9627113784084476],\n",
       " 2: ['California', 0.9941713651851788],\n",
       " 3: ['Nevada', 0.961842822934712],\n",
       " 4: ['Ohio', 0.9891523501175239],\n",
       " 5: ['Nevada', 0.9799922624838774],\n",
       " 6: ['California', 0.9868781967222878],\n",
       " 7: ['Colorado', 0.9827527993646366],\n",
       " 8: ['Nevada', 0.9729075998989525],\n",
       " 9: ['Nevada', 0.9898088851565604],\n",
       " 10: ['Arizona', 0.99448689913108],\n",
       " 11: ['Nevada', 0.961842822934712],\n",
       " 12: ['Nevada', 0.993471525229763],\n",
       " 13: ['Arizona', 0.99348735283274],\n",
       " 14: ['New Hampshire', 0.9549489754616137],\n",
       " 15: ['New York', 0.8819213461165573],\n",
       " 16: ['Oregon', 0.9680571998276669],\n",
       " 17: ['Hawaii', 0.9496217149697896],\n",
       " 18: ['Connecticut', 0.9678776762428611],\n",
       " 19: ['New York', 0.8819213461165573],\n",
       " 20: ['New Hampshire', 0.9727496529313483],\n",
       " 21: ['California', 0.9941713651851788],\n",
       " 22: ['South Dakota', 0.9626645501755198],\n",
       " 23: ['Massachusetts', 0.9858929762841975],\n",
       " 24: ['New York', 0.3094987535494979],\n",
       " 25: ['New Hampshire', 0.9727496529313483],\n",
       " 26: ['Oregon', 0.9833825422636563],\n",
       " 27: ['New York', 0.8476055385519081],\n",
       " 28: ['Nevada', 0.993471525229763],\n",
       " 29: ['Connecticut', 0.9511611912414962],\n",
       " 30: ['California', 0.9941713651851788],\n",
       " 31: ['California', 0.9941713651851788],\n",
       " 32: ['Colorado', 0.9827527993646366],\n",
       " 33: ['Arizona', 0.9951623929199529],\n",
       " 34: ['District of Columbia', 0.8505537669068342],\n",
       " 35: ['New York', 0.9064740591844594],\n",
       " 36: ['Nevada', 0.9920130403490731],\n",
       " 37: ['Nevada', 0.9920130403490731],\n",
       " 38: ['Nevada', 0.993471525229763],\n",
       " 39: ['Nevada', 0.9920130403490731],\n",
       " 40: ['Massachusetts', 0.9858929762841975],\n",
       " 41: ['Kansas', 0.9801244500483299],\n",
       " 42: ['Arizona', 0.99448689913108],\n",
       " 43: ['District of Columbia', 0.8505537669068342],\n",
       " 44: ['Arizona', 0.9922791136655437],\n",
       " 45: ['New Hampshire', 0.9549489754616137]}"
      ]
     },
     "execution_count": 9,
     "metadata": {},
     "output_type": "execute_result"
    }
   ],
   "source": [
    "stores"
   ]
  },
  {
   "cell_type": "code",
   "execution_count": 10,
   "id": "909505ad",
   "metadata": {
    "ExecuteTime": {
     "end_time": "2023-12-05T15:21:19.200182Z",
     "start_time": "2023-12-05T15:21:19.196571Z"
    }
   },
   "outputs": [
    {
     "data": {
      "text/plain": [
       "0.9509396632000059"
      ]
     },
     "execution_count": 10,
     "metadata": {},
     "output_type": "execute_result"
    }
   ],
   "source": [
    "np.mean(proba_list)"
   ]
  },
  {
   "cell_type": "code",
   "execution_count": 11,
   "id": "76c3338b",
   "metadata": {
    "ExecuteTime": {
     "end_time": "2023-12-05T15:21:19.206219Z",
     "start_time": "2023-12-05T15:21:19.201348Z"
    }
   },
   "outputs": [
    {
     "data": {
      "text/plain": [
       "'0.9509396632000059'"
      ]
     },
     "execution_count": 11,
     "metadata": {},
     "output_type": "execute_result"
    }
   ],
   "source": [
    "'0.9509396632000059'"
   ]
  },
  {
   "cell_type": "code",
   "execution_count": 12,
   "id": "73687227",
   "metadata": {
    "ExecuteTime": {
     "end_time": "2023-12-05T15:21:19.215643Z",
     "start_time": "2023-12-05T15:21:19.207423Z"
    }
   },
   "outputs": [],
   "source": [
    "features['state'] = features['store'].map(stores)\n",
    "features['state'] = features['state'].apply(lambda x: x[0])\n",
    "features.drop(['unemployment', 'date'], axis=1, inplace=True)\n",
    "features.to_csv('../data/raw/features_with_states.csv', index=True)"
   ]
  },
  {
   "cell_type": "code",
   "execution_count": 13,
   "id": "1dd67389",
   "metadata": {
    "ExecuteTime": {
     "end_time": "2023-12-05T15:21:19.224983Z",
     "start_time": "2023-12-05T15:21:19.216847Z"
    }
   },
   "outputs": [
    {
     "data": {
      "text/html": [
       "<div>\n",
       "<style scoped>\n",
       "    .dataframe tbody tr th:only-of-type {\n",
       "        vertical-align: middle;\n",
       "    }\n",
       "\n",
       "    .dataframe tbody tr th {\n",
       "        vertical-align: top;\n",
       "    }\n",
       "\n",
       "    .dataframe thead th {\n",
       "        text-align: right;\n",
       "    }\n",
       "</style>\n",
       "<table border=\"1\" class=\"dataframe\">\n",
       "  <thead>\n",
       "    <tr style=\"text-align: right;\">\n",
       "      <th></th>\n",
       "      <th>store</th>\n",
       "      <th>state</th>\n",
       "    </tr>\n",
       "  </thead>\n",
       "  <tbody>\n",
       "    <tr>\n",
       "      <th>0</th>\n",
       "      <td>1</td>\n",
       "      <td>Hawaii</td>\n",
       "    </tr>\n",
       "    <tr>\n",
       "      <th>42</th>\n",
       "      <td>2</td>\n",
       "      <td>California</td>\n",
       "    </tr>\n",
       "    <tr>\n",
       "      <th>84</th>\n",
       "      <td>3</td>\n",
       "      <td>Nevada</td>\n",
       "    </tr>\n",
       "    <tr>\n",
       "      <th>126</th>\n",
       "      <td>4</td>\n",
       "      <td>Ohio</td>\n",
       "    </tr>\n",
       "    <tr>\n",
       "      <th>168</th>\n",
       "      <td>5</td>\n",
       "      <td>Nevada</td>\n",
       "    </tr>\n",
       "  </tbody>\n",
       "</table>\n",
       "</div>"
      ],
      "text/plain": [
       "     store       state\n",
       "0        1      Hawaii\n",
       "42       2  California\n",
       "84       3      Nevada\n",
       "126      4        Ohio\n",
       "168      5      Nevada"
      ]
     },
     "execution_count": 13,
     "metadata": {},
     "output_type": "execute_result"
    }
   ],
   "source": [
    "features.head()"
   ]
  },
  {
   "cell_type": "code",
   "execution_count": 14,
   "id": "2d57846e",
   "metadata": {
    "ExecuteTime": {
     "end_time": "2023-12-05T15:21:19.233264Z",
     "start_time": "2023-12-05T15:21:19.226332Z"
    }
   },
   "outputs": [
    {
     "data": {
      "text/html": [
       "<div>\n",
       "<style scoped>\n",
       "    .dataframe tbody tr th:only-of-type {\n",
       "        vertical-align: middle;\n",
       "    }\n",
       "\n",
       "    .dataframe tbody tr th {\n",
       "        vertical-align: top;\n",
       "    }\n",
       "\n",
       "    .dataframe thead th {\n",
       "        text-align: right;\n",
       "    }\n",
       "</style>\n",
       "<table border=\"1\" class=\"dataframe\">\n",
       "  <thead>\n",
       "    <tr style=\"text-align: right;\">\n",
       "      <th></th>\n",
       "      <th>state</th>\n",
       "      <th>state_code</th>\n",
       "      <th>region</th>\n",
       "    </tr>\n",
       "  </thead>\n",
       "  <tbody>\n",
       "    <tr>\n",
       "      <th>0</th>\n",
       "      <td>Alabama</td>\n",
       "      <td>AL</td>\n",
       "      <td>Sul</td>\n",
       "    </tr>\n",
       "    <tr>\n",
       "      <th>1</th>\n",
       "      <td>Alaska</td>\n",
       "      <td>AK</td>\n",
       "      <td>Oeste</td>\n",
       "    </tr>\n",
       "    <tr>\n",
       "      <th>2</th>\n",
       "      <td>Arizona</td>\n",
       "      <td>AZ</td>\n",
       "      <td>Oeste</td>\n",
       "    </tr>\n",
       "    <tr>\n",
       "      <th>3</th>\n",
       "      <td>Arkansas</td>\n",
       "      <td>AR</td>\n",
       "      <td>Sul</td>\n",
       "    </tr>\n",
       "    <tr>\n",
       "      <th>4</th>\n",
       "      <td>California</td>\n",
       "      <td>CA</td>\n",
       "      <td>Oeste</td>\n",
       "    </tr>\n",
       "    <tr>\n",
       "      <th>5</th>\n",
       "      <td>Colorado</td>\n",
       "      <td>CO</td>\n",
       "      <td>Oeste</td>\n",
       "    </tr>\n",
       "    <tr>\n",
       "      <th>6</th>\n",
       "      <td>Connecticut</td>\n",
       "      <td>CT</td>\n",
       "      <td>Nordeste</td>\n",
       "    </tr>\n",
       "    <tr>\n",
       "      <th>7</th>\n",
       "      <td>Delaware</td>\n",
       "      <td>DE</td>\n",
       "      <td>Nordeste</td>\n",
       "    </tr>\n",
       "    <tr>\n",
       "      <th>8</th>\n",
       "      <td>Florida</td>\n",
       "      <td>FL</td>\n",
       "      <td>Sul</td>\n",
       "    </tr>\n",
       "    <tr>\n",
       "      <th>9</th>\n",
       "      <td>Georgia</td>\n",
       "      <td>GA</td>\n",
       "      <td>Sul</td>\n",
       "    </tr>\n",
       "    <tr>\n",
       "      <th>10</th>\n",
       "      <td>Hawaii</td>\n",
       "      <td>HI</td>\n",
       "      <td>Oeste</td>\n",
       "    </tr>\n",
       "    <tr>\n",
       "      <th>11</th>\n",
       "      <td>Idaho</td>\n",
       "      <td>ID</td>\n",
       "      <td>Oeste</td>\n",
       "    </tr>\n",
       "    <tr>\n",
       "      <th>12</th>\n",
       "      <td>Illinois</td>\n",
       "      <td>IL</td>\n",
       "      <td>Meio-Oeste</td>\n",
       "    </tr>\n",
       "    <tr>\n",
       "      <th>13</th>\n",
       "      <td>Indiana</td>\n",
       "      <td>IN</td>\n",
       "      <td>Meio-Oeste</td>\n",
       "    </tr>\n",
       "    <tr>\n",
       "      <th>14</th>\n",
       "      <td>Iowa</td>\n",
       "      <td>IA</td>\n",
       "      <td>Meio-Oeste</td>\n",
       "    </tr>\n",
       "    <tr>\n",
       "      <th>15</th>\n",
       "      <td>Kansas</td>\n",
       "      <td>KS</td>\n",
       "      <td>Meio-Oeste</td>\n",
       "    </tr>\n",
       "    <tr>\n",
       "      <th>16</th>\n",
       "      <td>Kentucky</td>\n",
       "      <td>KY</td>\n",
       "      <td>Sul</td>\n",
       "    </tr>\n",
       "    <tr>\n",
       "      <th>17</th>\n",
       "      <td>Louisiana</td>\n",
       "      <td>LA</td>\n",
       "      <td>Sul</td>\n",
       "    </tr>\n",
       "    <tr>\n",
       "      <th>18</th>\n",
       "      <td>Maine</td>\n",
       "      <td>ME</td>\n",
       "      <td>Nordeste</td>\n",
       "    </tr>\n",
       "    <tr>\n",
       "      <th>19</th>\n",
       "      <td>Maryland</td>\n",
       "      <td>MD</td>\n",
       "      <td>Nordeste</td>\n",
       "    </tr>\n",
       "    <tr>\n",
       "      <th>20</th>\n",
       "      <td>Massachusetts</td>\n",
       "      <td>MA</td>\n",
       "      <td>Nordeste</td>\n",
       "    </tr>\n",
       "    <tr>\n",
       "      <th>21</th>\n",
       "      <td>Michigan</td>\n",
       "      <td>MI</td>\n",
       "      <td>Meio-Oeste</td>\n",
       "    </tr>\n",
       "    <tr>\n",
       "      <th>22</th>\n",
       "      <td>Minnesota</td>\n",
       "      <td>MN</td>\n",
       "      <td>Meio-Oeste</td>\n",
       "    </tr>\n",
       "    <tr>\n",
       "      <th>23</th>\n",
       "      <td>Mississippi</td>\n",
       "      <td>MS</td>\n",
       "      <td>Sul</td>\n",
       "    </tr>\n",
       "    <tr>\n",
       "      <th>24</th>\n",
       "      <td>Missouri</td>\n",
       "      <td>MO</td>\n",
       "      <td>Meio-Oeste</td>\n",
       "    </tr>\n",
       "    <tr>\n",
       "      <th>25</th>\n",
       "      <td>Montana</td>\n",
       "      <td>MT</td>\n",
       "      <td>Oeste</td>\n",
       "    </tr>\n",
       "    <tr>\n",
       "      <th>26</th>\n",
       "      <td>Nebraska</td>\n",
       "      <td>NE</td>\n",
       "      <td>Meio-Oeste</td>\n",
       "    </tr>\n",
       "    <tr>\n",
       "      <th>27</th>\n",
       "      <td>Nevada</td>\n",
       "      <td>NV</td>\n",
       "      <td>Oeste</td>\n",
       "    </tr>\n",
       "    <tr>\n",
       "      <th>28</th>\n",
       "      <td>New Hampshire</td>\n",
       "      <td>NH</td>\n",
       "      <td>Nordeste</td>\n",
       "    </tr>\n",
       "    <tr>\n",
       "      <th>29</th>\n",
       "      <td>New Jersey</td>\n",
       "      <td>NJ</td>\n",
       "      <td>Nordeste</td>\n",
       "    </tr>\n",
       "    <tr>\n",
       "      <th>30</th>\n",
       "      <td>New Mexico</td>\n",
       "      <td>NM</td>\n",
       "      <td>Oeste</td>\n",
       "    </tr>\n",
       "    <tr>\n",
       "      <th>31</th>\n",
       "      <td>New York</td>\n",
       "      <td>NY</td>\n",
       "      <td>Nordeste</td>\n",
       "    </tr>\n",
       "    <tr>\n",
       "      <th>32</th>\n",
       "      <td>North Carolina</td>\n",
       "      <td>NC</td>\n",
       "      <td>Sul</td>\n",
       "    </tr>\n",
       "    <tr>\n",
       "      <th>33</th>\n",
       "      <td>North Dakota</td>\n",
       "      <td>ND</td>\n",
       "      <td>Meio-Oeste</td>\n",
       "    </tr>\n",
       "    <tr>\n",
       "      <th>34</th>\n",
       "      <td>Ohio</td>\n",
       "      <td>OH</td>\n",
       "      <td>Meio-Oeste</td>\n",
       "    </tr>\n",
       "    <tr>\n",
       "      <th>35</th>\n",
       "      <td>Oklahoma</td>\n",
       "      <td>OK</td>\n",
       "      <td>Meio-Oeste</td>\n",
       "    </tr>\n",
       "    <tr>\n",
       "      <th>36</th>\n",
       "      <td>Oregon</td>\n",
       "      <td>OR</td>\n",
       "      <td>Oeste</td>\n",
       "    </tr>\n",
       "    <tr>\n",
       "      <th>37</th>\n",
       "      <td>Pennsylvania</td>\n",
       "      <td>PA</td>\n",
       "      <td>Nordeste</td>\n",
       "    </tr>\n",
       "    <tr>\n",
       "      <th>38</th>\n",
       "      <td>Rhode Island</td>\n",
       "      <td>RI</td>\n",
       "      <td>Nordeste</td>\n",
       "    </tr>\n",
       "    <tr>\n",
       "      <th>39</th>\n",
       "      <td>South Carolina</td>\n",
       "      <td>SC</td>\n",
       "      <td>Sul</td>\n",
       "    </tr>\n",
       "    <tr>\n",
       "      <th>40</th>\n",
       "      <td>South Dakota</td>\n",
       "      <td>SD</td>\n",
       "      <td>Meio-Oeste</td>\n",
       "    </tr>\n",
       "    <tr>\n",
       "      <th>41</th>\n",
       "      <td>Tennessee</td>\n",
       "      <td>TN</td>\n",
       "      <td>Sul</td>\n",
       "    </tr>\n",
       "    <tr>\n",
       "      <th>42</th>\n",
       "      <td>Texas</td>\n",
       "      <td>TX</td>\n",
       "      <td>Sul</td>\n",
       "    </tr>\n",
       "    <tr>\n",
       "      <th>43</th>\n",
       "      <td>Utah</td>\n",
       "      <td>UT</td>\n",
       "      <td>Oeste</td>\n",
       "    </tr>\n",
       "    <tr>\n",
       "      <th>44</th>\n",
       "      <td>Vermont</td>\n",
       "      <td>VT</td>\n",
       "      <td>Nordeste</td>\n",
       "    </tr>\n",
       "    <tr>\n",
       "      <th>45</th>\n",
       "      <td>Virginia</td>\n",
       "      <td>VA</td>\n",
       "      <td>Sul</td>\n",
       "    </tr>\n",
       "    <tr>\n",
       "      <th>46</th>\n",
       "      <td>Washington</td>\n",
       "      <td>WA</td>\n",
       "      <td>Oeste</td>\n",
       "    </tr>\n",
       "    <tr>\n",
       "      <th>47</th>\n",
       "      <td>West Virginia</td>\n",
       "      <td>WV</td>\n",
       "      <td>Sul</td>\n",
       "    </tr>\n",
       "    <tr>\n",
       "      <th>48</th>\n",
       "      <td>Wisconsin</td>\n",
       "      <td>WI</td>\n",
       "      <td>Meio-Oeste</td>\n",
       "    </tr>\n",
       "    <tr>\n",
       "      <th>49</th>\n",
       "      <td>Wyoming</td>\n",
       "      <td>WY</td>\n",
       "      <td>Oeste</td>\n",
       "    </tr>\n",
       "  </tbody>\n",
       "</table>\n",
       "</div>"
      ],
      "text/plain": [
       "             state state_code      region\n",
       "0          Alabama         AL         Sul\n",
       "1           Alaska         AK       Oeste\n",
       "2          Arizona         AZ       Oeste\n",
       "3         Arkansas         AR         Sul\n",
       "4       California         CA       Oeste\n",
       "5         Colorado         CO       Oeste\n",
       "6      Connecticut         CT    Nordeste\n",
       "7         Delaware         DE    Nordeste\n",
       "8          Florida         FL         Sul\n",
       "9          Georgia         GA         Sul\n",
       "10          Hawaii         HI       Oeste\n",
       "11           Idaho         ID       Oeste\n",
       "12        Illinois         IL  Meio-Oeste\n",
       "13         Indiana         IN  Meio-Oeste\n",
       "14            Iowa         IA  Meio-Oeste\n",
       "15          Kansas         KS  Meio-Oeste\n",
       "16        Kentucky         KY         Sul\n",
       "17       Louisiana         LA         Sul\n",
       "18           Maine         ME    Nordeste\n",
       "19        Maryland         MD    Nordeste\n",
       "20   Massachusetts         MA    Nordeste\n",
       "21        Michigan         MI  Meio-Oeste\n",
       "22       Minnesota         MN  Meio-Oeste\n",
       "23     Mississippi         MS         Sul\n",
       "24        Missouri         MO  Meio-Oeste\n",
       "25         Montana         MT       Oeste\n",
       "26        Nebraska         NE  Meio-Oeste\n",
       "27          Nevada         NV       Oeste\n",
       "28   New Hampshire         NH    Nordeste\n",
       "29      New Jersey         NJ    Nordeste\n",
       "30      New Mexico         NM       Oeste\n",
       "31        New York         NY    Nordeste\n",
       "32  North Carolina         NC         Sul\n",
       "33    North Dakota         ND  Meio-Oeste\n",
       "34            Ohio         OH  Meio-Oeste\n",
       "35        Oklahoma         OK  Meio-Oeste\n",
       "36          Oregon         OR       Oeste\n",
       "37    Pennsylvania         PA    Nordeste\n",
       "38    Rhode Island         RI    Nordeste\n",
       "39  South Carolina         SC         Sul\n",
       "40    South Dakota         SD  Meio-Oeste\n",
       "41       Tennessee         TN         Sul\n",
       "42           Texas         TX         Sul\n",
       "43            Utah         UT       Oeste\n",
       "44         Vermont         VT    Nordeste\n",
       "45        Virginia         VA         Sul\n",
       "46      Washington         WA       Oeste\n",
       "47   West Virginia         WV         Sul\n",
       "48       Wisconsin         WI  Meio-Oeste\n",
       "49         Wyoming         WY       Oeste"
      ]
     },
     "execution_count": 14,
     "metadata": {},
     "output_type": "execute_result"
    }
   ],
   "source": [
    "states_code"
   ]
  },
  {
   "cell_type": "code",
   "execution_count": 15,
   "id": "0e4dc50d",
   "metadata": {
    "ExecuteTime": {
     "end_time": "2023-12-05T15:21:19.240063Z",
     "start_time": "2023-12-05T15:21:19.234480Z"
    }
   },
   "outputs": [],
   "source": [
    "features = features.merge(states_code, on='state', how='left')"
   ]
  }
 ],
 "metadata": {
  "kernelspec": {
   "display_name": "Python 3 (ipykernel)",
   "language": "python",
   "name": "python3"
  },
  "language_info": {
   "codemirror_mode": {
    "name": "ipython",
    "version": 3
   },
   "file_extension": ".py",
   "mimetype": "text/x-python",
   "name": "python",
   "nbconvert_exporter": "python",
   "pygments_lexer": "ipython3",
   "version": "3.10.12"
  }
 },
 "nbformat": 4,
 "nbformat_minor": 5
}
